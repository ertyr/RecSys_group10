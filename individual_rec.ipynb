{
 "cells": [
  {
   "cell_type": "markdown",
   "id": "bdb4267b0fa72da5",
   "metadata": {
    "collapsed": false
   },
   "source": [
    "# Job Dataset Exploration"
   ]
  },
  {
   "cell_type": "code",
   "execution_count": 2,
   "id": "775c8fc9fbec9f7",
   "metadata": {
    "ExecuteTime": {
     "end_time": "2023-09-21T08:17:06.713096700Z",
     "start_time": "2023-09-21T08:17:06.616521Z"
    },
    "collapsed": false
   },
   "outputs": [
    {
     "name": "stderr",
     "output_type": "stream",
     "text": [
      "could not load LIBBLAS: Could not find module 'libblas' (or one of its dependencies). Try using the full path with constructor syntax.\n"
     ]
    }
   ],
   "source": [
    "import pandas as pd\n",
    "import numpy as np\n",
    "from lenskit.algorithms import Recommender\n",
    "from lenskit.algorithms.user_knn import UserUser\n",
    "from lenskit.algorithms import Recommender\n",
    "from lenskit.algorithms.user_knn import UserUser\n",
    "\n",
    "# read the data (about applications)\n",
    "data = pd.read_csv('dataset/apps.tsv', delimiter='\\t')\n",
    "#display(data.head(10)) # check data being read properly\n",
    "\n",
    "# extract relevant data\n",
    "df_ui = data[[\"UserID\", \"JobID\"]]\n",
    "#display(df_ui.head(10)) # check data being read properly\n",
    "\n",
    "# construct dataframe in format (user, item, rating) via column addition\n",
    "df_ui.insert(2, \"rating\", np.full((df_ui.shape[0], 1), 1, float))\n",
    "df_ui = df_ui.rename(columns={\"UserID\": \"user\", \"JobID\": \"item\"})\n",
    "#display(df_ui.head(10)) # check data being read properly\n",
    "\n",
    "\n",
    "# Compute nearest neighbours\n",
    "userID = 203\n",
    "itemID = 602298\n",
    "ratings = df_ui[df_ui['user'] == userID]\n",
    "ratings2 = ratings[['item', 'rating']]\n",
    "ratings2 = ratings2.set_index('item')\n",
    "\n",
    "\n",
    "# We use the collaborative user algorithm UserUser, that use the nearest neighbors \n",
    "num_recs = 10  # Number of recommendations to generate\n",
    "user_user = UserUser(15, min_nbrs=3)  # Minimum (3) and maximum (15) number of neighbors to consider\n",
    "recsys = Recommender.adapt(user_user)\n",
    "recsys.fit(ratings)\n",
    "\n",
    "selected_movies_useruser = recsys.recommend(203, 10) # generate 10 recommendations for the selected user "
   ]
  }
 ],
 "metadata": {
  "kernelspec": {
   "display_name": "Python 3",
   "language": "python",
   "name": "python3"
  },
  "language_info": {
   "codemirror_mode": {
    "name": "ipython",
    "version": 3
   },
   "file_extension": ".py",
   "mimetype": "text/x-python",
   "name": "python",
   "nbconvert_exporter": "python",
   "pygments_lexer": "ipython3",
   "version": "3.9.12"
  }
 },
 "nbformat": 4,
 "nbformat_minor": 5
}
