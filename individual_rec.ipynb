{
 "cells": [
  {
   "cell_type": "markdown",
   "id": "bdb4267b0fa72da5",
   "metadata": {
    "collapsed": false
   },
   "source": [
    "# Job Dataset Exploration"
   ]
  },
  {
   "cell_type": "code",
   "execution_count": 1,
   "id": "a02e7e7f",
   "metadata": {},
   "outputs": [],
   "source": [
    "import pandas as pd\n",
    "import numpy as np\n",
    "from lenskit.algorithms import Recommender\n",
    "from lenskit.algorithms.user_knn import UserUser\n",
    "from lenskit.algorithms import user_knn\n",
    "from lenskit.algorithms import Recommender\n",
    "from lenskit.algorithms.user_knn import UserUser"
   ]
  },
  {
   "cell_type": "code",
   "execution_count": 2,
   "id": "42c9b818",
   "metadata": {},
   "outputs": [
    {
     "name": "stderr",
     "output_type": "stream",
     "text": [
      "/var/folders/vt/47mxbcvj5rd7mmyk053h49m00000gn/T/ipykernel_67278/1825902803.py:1: FutureWarning: The error_bad_lines argument has been deprecated and will be removed in a future version. Use on_bad_lines in the future.\n",
      "\n",
      "\n",
      "  jobs_data = pd.read_csv(\"dataset/splitjobs/jobs1.tsv\", sep='\\t', error_bad_lines=False)\n",
      "b'Skipping line 122433: expected 11 fields, saw 12\\n'\n",
      "/var/folders/vt/47mxbcvj5rd7mmyk053h49m00000gn/T/ipykernel_67278/1825902803.py:1: DtypeWarning: Columns (8) have mixed types. Specify dtype option on import or set low_memory=False.\n",
      "  jobs_data = pd.read_csv(\"dataset/splitjobs/jobs1.tsv\", sep='\\t', error_bad_lines=False)\n"
     ]
    }
   ],
   "source": [
    "jobs_data = pd.read_csv(\"dataset/splitjobs/jobs1.tsv\", sep='\\t', error_bad_lines=False)\n",
    "jobs_df = jobs_data[[\"JobID\", \"Title\"]]\n",
    "jobs_df = jobs_df.rename(columns={\"JobID\": \"item\", \"Title\": \"title\"})"
   ]
  },
  {
   "cell_type": "code",
   "execution_count": 3,
   "id": "f2ccbbbb",
   "metadata": {},
   "outputs": [],
   "source": [
    "def spaceBreak(data : pd.DataFrame) -> pd.DataFrame:\n",
    "    listJobs = []\n",
    "    listUsers = []\n",
    "    for r in range(len(data)): # break into two separate lists\n",
    "\n",
    "        id = data.loc[r, \"UserId\"]\n",
    "        JobIds = data.loc[r, \"JobIds\"]\n",
    "        if (str(JobIds)!=\"nan\"): # need to deal with nans because there are some users without any popular jobs\n",
    "            JobIds_lst = JobIds.split()\n",
    "            listJobs.append(JobIds_lst)\n",
    "        else: \n",
    "            listJobs.append([])\n",
    "        listUsers.append(id)\n",
    "\n",
    "    data_split = pd.DataFrame(columns=['UserId', 'JobIds'])\n",
    "    # create new dataframe from separate lists\n",
    "    for i in range(len(listUsers)):\n",
    "        id = listUsers[i]\n",
    "        JobIds_lst = listJobs[i]\n",
    "        for jobIndex in range(len(JobIds_lst)):\n",
    "            new_row = {'UserId':id, 'JobIds':JobIds_lst[jobIndex]}\n",
    "            data_split.loc[len(data_split)] = new_row\n",
    "\n",
    "    return data_split"
   ]
  },
  {
   "cell_type": "code",
   "execution_count": 4,
   "id": "9c1ece80",
   "metadata": {},
   "outputs": [
    {
     "data": {
      "text/html": [
       "<div>\n",
       "<style scoped>\n",
       "    .dataframe tbody tr th:only-of-type {\n",
       "        vertical-align: middle;\n",
       "    }\n",
       "\n",
       "    .dataframe tbody tr th {\n",
       "        vertical-align: top;\n",
       "    }\n",
       "\n",
       "    .dataframe thead th {\n",
       "        text-align: right;\n",
       "    }\n",
       "</style>\n",
       "<table border=\"1\" class=\"dataframe\">\n",
       "  <thead>\n",
       "    <tr style=\"text-align: right;\">\n",
       "      <th></th>\n",
       "      <th>UserId</th>\n",
       "      <th>JobIds</th>\n",
       "    </tr>\n",
       "  </thead>\n",
       "  <tbody>\n",
       "    <tr>\n",
       "      <th>0</th>\n",
       "      <td>47</td>\n",
       "      <td>357049 688334 245041 2102 982331 979937 821993...</td>\n",
       "    </tr>\n",
       "    <tr>\n",
       "      <th>1</th>\n",
       "      <td>72</td>\n",
       "      <td>1105054 1009975 884374 584456 960607 946809 94...</td>\n",
       "    </tr>\n",
       "    <tr>\n",
       "      <th>2</th>\n",
       "      <td>80</td>\n",
       "      <td>1073864 87383 899228 780304 919103 253916 5641...</td>\n",
       "    </tr>\n",
       "    <tr>\n",
       "      <th>3</th>\n",
       "      <td>98</td>\n",
       "      <td>569269 405679 276119 196084 578178 749036 8775...</td>\n",
       "    </tr>\n",
       "    <tr>\n",
       "      <th>4</th>\n",
       "      <td>123</td>\n",
       "      <td>794726 267838 1101979 1097477 1080147 132019 1...</td>\n",
       "    </tr>\n",
       "    <tr>\n",
       "      <th>5</th>\n",
       "      <td>131</td>\n",
       "      <td>218261 518070 565974 511687 617448 652233 4642...</td>\n",
       "    </tr>\n",
       "    <tr>\n",
       "      <th>6</th>\n",
       "      <td>162</td>\n",
       "      <td>611312 431641 1051911 791614 651211 1062849 82...</td>\n",
       "    </tr>\n",
       "    <tr>\n",
       "      <th>7</th>\n",
       "      <td>178</td>\n",
       "      <td>182619 1100604 1006934 306681 157929 639788 15...</td>\n",
       "    </tr>\n",
       "    <tr>\n",
       "      <th>8</th>\n",
       "      <td>203</td>\n",
       "      <td>921903 776147 613977 296155 923520 919286 8408...</td>\n",
       "    </tr>\n",
       "    <tr>\n",
       "      <th>9</th>\n",
       "      <td>344</td>\n",
       "      <td>901261 886892 601784 901277 554856 334018 5195...</td>\n",
       "    </tr>\n",
       "  </tbody>\n",
       "</table>\n",
       "</div>"
      ],
      "text/plain": [
       "   UserId                                             JobIds\n",
       "0      47  357049 688334 245041 2102 982331 979937 821993...\n",
       "1      72  1105054 1009975 884374 584456 960607 946809 94...\n",
       "2      80  1073864 87383 899228 780304 919103 253916 5641...\n",
       "3      98  569269 405679 276119 196084 578178 749036 8775...\n",
       "4     123  794726 267838 1101979 1097477 1080147 132019 1...\n",
       "5     131  218261 518070 565974 511687 617448 652233 4642...\n",
       "6     162  611312 431641 1051911 791614 651211 1062849 82...\n",
       "7     178  182619 1100604 1006934 306681 157929 639788 15...\n",
       "8     203  921903 776147 613977 296155 923520 919286 8408...\n",
       "9     344  901261 886892 601784 901277 554856 334018 5195..."
      ]
     },
     "metadata": {},
     "output_type": "display_data"
    },
    {
     "data": {
      "text/html": [
       "<div>\n",
       "<style scoped>\n",
       "    .dataframe tbody tr th:only-of-type {\n",
       "        vertical-align: middle;\n",
       "    }\n",
       "\n",
       "    .dataframe tbody tr th {\n",
       "        vertical-align: top;\n",
       "    }\n",
       "\n",
       "    .dataframe thead th {\n",
       "        text-align: right;\n",
       "    }\n",
       "</style>\n",
       "<table border=\"1\" class=\"dataframe\">\n",
       "  <thead>\n",
       "    <tr style=\"text-align: right;\">\n",
       "      <th></th>\n",
       "      <th>UserId</th>\n",
       "      <th>JobIds</th>\n",
       "    </tr>\n",
       "  </thead>\n",
       "  <tbody>\n",
       "    <tr>\n",
       "      <th>0</th>\n",
       "      <td>47</td>\n",
       "      <td>357049</td>\n",
       "    </tr>\n",
       "    <tr>\n",
       "      <th>1</th>\n",
       "      <td>47</td>\n",
       "      <td>688334</td>\n",
       "    </tr>\n",
       "    <tr>\n",
       "      <th>2</th>\n",
       "      <td>47</td>\n",
       "      <td>245041</td>\n",
       "    </tr>\n",
       "    <tr>\n",
       "      <th>3</th>\n",
       "      <td>47</td>\n",
       "      <td>2102</td>\n",
       "    </tr>\n",
       "    <tr>\n",
       "      <th>4</th>\n",
       "      <td>47</td>\n",
       "      <td>982331</td>\n",
       "    </tr>\n",
       "    <tr>\n",
       "      <th>5</th>\n",
       "      <td>47</td>\n",
       "      <td>979937</td>\n",
       "    </tr>\n",
       "    <tr>\n",
       "      <th>6</th>\n",
       "      <td>47</td>\n",
       "      <td>821993</td>\n",
       "    </tr>\n",
       "    <tr>\n",
       "      <th>7</th>\n",
       "      <td>47</td>\n",
       "      <td>711528</td>\n",
       "    </tr>\n",
       "    <tr>\n",
       "      <th>8</th>\n",
       "      <td>47</td>\n",
       "      <td>687409</td>\n",
       "    </tr>\n",
       "    <tr>\n",
       "      <th>9</th>\n",
       "      <td>47</td>\n",
       "      <td>626510</td>\n",
       "    </tr>\n",
       "  </tbody>\n",
       "</table>\n",
       "</div>"
      ],
      "text/plain": [
       "   UserId  JobIds\n",
       "0      47  357049\n",
       "1      47  688334\n",
       "2      47  245041\n",
       "3      47    2102\n",
       "4      47  982331\n",
       "5      47  979937\n",
       "6      47  821993\n",
       "7      47  711528\n",
       "8      47  687409\n",
       "9      47  626510"
      ]
     },
     "metadata": {},
     "output_type": "display_data"
    }
   ],
   "source": [
    "# test code block above:\n",
    "popular_data = pd.read_csv(\"dataset/popular_jobs_full.csv\", sep=',')\n",
    "popular_data = popular_data.head(200)\n",
    "display(popular_data.head(10))\n",
    "popular_data = spaceBreak(popular_data)\n",
    "display(popular_data.head(10))"
   ]
  },
  {
   "cell_type": "code",
   "execution_count": null,
   "id": "62aafa38",
   "metadata": {},
   "outputs": [],
   "source": [
    "# TAKES THREE MINUTES, but does everything correctly (2m 25s)\n",
    "popular_data = pd.read_csv(\"dataset/popular_jobs_full.csv\", sep=',')\n",
    "#popular_data = popular_data.assign(JobIds=popular_data['JobIds'].str.split(' ')).explode('JobIds', ignore_index=True)\n",
    "popular_data = spaceBreak(popular_data)\n",
    "display(popular_data.head(10))\n"
   ]
  },
  {
   "cell_type": "code",
   "execution_count": null,
   "id": "775c8fc9fbec9f7",
   "metadata": {
    "ExecuteTime": {
     "end_time": "2023-09-21T08:17:06.713096700Z",
     "start_time": "2023-09-21T08:17:06.616521Z"
    },
    "collapsed": false
   },
   "outputs": [],
   "source": [
    "# read the data (about applications)\n",
    "data = pd.read_csv('dataset/apps.tsv', delimiter='\\t')\n",
    "#display(data.head(10)) # check data being read properly\n",
    "\n",
    "# extract relevant data\n",
    "df_ui = data[[\"UserID\", \"JobID\"]]\n",
    "#display(df_ui.head(10)) # check data being read properly\n",
    "\n",
    "# construct dataframe in format (user, item, rating) via column addition\n",
    "#df_ui.insert(2, \"rating\", np.random.rand(df_ui.shape[0],1))  \n",
    "df_ui.insert(2, \"rating\", np.random.randint(0,2,df_ui.shape[0]))\n",
    "df_ui = df_ui.rename(columns={\"UserID\": \"user\", \"JobID\": \"item\"})\n",
    "display(df_ui.head(10)) # check data being read properly"
   ]
  },
  {
   "cell_type": "code",
   "execution_count": null,
   "id": "d9f49771",
   "metadata": {},
   "outputs": [],
   "source": [
    "user_id = 47\n",
    "# We use the collaborative user algorithm UserUser, that use the nearest neighbors \n",
    "user_user = UserUser(15, min_nbrs=3)  # Minimum (3) and maximum (15) number of neighbors to consider\n",
    "recsys = Recommender.adapt(user_user)\n",
    "recsys.fit(df_ui)"
   ]
  },
  {
   "cell_type": "code",
   "execution_count": null,
   "id": "d6ca6194",
   "metadata": {},
   "outputs": [],
   "source": [
    "selected_jobs = recsys.recommend(user_id, 100) # generate 10 recommendations for the selected user\n",
    "display(selected_jobs.head(10))\n",
    "# score - doesn't matter cause arbitrary value showing recommendation priority\n",
    "# sometimes ipynb doesn't reset the variables -> gives stupid errors (solution shove everything into one kernel/ block)\n",
    "\n",
    "selected_jobs = selected_jobs.join(jobs_df.set_index('item'), on='item')\n",
    "display(selected_jobs.head(10))\n",
    "\n"
   ]
  }
 ],
 "metadata": {
  "kernelspec": {
   "display_name": "Python 3",
   "language": "python",
   "name": "python3"
  },
  "language_info": {
   "codemirror_mode": {
    "name": "ipython",
    "version": 3
   },
   "file_extension": ".py",
   "mimetype": "text/x-python",
   "name": "python",
   "nbconvert_exporter": "python",
   "pygments_lexer": "ipython3",
   "version": "3.9.12"
  }
 },
 "nbformat": 4,
 "nbformat_minor": 5
}
