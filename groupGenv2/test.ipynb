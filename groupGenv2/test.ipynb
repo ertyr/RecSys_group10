{
 "cells": [
  {
   "cell_type": "code",
   "execution_count": 5,
   "metadata": {},
   "outputs": [],
   "source": [
    "## Import packages\n",
    "import pandas as pd\n",
    "import numpy as np\n",
    "import os.path\n",
    "from util import GroupsGenerator\n",
    "from util import SimilarGroupsGenerator"
   ]
  },
  {
   "cell_type": "code",
   "execution_count": 17,
   "metadata": {},
   "outputs": [],
   "source": [
    "## Methods\n",
    "def elimNeg(x):\n",
    "    \"\"\"Eliminate neagtives\"\"\"\n",
    "    if x < 0.0:\n",
    "        return 0.0\n",
    "    return x\n",
    "\n",
    "## Do the parameter set_up for groupGeneration\n",
    "group_size = 20\n",
    "group_number = 20\n",
    "pathToUserMatrix = \"user_matrix_train_pivot_01.pkl\"\n",
    "sim_thrh = 0.8"
   ]
  },
  {
   "cell_type": "code",
   "execution_count": 32,
   "metadata": {},
   "outputs": [
    {
     "data": {
      "text/html": [
       "<div>\n",
       "<style scoped>\n",
       "    .dataframe tbody tr th:only-of-type {\n",
       "        vertical-align: middle;\n",
       "    }\n",
       "\n",
       "    .dataframe tbody tr th {\n",
       "        vertical-align: top;\n",
       "    }\n",
       "\n",
       "    .dataframe thead th {\n",
       "        text-align: right;\n",
       "    }\n",
       "</style>\n",
       "<table border=\"1\" class=\"dataframe\">\n",
       "  <thead>\n",
       "    <tr style=\"text-align: right;\">\n",
       "      <th></th>\n",
       "      <th>user</th>\n",
       "      <th>item</th>\n",
       "      <th>rating</th>\n",
       "    </tr>\n",
       "  </thead>\n",
       "  <tbody>\n",
       "    <tr>\n",
       "      <th>58019</th>\n",
       "      <td>1334892</td>\n",
       "      <td>142784</td>\n",
       "      <td>1</td>\n",
       "    </tr>\n",
       "    <tr>\n",
       "      <th>58020</th>\n",
       "      <td>1334892</td>\n",
       "      <td>1109369</td>\n",
       "      <td>-1</td>\n",
       "    </tr>\n",
       "    <tr>\n",
       "      <th>58021</th>\n",
       "      <td>1334892</td>\n",
       "      <td>1109931</td>\n",
       "      <td>-1</td>\n",
       "    </tr>\n",
       "    <tr>\n",
       "      <th>58022</th>\n",
       "      <td>1334892</td>\n",
       "      <td>1113084</td>\n",
       "      <td>-1</td>\n",
       "    </tr>\n",
       "    <tr>\n",
       "      <th>58023</th>\n",
       "      <td>1334892</td>\n",
       "      <td>1106746</td>\n",
       "      <td>-1</td>\n",
       "    </tr>\n",
       "    <tr>\n",
       "      <th>...</th>\n",
       "      <td>...</td>\n",
       "      <td>...</td>\n",
       "      <td>...</td>\n",
       "    </tr>\n",
       "    <tr>\n",
       "      <th>241844</th>\n",
       "      <td>1470416</td>\n",
       "      <td>1103712</td>\n",
       "      <td>1</td>\n",
       "    </tr>\n",
       "    <tr>\n",
       "      <th>241845</th>\n",
       "      <td>1470416</td>\n",
       "      <td>338735</td>\n",
       "      <td>1</td>\n",
       "    </tr>\n",
       "    <tr>\n",
       "      <th>241846</th>\n",
       "      <td>1470416</td>\n",
       "      <td>1042356</td>\n",
       "      <td>1</td>\n",
       "    </tr>\n",
       "    <tr>\n",
       "      <th>241847</th>\n",
       "      <td>1471233</td>\n",
       "      <td>1114014</td>\n",
       "      <td>-1</td>\n",
       "    </tr>\n",
       "    <tr>\n",
       "      <th>241848</th>\n",
       "      <td>1471233</td>\n",
       "      <td>1113501</td>\n",
       "      <td>-1</td>\n",
       "    </tr>\n",
       "  </tbody>\n",
       "</table>\n",
       "<p>24799 rows × 3 columns</p>\n",
       "</div>"
      ],
      "text/plain": [
       "           user     item  rating\n",
       "58019   1334892   142784       1\n",
       "58020   1334892  1109369      -1\n",
       "58021   1334892  1109931      -1\n",
       "58022   1334892  1113084      -1\n",
       "58023   1334892  1106746      -1\n",
       "...         ...      ...     ...\n",
       "241844  1470416  1103712       1\n",
       "241845  1470416   338735       1\n",
       "241846  1470416  1042356       1\n",
       "241847  1471233  1114014      -1\n",
       "241848  1471233  1113501      -1\n",
       "\n",
       "[24799 rows x 3 columns]"
      ]
     },
     "metadata": {},
     "output_type": "display_data"
    }
   ],
   "source": [
    "## Get the data and elminate Tine's negative ones\n",
    "ratings_df = pd.read_csv(\"../dataset/clean/user_ratings_neg_1000_20_20_1_train.csv\") \n",
    "ratings_df= ratings_df.drop(columns=['Unnamed: 0'])\n",
    "#ratings_df[\"Rating\"] = ratings_df[\"Rating\"].apply(lambda x: elimNeg(x))\n",
    "ratings_df[\"Rating\"] = ratings_df[\"Rating\"] # don't elminate Tine's -1s\n",
    "# rename the columns in an appropriate way\n",
    "ratings_df = ratings_df.rename(columns={\"UserID\": \"user\", \"JobID\": \"item\", \"Rating\": \"rating\"})\n",
    "display(ratings_df[ratings_df[\"user\"]>=1334790])"
   ]
  },
  {
   "cell_type": "code",
   "execution_count": 18,
   "metadata": {},
   "outputs": [],
   "source": [
    "## Start the pivoting\n",
    "user_matrix = pd.read_pickle(pathToUserMatrix) \n"
   ]
  },
  {
   "cell_type": "code",
   "execution_count": 29,
   "metadata": {},
   "outputs": [
    {
     "data": {
      "text/plain": [
       "False"
      ]
     },
     "metadata": {},
     "output_type": "display_data"
    }
   ],
   "source": [
    "## Compute the correlation coefficent for every user\n",
    "user_id_set = set(ratings_df['user'])\n",
    "display(1304911 in user_id_set) # not in \"ratings_df\" hence not in user_id_set\n",
    "user_id_indexes = user_matrix.index.values\n",
    "#display(user_id_indexes.tolist())\n",
    "user_matrix = user_matrix.fillna(0) # hmm looks like 1, -1 ratings starts to make sense\n",
    "numpy_array = user_matrix.to_numpy() \n",
    "sim_matrix = np.corrcoef(numpy_array) # comoute correlation coefficent matrix\n"
   ]
  },
  {
   "cell_type": "code",
   "execution_count": null,
   "metadata": {},
   "outputs": [],
   "source": [
    "## Generate groups\n",
    "grpGenerator = SimilarGroupsGenerator()\n",
    "current_list = grpGenerator.generateGroups(user_id_indexes, user_id_set, sim_matrix, group_size, group_number, sim_thrh)\n",
    "    \n",
    "print(pd.DataFrame.from_records(current_list))"
   ]
  }
 ],
 "metadata": {
  "kernelspec": {
   "display_name": "base",
   "language": "python",
   "name": "python3"
  },
  "language_info": {
   "codemirror_mode": {
    "name": "ipython",
    "version": 3
   },
   "file_extension": ".py",
   "mimetype": "text/x-python",
   "name": "python",
   "nbconvert_exporter": "python",
   "pygments_lexer": "ipython3",
   "version": "3.9.12"
  }
 },
 "nbformat": 4,
 "nbformat_minor": 2
}
