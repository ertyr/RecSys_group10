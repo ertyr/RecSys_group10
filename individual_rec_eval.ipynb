{
 "cells": [
  {
   "cell_type": "code",
   "execution_count": 1,
   "metadata": {},
   "outputs": [],
   "source": [
    "import pandas as pd\n",
    "import numpy as np\n",
    "from lenskit.algorithms import Recommender\n",
    "from lenskit.algorithms.user_knn import UserUser\n",
    "from lenskit.algorithms import user_knn\n",
    "from lenskit.algorithms import Recommender\n",
    "import warnings\n",
    "warnings.filterwarnings('ignore') # supress warning instead of printing them every time\n",
    "\n"
   ]
  },
  {
   "cell_type": "code",
   "execution_count": 8,
   "metadata": {},
   "outputs": [
    {
     "data": {
      "text/html": [
       "<div>\n",
       "<style scoped>\n",
       "    .dataframe tbody tr th:only-of-type {\n",
       "        vertical-align: middle;\n",
       "    }\n",
       "\n",
       "    .dataframe tbody tr th {\n",
       "        vertical-align: top;\n",
       "    }\n",
       "\n",
       "    .dataframe thead th {\n",
       "        text-align: right;\n",
       "    }\n",
       "</style>\n",
       "<table border=\"1\" class=\"dataframe\">\n",
       "  <thead>\n",
       "    <tr style=\"text-align: right;\">\n",
       "      <th></th>\n",
       "      <th>UserID</th>\n",
       "      <th>JobID</th>\n",
       "      <th>Rating</th>\n",
       "    </tr>\n",
       "  </thead>\n",
       "  <tbody>\n",
       "    <tr>\n",
       "      <th>0</th>\n",
       "      <td>47</td>\n",
       "      <td>169528</td>\n",
       "      <td>1</td>\n",
       "    </tr>\n",
       "    <tr>\n",
       "      <th>1</th>\n",
       "      <td>47</td>\n",
       "      <td>284009</td>\n",
       "      <td>1</td>\n",
       "    </tr>\n",
       "    <tr>\n",
       "      <th>2</th>\n",
       "      <td>72</td>\n",
       "      <td>834662</td>\n",
       "      <td>1</td>\n",
       "    </tr>\n",
       "    <tr>\n",
       "      <th>3</th>\n",
       "      <td>72</td>\n",
       "      <td>1020903</td>\n",
       "      <td>1</td>\n",
       "    </tr>\n",
       "    <tr>\n",
       "      <th>4</th>\n",
       "      <td>203</td>\n",
       "      <td>148976</td>\n",
       "      <td>1</td>\n",
       "    </tr>\n",
       "    <tr>\n",
       "      <th>...</th>\n",
       "      <td>...</td>\n",
       "      <td>...</td>\n",
       "      <td>...</td>\n",
       "    </tr>\n",
       "    <tr>\n",
       "      <th>335046</th>\n",
       "      <td>1471635</td>\n",
       "      <td>1018169</td>\n",
       "      <td>1</td>\n",
       "    </tr>\n",
       "    <tr>\n",
       "      <th>335047</th>\n",
       "      <td>1471635</td>\n",
       "      <td>532088</td>\n",
       "      <td>1</td>\n",
       "    </tr>\n",
       "    <tr>\n",
       "      <th>335048</th>\n",
       "      <td>1472089</td>\n",
       "      <td>395893</td>\n",
       "      <td>1</td>\n",
       "    </tr>\n",
       "    <tr>\n",
       "      <th>335049</th>\n",
       "      <td>1472089</td>\n",
       "      <td>638187</td>\n",
       "      <td>1</td>\n",
       "    </tr>\n",
       "    <tr>\n",
       "      <th>335050</th>\n",
       "      <td>1472089</td>\n",
       "      <td>1062444</td>\n",
       "      <td>1</td>\n",
       "    </tr>\n",
       "  </tbody>\n",
       "</table>\n",
       "<p>335051 rows × 3 columns</p>\n",
       "</div>"
      ],
      "text/plain": [
       "         UserID    JobID  Rating\n",
       "0            47   169528       1\n",
       "1            47   284009       1\n",
       "2            72   834662       1\n",
       "3            72  1020903       1\n",
       "4           203   148976       1\n",
       "...         ...      ...     ...\n",
       "335046  1471635  1018169       1\n",
       "335047  1471635   532088       1\n",
       "335048  1472089   395893       1\n",
       "335049  1472089   638187       1\n",
       "335050  1472089  1062444       1\n",
       "\n",
       "[335051 rows x 3 columns]"
      ]
     },
     "metadata": {},
     "output_type": "display_data"
    }
   ],
   "source": [
    "# Get the train and test data\n",
    "data_test = pd.read_csv(\"dataset/user_negative_ratings_test_full.csv\")\n",
    "data_train = pd.read_csv(\"dataset/user_negative_ratings_train_full.csv\")\n",
    "display(data_test)"
   ]
  },
  {
   "cell_type": "code",
   "execution_count": 3,
   "metadata": {},
   "outputs": [],
   "source": [
    "# Compute the user list to iterate through\n",
    "data_users = data_test[\"UserID\"].drop_duplicates()"
   ]
  },
  {
   "cell_type": "code",
   "execution_count": 7,
   "metadata": {},
   "outputs": [
    {
     "name": "stderr",
     "output_type": "stream",
     "text": [
      "OMP: Info #276: omp_set_nested routine deprecated, please use omp_set_max_active_levels instead.\n",
      "Numba is using threading layer omp - consider TBB\n",
      "found 1 potential runtime problems - see https://boi.st/lkpy-perf\n"
     ]
    },
    {
     "name": "stdout",
     "output_type": "stream",
     "text": [
      "0.47\n"
     ]
    }
   ],
   "source": [
    "# Create iteration loop for evaluation\n",
    "\n",
    "hitRate = 0.0 # counting hit rate\n",
    "testUserNum = 100.0 # number of test users to compute hit rate\n",
    "counter = 0\n",
    "\n",
    "for idx, user in data_users.items():\n",
    "\n",
    "    # keep track of how many users togo through\n",
    "    counter+=1\n",
    "    if (counter > testUserNum): break\n",
    "\n",
    "    # compute test instances\n",
    "    testInstances = data_test[data_test[\"UserID\"]==user] \n",
    "\n",
    "    # convert test instances to training instances\n",
    "    trainAddOn = data_test[data_test[\"UserID\"]!=user] \n",
    "    df_train = pd.concat([data_train, trainAddOn], ignore_index=True)\n",
    "    df_train = df_train.rename(columns={\"UserID\": \"user\", \"JobID\": \"item\", \"Rating\": \"rating\"})\n",
    "\n",
    "    # train on data\n",
    "    user_user = UserUser(15, min_nbrs=3)\n",
    "    recsys = Recommender.adapt(user_user)\n",
    "    recsys.fit(df_train)  \n",
    "\n",
    "    # Create recommendations\n",
    "    selected_jobs = recsys.recommend(user, 100)\n",
    "    \n",
    "    # check if any of the jobs is contained inside\n",
    "    for idx in testInstances.index:\n",
    "        job = testInstances.loc[idx, \"JobID\"]\n",
    "        # count one hit if job is in the list\n",
    "        if (selected_jobs[\"item\"] == job).any():\n",
    "            hitRate+=1\n",
    "            break \n",
    "    \n",
    "print(hitRate/testUserNum)\n"
   ]
  },
  {
   "cell_type": "markdown",
   "metadata": {},
   "source": [
    "Hitrate 0.52 with 10000 test users"
   ]
  }
 ],
 "metadata": {
  "kernelspec": {
   "display_name": "base",
   "language": "python",
   "name": "python3"
  },
  "language_info": {
   "codemirror_mode": {
    "name": "ipython",
    "version": 3
   },
   "file_extension": ".py",
   "mimetype": "text/x-python",
   "name": "python",
   "nbconvert_exporter": "python",
   "pygments_lexer": "ipython3",
   "version": "3.9.12"
  },
  "orig_nbformat": 4
 },
 "nbformat": 4,
 "nbformat_minor": 2
}
