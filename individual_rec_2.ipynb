{
 "cells": [
  {
   "cell_type": "markdown",
   "id": "bdb4267b0fa72da5",
   "metadata": {
    "collapsed": false
   },
   "source": [
    "# Job Dataset Exploration"
   ]
  },
  {
   "cell_type": "code",
   "execution_count": null,
   "metadata": {},
   "outputs": [],
   "source": [
    "import pandas as pd\n",
    "import numpy as np\n",
    "from lenskit.algorithms import Recommender\n",
    "from lenskit.algorithms.user_knn import UserUser\n",
    "from lenskit.algorithms import user_knn\n",
    "from lenskit.algorithms import Recommender\n",
    "from lenskit.algorithms.user_knn import UserUser"
   ]
  },
  {
   "cell_type": "code",
   "execution_count": null,
   "id": "42c9b818",
   "metadata": {},
   "outputs": [],
   "source": [
    "jobs_data = pd.read_csv(\"dataset/splitjobs/jobs1.tsv\", sep='\\t', error_bad_lines=False)\n",
    "jobs_df = jobs_data[[\"JobID\", \"Title\"]]\n",
    "jobs_df = jobs_df.rename(columns={\"JobID\": \"item\", \"Title\": \"title\"})"
   ]
  },
  {
   "cell_type": "code",
   "execution_count": null,
   "id": "4c69c0b2",
   "metadata": {},
   "outputs": [],
   "source": [
    "# Create function to use in next block\n",
    "def spaceFilter(df):\n",
    "    return df[\"JobIds\"]\n"
   ]
  },
  {
   "cell_type": "code",
   "execution_count": null,
   "id": "62aafa38",
   "metadata": {},
   "outputs": [],
   "source": [
    "popular_data = pd.read_csv(\"dataset/popular_jobs_full.csv\", sep=',')\n",
    "display(spaceFilter(popular_data).head())\n",
    "display(popular_data.head(10))\n"
   ]
  },
  {
   "cell_type": "code",
   "execution_count": null,
   "id": "775c8fc9fbec9f7",
   "metadata": {
    "ExecuteTime": {
     "end_time": "2023-09-21T08:17:06.713096700Z",
     "start_time": "2023-09-21T08:17:06.616521Z"
    },
    "collapsed": false
   },
   "outputs": [],
   "source": [
    "# read the data (about applications)\n",
    "data = pd.read_csv('dataset/apps.tsv', delimiter='\\t')\n",
    "#display(data.head(10)) # check data being read properly\n",
    "\n",
    "# extract relevant data\n",
    "df_ui = data[[\"UserID\", \"JobID\"]]\n",
    "#display(df_ui.head(10)) # check data being read properly\n",
    "\n",
    "# construct dataframe in format (user, item, rating) via column addition\n",
    "#df_ui.insert(2, \"rating\", np.random.rand(df_ui.shape[0],1))  \n",
    "df_ui.insert(2, \"rating\", np.random.randint(0,2,df_ui.shape[0]))\n",
    "df_ui = df_ui.rename(columns={\"UserID\": \"user\", \"JobID\": \"item\"})\n",
    "display(df_ui.head(10)) # check data being read properly"
   ]
  },
  {
   "cell_type": "code",
   "execution_count": null,
   "id": "d9f49771",
   "metadata": {},
   "outputs": [],
   "source": [
    "user_id = 47\n",
    "# We use the collaborative user algorithm UserUser, that use the nearest neighbors \n",
    "user_user = UserUser(15, min_nbrs=3)  # Minimum (3) and maximum (15) number of neighbors to consider\n",
    "recsys = Recommender.adapt(user_user)\n",
    "recsys.fit(df_ui)"
   ]
  },
  {
   "cell_type": "code",
   "execution_count": null,
   "id": "d6ca6194",
   "metadata": {},
   "outputs": [],
   "source": [
    "selected_jobs = recsys.recommend(user_id, 100) # generate 10 recommendations for the selected user\n",
    "display(selected_jobs.head(10))\n",
    "# score - doesn't matter cause arbitrary value showing recommendation priority\n",
    "# sometimes ipynb doesn't reset the variables -> gives stupid errors (solution shove everything into one kernel/ block)\n",
    "\n",
    "selected_jobs = selected_jobs.join(jobs_df.set_index('item'), on='item')\n",
    "display(selected_jobs.head(10))\n",
    "\n"
   ]
  }
 ],
 "metadata": {
  "kernelspec": {
   "display_name": "Python 3",
   "language": "python",
   "name": "python3"
  },
  "language_info": {
   "codemirror_mode": {
    "name": "ipython",
    "version": 3
   },
   "file_extension": ".py",
   "mimetype": "text/x-python",
   "name": "python",
   "nbconvert_exporter": "python",
   "pygments_lexer": "ipython3",
   "version": "3.9.12"
  }
 },
 "nbformat": 4,
 "nbformat_minor": 5
}
