{
 "cells": [
  {
   "cell_type": "code",
   "execution_count": 56,
   "metadata": {},
   "outputs": [],
   "source": [
    "## import packages\n",
    "from util import createGrps\n",
    "import pandas as pd\n",
    "import numpy as np\n",
    "from lenskit.algorithms import Recommender\n",
    "from lenskit.algorithms import Predictor\n",
    "from lenskit.algorithms.user_knn import UserUser\n",
    "from lenskit import batch\n",
    "import sys"
   ]
  },
  {
   "cell_type": "code",
   "execution_count": 57,
   "metadata": {},
   "outputs": [],
   "source": [
    "## Get the training data and train the user-user collaborative filterring\n",
    "# read the data (about applications)\n",
    "# TODO: replace by Tine's filter  data\n",
    "data = pd.read_csv('../dataset/user_ratings_neg_1000_20_20_1.csv', delimiter=',')\n",
    "\n",
    "# load user data\n",
    "user_data = pd.read_csv('../dataset/users.tsv', sep='\\t')"
   ]
  },
  {
   "cell_type": "code",
   "execution_count": 58,
   "metadata": {},
   "outputs": [],
   "source": [
    "def cap(x):\n",
    "    if x > 1.0:\n",
    "        return 1.0\n",
    "    elif x < 0.0:\n",
    "        return 0.0\n",
    "    return x "
   ]
  },
  {
   "cell_type": "code",
   "execution_count": 61,
   "metadata": {},
   "outputs": [
    {
     "ename": "ValueError",
     "evalue": "empty range for randrange() (0, 0, 0)",
     "output_type": "error",
     "traceback": [
      "\u001b[1;31m---------------------------------------------------------------------------\u001b[0m",
      "\u001b[1;31mValueError\u001b[0m                                Traceback (most recent call last)",
      "\u001b[1;32mc:\\GitHub\\RecSys_group5\\groupAgg\\groupAggregation.ipynb Cell 4\u001b[0m line \u001b[0;36m8\n\u001b[0;32m      <a href='vscode-notebook-cell:/c%3A/GitHub/RecSys_group5/groupAgg/groupAggregation.ipynb#W3sZmlsZQ%3D%3D?line=4'>5</a>\u001b[0m seed \u001b[39m=\u001b[39m \u001b[39m12345\u001b[39m\n\u001b[0;32m      <a href='vscode-notebook-cell:/c%3A/GitHub/RecSys_group5/groupAgg/groupAggregation.ipynb#W3sZmlsZQ%3D%3D?line=6'>7</a>\u001b[0m \u001b[39m# generate synthetic groups of users and display them\u001b[39;00m\n\u001b[1;32m----> <a href='vscode-notebook-cell:/c%3A/GitHub/RecSys_group5/groupAgg/groupAggregation.ipynb#W3sZmlsZQ%3D%3D?line=7'>8</a>\u001b[0m groups2 \u001b[39m=\u001b[39m createGrps(pd\u001b[39m.\u001b[39;49mread_csv(\u001b[39m'\u001b[39;49m\u001b[39m../dataset/users.tsv\u001b[39;49m\u001b[39m'\u001b[39;49m, sep\u001b[39m=\u001b[39;49m\u001b[39m'\u001b[39;49m\u001b[39m\\t\u001b[39;49;00m\u001b[39m'\u001b[39;49m), \u001b[39m10\u001b[39;49m, \u001b[39m10\u001b[39;49m, \u001b[39m12345\u001b[39;49m)\n\u001b[0;32m      <a href='vscode-notebook-cell:/c%3A/GitHub/RecSys_group5/groupAgg/groupAggregation.ipynb#W3sZmlsZQ%3D%3D?line=8'>9</a>\u001b[0m display(groups2)\n",
      "File \u001b[1;32mc:\\GitHub\\RecSys_group5\\groupAgg\\util.py:81\u001b[0m, in \u001b[0;36mcreateGrps\u001b[1;34m(user_data, size, grpNum, seed)\u001b[0m\n\u001b[0;32m     78\u001b[0m stateLen \u001b[39m=\u001b[39m \u001b[39mlen\u001b[39m(state_col)\n\u001b[0;32m     80\u001b[0m \u001b[39m# After selecting one of three large groups split by random state\u001b[39;00m\n\u001b[1;32m---> 81\u001b[0m rndState \u001b[39m=\u001b[39m random\u001b[39m.\u001b[39;49mrandint(\u001b[39m0\u001b[39;49m,stateLen\u001b[39m-\u001b[39;49m\u001b[39m1\u001b[39;49m)\n\u001b[0;32m     82\u001b[0m stt \u001b[39m=\u001b[39m state_col[\u001b[39m\"\u001b[39m\u001b[39mState\u001b[39m\u001b[39m\"\u001b[39m]\u001b[39m.\u001b[39mloc[rndState]\n\u001b[0;32m     83\u001b[0m working_data \u001b[39m=\u001b[39m working_data[working_data[\u001b[39m\"\u001b[39m\u001b[39mState\u001b[39m\u001b[39m\"\u001b[39m]\u001b[39m==\u001b[39mstt]\n",
      "File \u001b[1;32mc:\\Users\\domin\\anaconda3\\envs\\rcsys\\lib\\random.py:370\u001b[0m, in \u001b[0;36mRandom.randint\u001b[1;34m(self, a, b)\u001b[0m\n\u001b[0;32m    366\u001b[0m \u001b[39mdef\u001b[39;00m \u001b[39mrandint\u001b[39m(\u001b[39mself\u001b[39m, a, b):\n\u001b[0;32m    367\u001b[0m \u001b[39m    \u001b[39m\u001b[39m\"\"\"Return random integer in range [a, b], including both end points.\u001b[39;00m\n\u001b[0;32m    368\u001b[0m \u001b[39m    \"\"\"\u001b[39;00m\n\u001b[1;32m--> 370\u001b[0m     \u001b[39mreturn\u001b[39;00m \u001b[39mself\u001b[39;49m\u001b[39m.\u001b[39;49mrandrange(a, b\u001b[39m+\u001b[39;49m\u001b[39m1\u001b[39;49m)\n",
      "File \u001b[1;32mc:\\Users\\domin\\anaconda3\\envs\\rcsys\\lib\\random.py:353\u001b[0m, in \u001b[0;36mRandom.randrange\u001b[1;34m(self, start, stop, step)\u001b[0m\n\u001b[0;32m    351\u001b[0m     \u001b[39mif\u001b[39;00m width \u001b[39m>\u001b[39m \u001b[39m0\u001b[39m:\n\u001b[0;32m    352\u001b[0m         \u001b[39mreturn\u001b[39;00m istart \u001b[39m+\u001b[39m \u001b[39mself\u001b[39m\u001b[39m.\u001b[39m_randbelow(width)\n\u001b[1;32m--> 353\u001b[0m     \u001b[39mraise\u001b[39;00m \u001b[39mValueError\u001b[39;00m(\u001b[39m\"\u001b[39m\u001b[39mempty range for randrange() (\u001b[39m\u001b[39m%d\u001b[39;00m\u001b[39m, \u001b[39m\u001b[39m%d\u001b[39;00m\u001b[39m, \u001b[39m\u001b[39m%d\u001b[39;00m\u001b[39m)\u001b[39m\u001b[39m\"\u001b[39m \u001b[39m%\u001b[39m (istart, istop, width))\n\u001b[0;32m    355\u001b[0m \u001b[39m# Non-unit step argument supplied.\u001b[39;00m\n\u001b[0;32m    356\u001b[0m \u001b[39mif\u001b[39;00m istep \u001b[39m>\u001b[39m \u001b[39m0\u001b[39m:\n",
      "\u001b[1;31mValueError\u001b[0m: empty range for randrange() (0, 0, 0)"
     ]
    }
   ],
   "source": [
    "## First get the groups\n",
    "# parameters for group generation\n",
    "size = 10\n",
    "grpNum = 20\n",
    "seed = 12345\n",
    "\n",
    "# generate synthetic groups of users and display them\n",
    "groups2 = createGrps(pd.read_csv('../dataset/users.tsv', sep='\\t'), 10, 10, 12345)\n",
    "display(groups2)"
   ]
  },
  {
   "cell_type": "code",
   "execution_count": null,
   "metadata": {},
   "outputs": [],
   "source": [
    "# construct dataframe in format (user, item, rating) via column addition\n",
    "df_ui = data.rename(columns={\"UserID\": \"user\", \"JobID\": \"item\", \"Rating\":\"rating\"})\n",
    "# check data being read properly\n",
    "display(df_ui.head(10)) \n",
    "\n",
    "# train UserUser collaborative filterring\n",
    "user_user = UserUser(10, min_nbrs=3)  # Minimum (3) and maximum (10) number of neighbors to consider\n",
    "recsys = Recommender.adapt(user_user)\n",
    "recsys.fit(df_ui)"
   ]
  },
  {
   "cell_type": "code",
   "execution_count": null,
   "metadata": {},
   "outputs": [],
   "source": [
    "# pd.set_option('display.max_rows', None)\n",
    "all_ratings = []\n",
    "\n",
    "## Create a User-Item matrix of scores so we can apply one of the aggregation strategies\n",
    "# iterate through groups generated\n",
    "for i, row in groups2.iterrows():\n",
    "    # get the array of users from the row\n",
    "    synGrp = row.iloc[0]\n",
    "\n",
    "    # get recommendations for all group members\n",
    "    ratings_grp = batch.recommend(recsys, synGrp, n=None,  n_jobs=1)\n",
    "    \n",
    "    # cap the values (x > 1 then 1; x < 0 then 0)\n",
    "    # TODO: if you are confident that you can explain the clamping -> go ahead and use it\n",
    "    # ratings_grp[\"score\"] = ratings_grp[\"score\"].map(cap)\n",
    "    # print(ratings_grp)\n",
    "    # TODO: sys.exit only for demonstration to not run through all 20 groups of users\n",
    "    all_ratings.append((synGrp, ratings_grp))\n"
   ]
  },
  {
   "cell_type": "code",
   "execution_count": null,
   "metadata": {},
   "outputs": [
    {
     "ename": "NameError",
     "evalue": "name 'all_ratings' is not defined",
     "output_type": "error",
     "traceback": [
      "\u001b[1;31m---------------------------------------------------------------------------\u001b[0m",
      "\u001b[1;31mNameError\u001b[0m                                 Traceback (most recent call last)",
      "\u001b[1;32mc:\\GitHub\\RecSys_group5\\groupAgg\\groupAggregation.ipynb Cell 7\u001b[0m line \u001b[0;36m5\n\u001b[0;32m      <a href='vscode-notebook-cell:/c%3A/GitHub/RecSys_group5/groupAgg/groupAggregation.ipynb#W6sZmlsZQ%3D%3D?line=1'>2</a>\u001b[0m group_preference \u001b[39m=\u001b[39m []\n\u001b[0;32m      <a href='vscode-notebook-cell:/c%3A/GitHub/RecSys_group5/groupAgg/groupAggregation.ipynb#W6sZmlsZQ%3D%3D?line=2'>3</a>\u001b[0m index \u001b[39m=\u001b[39m \u001b[39m0\u001b[39m\n\u001b[1;32m----> <a href='vscode-notebook-cell:/c%3A/GitHub/RecSys_group5/groupAgg/groupAggregation.ipynb#W6sZmlsZQ%3D%3D?line=4'>5</a>\u001b[0m \u001b[39mfor\u001b[39;00m label, ratings_grp \u001b[39min\u001b[39;00m all_ratings:\n\u001b[0;32m      <a href='vscode-notebook-cell:/c%3A/GitHub/RecSys_group5/groupAgg/groupAggregation.ipynb#W6sZmlsZQ%3D%3D?line=5'>6</a>\u001b[0m     \u001b[39m# Print the label to differentiate the DataFrames\u001b[39;00m\n\u001b[0;32m      <a href='vscode-notebook-cell:/c%3A/GitHub/RecSys_group5/groupAgg/groupAggregation.ipynb#W6sZmlsZQ%3D%3D?line=6'>7</a>\u001b[0m     \u001b[39mprint\u001b[39m(\u001b[39m\"\u001b[39m\u001b[39mLabel:\u001b[39m\u001b[39m\"\u001b[39m, label)\n\u001b[0;32m      <a href='vscode-notebook-cell:/c%3A/GitHub/RecSys_group5/groupAgg/groupAggregation.ipynb#W6sZmlsZQ%3D%3D?line=8'>9</a>\u001b[0m     \u001b[39m# Access and work with the ratings_grp DataFrame\u001b[39;00m\n",
      "\u001b[1;31mNameError\u001b[0m: name 'all_ratings' is not defined"
     ]
    }
   ],
   "source": [
    "num_pref = 5\n",
    "group_preference = []\n",
    "index = 0\n",
    "\n",
    "for label, ratings_grp in all_ratings:\n",
    "    pref = []\n",
    "    # Print the label to differentiate the DataFrames\n",
    "    print(\"Label:\", label)\n",
    "    \n",
    "    # Access and work with the ratings_grp DataFrame\n",
    "    display(ratings_grp.head(10))  # Example: Display the first few rows of the DataFrame\n",
    "    \n",
    "    # Perform any other operations or analysis on the DataFrame as needed\n",
    "    unique_items = ratings_grp['item'].unique().tolist()\n",
    "\n",
    "    for item in unique_items:\n",
    "        job_scores = ratings_grp[ratings_grp['item'] == item]\n",
    "\n",
    "        \n",
    "        if len(job_scores) > 1:\n",
    "            print(\"Number of job_scores:\", len(job_scores))\n",
    "        \n",
    "    index += 1\n",
    "    sys.exit()"
   ]
  }
 ],
 "metadata": {
  "kernelspec": {
   "display_name": "base",
   "language": "python",
   "name": "python3"
  },
  "language_info": {
   "codemirror_mode": {
    "name": "ipython",
    "version": 3
   },
   "file_extension": ".py",
   "mimetype": "text/x-python",
   "name": "python",
   "nbconvert_exporter": "python",
   "pygments_lexer": "ipython3",
   "version": "3.10.13"
  }
 },
 "nbformat": 4,
 "nbformat_minor": 2
}
