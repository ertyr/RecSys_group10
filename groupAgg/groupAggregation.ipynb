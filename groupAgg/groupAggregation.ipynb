{
 "cells": [
  {
   "cell_type": "code",
   "execution_count": 1,
   "metadata": {},
   "outputs": [],
   "source": [
    "## import packages\n",
    "from util import createGrps\n",
    "from main import createGrpsV2\n",
    "from groupAggMain import aggregate\n",
    "import pandas as pd\n",
    "import numpy as np\n",
    "from lenskit.algorithms import Recommender\n",
    "from lenskit.algorithms import Predictor\n",
    "from lenskit.algorithms.user_knn import UserUser\n",
    "from lenskit import batch\n",
    "import sys"
   ]
  },
  {
   "cell_type": "code",
   "execution_count": 2,
   "metadata": {},
   "outputs": [],
   "source": [
    "## Get the training data and train the user-user collaborative filterring\n",
    "# read the data (about applications)\n",
    "# TODO: replace by Tine's filter  data\n",
    "data = pd.read_csv('../dataset/user_with_negative_ratings_full.csv', delimiter=',')\n"
   ]
  },
  {
   "cell_type": "code",
   "execution_count": 3,
   "metadata": {},
   "outputs": [
    {
     "name": "stdout",
     "output_type": "stream",
     "text": [
      "5\n"
     ]
    },
    {
     "data": {
      "text/html": [
       "<div>\n",
       "<style scoped>\n",
       "    .dataframe tbody tr th:only-of-type {\n",
       "        vertical-align: middle;\n",
       "    }\n",
       "\n",
       "    .dataframe tbody tr th {\n",
       "        vertical-align: top;\n",
       "    }\n",
       "\n",
       "    .dataframe thead th {\n",
       "        text-align: right;\n",
       "    }\n",
       "</style>\n",
       "<table border=\"1\" class=\"dataframe\">\n",
       "  <thead>\n",
       "    <tr style=\"text-align: right;\">\n",
       "      <th></th>\n",
       "      <th>Users</th>\n",
       "    </tr>\n",
       "  </thead>\n",
       "  <tbody>\n",
       "    <tr>\n",
       "      <th>0</th>\n",
       "      <td>[1165352, 668454, 838185, 1056891, 578645, 950...</td>\n",
       "    </tr>\n",
       "    <tr>\n",
       "      <th>1</th>\n",
       "      <td>[549231, 583914, 941975, 294558, 803135, 99662...</td>\n",
       "    </tr>\n",
       "    <tr>\n",
       "      <th>2</th>\n",
       "      <td>[410122, 277505, 692599, 783536, 1420225, 5545...</td>\n",
       "    </tr>\n",
       "    <tr>\n",
       "      <th>3</th>\n",
       "      <td>[192178, 850445, 439070, 1340921, 473967, 1327...</td>\n",
       "    </tr>\n",
       "    <tr>\n",
       "      <th>4</th>\n",
       "      <td>[988920, 485759, 481324, 1294945, 669787, 1060...</td>\n",
       "    </tr>\n",
       "  </tbody>\n",
       "</table>\n",
       "</div>"
      ],
      "text/plain": [
       "                                               Users\n",
       "0  [1165352, 668454, 838185, 1056891, 578645, 950...\n",
       "1  [549231, 583914, 941975, 294558, 803135, 99662...\n",
       "2  [410122, 277505, 692599, 783536, 1420225, 5545...\n",
       "3  [192178, 850445, 439070, 1340921, 473967, 1327...\n",
       "4  [988920, 485759, 481324, 1294945, 669787, 1060..."
      ]
     },
     "metadata": {},
     "output_type": "display_data"
    }
   ],
   "source": [
    "## First get the groups\n",
    "# parameters for group generation\n",
    "size = 10\n",
    "grpNum = 5\n",
    "seed = 12345\n",
    "pathToPickle = \"../groupGenv2/user_matrix_train_pivot_01.pkl\"\n",
    "pathToUserMatrix = \"../dataset/clean/user_ratings_neg_1000_20_20_1_train.csv\"\n",
    "sim_thrh = 0.8\n",
    "\n",
    "# Choose which group generator version\n",
    "version = 2\n",
    "\n",
    "# generate synthetic groups of users and display them (Version 1)\n",
    "if version == 1:\n",
    "    #TODO: change '../dataset/users.tsv' to match Tine's data\n",
    "    groups2 = createGrps(pd.read_csv('../dataset/users.tsv', sep='\\t'), size, grpNum, seed)\n",
    "else:\n",
    "    groups2 = createGrpsV2(size, grpNum, pathToPickle, pathToUserMatrix, sim_thrh, seed)\n",
    "display(groups2)"
   ]
  },
  {
   "cell_type": "code",
   "execution_count": 4,
   "metadata": {},
   "outputs": [
    {
     "data": {
      "text/html": [
       "<div>\n",
       "<style scoped>\n",
       "    .dataframe tbody tr th:only-of-type {\n",
       "        vertical-align: middle;\n",
       "    }\n",
       "\n",
       "    .dataframe tbody tr th {\n",
       "        vertical-align: top;\n",
       "    }\n",
       "\n",
       "    .dataframe thead th {\n",
       "        text-align: right;\n",
       "    }\n",
       "</style>\n",
       "<table border=\"1\" class=\"dataframe\">\n",
       "  <thead>\n",
       "    <tr style=\"text-align: right;\">\n",
       "      <th></th>\n",
       "      <th>user</th>\n",
       "      <th>item</th>\n",
       "      <th>rating</th>\n",
       "    </tr>\n",
       "  </thead>\n",
       "  <tbody>\n",
       "    <tr>\n",
       "      <th>0</th>\n",
       "      <td>47</td>\n",
       "      <td>169528</td>\n",
       "      <td>1</td>\n",
       "    </tr>\n",
       "    <tr>\n",
       "      <th>1</th>\n",
       "      <td>47</td>\n",
       "      <td>284009</td>\n",
       "      <td>1</td>\n",
       "    </tr>\n",
       "    <tr>\n",
       "      <th>2</th>\n",
       "      <td>47</td>\n",
       "      <td>2121</td>\n",
       "      <td>1</td>\n",
       "    </tr>\n",
       "    <tr>\n",
       "      <th>3</th>\n",
       "      <td>47</td>\n",
       "      <td>848187</td>\n",
       "      <td>1</td>\n",
       "    </tr>\n",
       "    <tr>\n",
       "      <th>4</th>\n",
       "      <td>47</td>\n",
       "      <td>733748</td>\n",
       "      <td>1</td>\n",
       "    </tr>\n",
       "    <tr>\n",
       "      <th>5</th>\n",
       "      <td>47</td>\n",
       "      <td>576958</td>\n",
       "      <td>1</td>\n",
       "    </tr>\n",
       "    <tr>\n",
       "      <th>6</th>\n",
       "      <td>47</td>\n",
       "      <td>262470</td>\n",
       "      <td>1</td>\n",
       "    </tr>\n",
       "    <tr>\n",
       "      <th>7</th>\n",
       "      <td>47</td>\n",
       "      <td>602298</td>\n",
       "      <td>1</td>\n",
       "    </tr>\n",
       "    <tr>\n",
       "      <th>8</th>\n",
       "      <td>47</td>\n",
       "      <td>982331</td>\n",
       "      <td>0</td>\n",
       "    </tr>\n",
       "    <tr>\n",
       "      <th>9</th>\n",
       "      <td>47</td>\n",
       "      <td>979937</td>\n",
       "      <td>0</td>\n",
       "    </tr>\n",
       "  </tbody>\n",
       "</table>\n",
       "</div>"
      ],
      "text/plain": [
       "   user    item  rating\n",
       "0    47  169528       1\n",
       "1    47  284009       1\n",
       "2    47    2121       1\n",
       "3    47  848187       1\n",
       "4    47  733748       1\n",
       "5    47  576958       1\n",
       "6    47  262470       1\n",
       "7    47  602298       1\n",
       "8    47  982331       0\n",
       "9    47  979937       0"
      ]
     },
     "metadata": {},
     "output_type": "display_data"
    },
    {
     "name": "stderr",
     "output_type": "stream",
     "text": [
      "OMP: Info #276: omp_set_nested routine deprecated, please use omp_set_max_active_levels instead.\n",
      "Numba is using threading layer omp - consider TBB\n",
      "found 1 potential runtime problems - see https://boi.st/lkpy-perf\n"
     ]
    },
    {
     "data": {
      "text/plain": [
       "<lenskit.algorithms.ranking.TopN at 0x7feae04972b0>"
      ]
     },
     "execution_count": 4,
     "metadata": {},
     "output_type": "execute_result"
    }
   ],
   "source": [
    "# construct dataframe in format (user, item, rating) via column addition\n",
    "df_ui = data.rename(columns={\"UserID\": \"user\", \"JobID\": \"item\", \"Rating\":\"rating\"})\n",
    "# check data being read properly\n",
    "display(df_ui.head(10)) \n",
    "\n",
    "# train UserUser collaborative filterring\n",
    "user_user = UserUser(10, min_nbrs=3)  # Minimum (3) and maximum (10) number of neighbors to consider\n",
    "recsys = Recommender.adapt(user_user)\n",
    "recsys.fit(df_ui)"
   ]
  },
  {
   "cell_type": "code",
   "execution_count": 5,
   "metadata": {},
   "outputs": [],
   "source": [
    "# pd.set_option('display.max_rows', None)\n",
    "all_ratings = []\n",
    "\n",
    "## Create a User-Item matrix of scores so we can apply one of the aggregation strategies\n",
    "# iterate through groups generated\n",
    "for i, row in groups2.iterrows():\n",
    "    # get the array of users from the row\n",
    "    synGrp = row.iloc[0]\n",
    "\n",
    "    # get recommendations for all group members\n",
    "    ratings_grp = batch.recommend(recsys, synGrp, n=None,  n_jobs=1)\n",
    "    \n",
    "    # all_ratings contain array of users of the group and dataframe of ratings (item, score, user, rank)\n",
    "    all_ratings.append((synGrp, ratings_grp))"
   ]
  },
  {
   "cell_type": "code",
   "execution_count": 6,
   "metadata": {},
   "outputs": [
    {
     "data": {
      "text/html": [
       "<div>\n",
       "<style scoped>\n",
       "    .dataframe tbody tr th:only-of-type {\n",
       "        vertical-align: middle;\n",
       "    }\n",
       "\n",
       "    .dataframe tbody tr th {\n",
       "        vertical-align: top;\n",
       "    }\n",
       "\n",
       "    .dataframe thead th {\n",
       "        text-align: right;\n",
       "    }\n",
       "</style>\n",
       "<table border=\"1\" class=\"dataframe\">\n",
       "  <thead>\n",
       "    <tr style=\"text-align: right;\">\n",
       "      <th></th>\n",
       "      <th>Members</th>\n",
       "      <th>Recommendation</th>\n",
       "    </tr>\n",
       "  </thead>\n",
       "  <tbody>\n",
       "    <tr>\n",
       "      <th>0</th>\n",
       "      <td>[1165352, 668454, 838185, 1056891, 578645, 950...</td>\n",
       "      <td>[33567, 1030251, 1001363, 1062379, 475364]</td>\n",
       "    </tr>\n",
       "    <tr>\n",
       "      <th>1</th>\n",
       "      <td>[549231, 583914, 941975, 294558, 803135, 99662...</td>\n",
       "      <td>[467462, 758674, 764913, 175827, 805775]</td>\n",
       "    </tr>\n",
       "    <tr>\n",
       "      <th>2</th>\n",
       "      <td>[410122, 277505, 692599, 783536, 1420225, 5545...</td>\n",
       "      <td>[403015, 322071, 759309, 283718, 1815]</td>\n",
       "    </tr>\n",
       "    <tr>\n",
       "      <th>3</th>\n",
       "      <td>[192178, 850445, 439070, 1340921, 473967, 1327...</td>\n",
       "      <td>[1047062, 241110, 189081, 229937, 194305]</td>\n",
       "    </tr>\n",
       "    <tr>\n",
       "      <th>4</th>\n",
       "      <td>[988920, 485759, 481324, 1294945, 669787, 1060...</td>\n",
       "      <td>[282017, 510956, 768776, 886344, 870248]</td>\n",
       "    </tr>\n",
       "  </tbody>\n",
       "</table>\n",
       "</div>"
      ],
      "text/plain": [
       "                                             Members  \\\n",
       "0  [1165352, 668454, 838185, 1056891, 578645, 950...   \n",
       "1  [549231, 583914, 941975, 294558, 803135, 99662...   \n",
       "2  [410122, 277505, 692599, 783536, 1420225, 5545...   \n",
       "3  [192178, 850445, 439070, 1340921, 473967, 1327...   \n",
       "4  [988920, 485759, 481324, 1294945, 669787, 1060...   \n",
       "\n",
       "                               Recommendation  \n",
       "0  [33567, 1030251, 1001363, 1062379, 475364]  \n",
       "1    [467462, 758674, 764913, 175827, 805775]  \n",
       "2      [403015, 322071, 759309, 283718, 1815]  \n",
       "3   [1047062, 241110, 189081, 229937, 194305]  \n",
       "4    [282017, 510956, 768776, 886344, 870248]  "
      ]
     },
     "metadata": {},
     "output_type": "display_data"
    }
   ],
   "source": [
    "num_pref = 5\n",
    "limit = \"sig\"  # cap norm sig\n",
    "strat = \"misery\" # add mult misery pleasure\n",
    "\n",
    "#group_preferences_add_non = aggregate(all_ratings)\n",
    "group_preferences_add_cap = aggregate(all_ratings, num_pref, limit=\"sig\", strat='misery')\n",
    "#group_preferences_mis_norm = aggregate(all_ratings, num_pref, limit=\"norm\", strat='misery')\n",
    "\n",
    "#display(group_preferences_add_non)\n",
    "display(group_preferences_add_cap)\n",
    "#display(group_preferences_mis_norm)"
   ]
  },
  {
   "cell_type": "code",
   "execution_count": 7,
   "metadata": {},
   "outputs": [],
   "source": [
    "## Save the results of group aggregation to file to be later used in the evaluation\n",
    "group_preferences_add_cap.to_csv(\"grpAggr.csv\")"
   ]
  }
 ],
 "metadata": {
  "kernelspec": {
   "display_name": "base",
   "language": "python",
   "name": "python3"
  },
  "language_info": {
   "codemirror_mode": {
    "name": "ipython",
    "version": 3
   },
   "file_extension": ".py",
   "mimetype": "text/x-python",
   "name": "python",
   "nbconvert_exporter": "python",
   "pygments_lexer": "ipython3",
   "version": "3.9.12"
  }
 },
 "nbformat": 4,
 "nbformat_minor": 2
}
