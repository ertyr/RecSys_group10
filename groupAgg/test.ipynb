{
 "cells": [
  {
   "cell_type": "code",
   "execution_count": 2,
   "metadata": {},
   "outputs": [
    {
     "ename": "ModuleNotFoundError",
     "evalue": "No module named 'groupGen'",
     "output_type": "error",
     "traceback": [
      "\u001b[0;31m---------------------------------------------------------------------------\u001b[0m",
      "\u001b[0;31mModuleNotFoundError\u001b[0m                       Traceback (most recent call last)",
      "\u001b[1;32m/Users/kirillgugunishvili/Documents/GitHub/RecSys_group5/groupAgg/test.ipynb Cell 1\u001b[0m line \u001b[0;36m2\n\u001b[1;32m      <a href='vscode-notebook-cell:/Users/kirillgugunishvili/Documents/GitHub/RecSys_group5/groupAgg/test.ipynb#W0sZmlsZQ%3D%3D?line=0'>1</a>\u001b[0m \u001b[39m## import packages\u001b[39;00m\n\u001b[0;32m----> <a href='vscode-notebook-cell:/Users/kirillgugunishvili/Documents/GitHub/RecSys_group5/groupAgg/test.ipynb#W0sZmlsZQ%3D%3D?line=1'>2</a>\u001b[0m \u001b[39mimport\u001b[39;00m \u001b[39mgroupGen\u001b[39;00m\u001b[39m.\u001b[39;00m\u001b[39mutil\u001b[39;00m\n\u001b[1;32m      <a href='vscode-notebook-cell:/Users/kirillgugunishvili/Documents/GitHub/RecSys_group5/groupAgg/test.ipynb#W0sZmlsZQ%3D%3D?line=2'>3</a>\u001b[0m \u001b[39mimport\u001b[39;00m \u001b[39mpandas\u001b[39;00m \u001b[39mas\u001b[39;00m \u001b[39mpd\u001b[39;00m\n\u001b[1;32m      <a href='vscode-notebook-cell:/Users/kirillgugunishvili/Documents/GitHub/RecSys_group5/groupAgg/test.ipynb#W0sZmlsZQ%3D%3D?line=3'>4</a>\u001b[0m \u001b[39mimport\u001b[39;00m \u001b[39mnumpy\u001b[39;00m \u001b[39mas\u001b[39;00m \u001b[39mnp\u001b[39;00m\n",
      "\u001b[0;31mModuleNotFoundError\u001b[0m: No module named 'groupGen'"
     ]
    }
   ],
   "source": [
    "## import packages\n",
    "import groupGen.util\n",
    "import pandas as pd\n",
    "import numpy as np\n",
    "from lenskit.algorithms import Recommender\n",
    "from lenskit.algorithms.user_knn import UserUser\n"
   ]
  },
  {
   "cell_type": "code",
   "execution_count": null,
   "metadata": {},
   "outputs": [],
   "source": [
    "## First get the groups\n",
    "# parameters for group generation\n",
    "size = 20\n",
    "grpNum = 20\n",
    "seed = 1234567\n",
    "\n",
    "# load user data\n",
    "user_data = pd.read_csv(\"dataset/users.tsv\", sep='\\t')\n",
    "\n",
    "# generate synthetic groups of users and display them\n",
    "groups2 = createGrps(user_data, size, grpNum)\n",
    "print(groups2)\n",
    "print()"
   ]
  },
  {
   "cell_type": "code",
   "execution_count": null,
   "metadata": {},
   "outputs": [],
   "source": [
    "## Create a User-Item matrix of scores so we can apply one of the aggregation strategies\n",
    "# iterate through groups generated\n",
    "for i, row in groups2.iterrow():\n",
    "    display(row)"
   ]
  }
 ],
 "metadata": {
  "kernelspec": {
   "display_name": "base",
   "language": "python",
   "name": "python3"
  },
  "language_info": {
   "codemirror_mode": {
    "name": "ipython",
    "version": 3
   },
   "file_extension": ".py",
   "mimetype": "text/x-python",
   "name": "python",
   "nbconvert_exporter": "python",
   "pygments_lexer": "ipython3",
   "version": "3.9.12"
  }
 },
 "nbformat": 4,
 "nbformat_minor": 2
}
