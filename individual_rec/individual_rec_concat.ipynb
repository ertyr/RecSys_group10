{
 "cells": [
  {
   "cell_type": "markdown",
   "id": "bdb4267b0fa72da5",
   "metadata": {
    "collapsed": false
   },
   "source": [
    "# Job Dataset Exploration"
   ]
  },
  {
   "cell_type": "code",
   "execution_count": 13,
   "id": "a02e7e7f",
   "metadata": {},
   "outputs": [],
   "source": [
    "import pandas as pd\n",
    "import numpy as np\n",
    "from lenskit.algorithms import Recommender\n",
    "from lenskit.algorithms.user_knn import UserUser\n",
    "from lenskit.algorithms import user_knn\n",
    "from lenskit.algorithms import Recommender"
   ]
  },
  {
   "cell_type": "code",
   "execution_count": 14,
   "id": "42c9b818",
   "metadata": {},
   "outputs": [
    {
     "name": "stderr",
     "output_type": "stream",
     "text": [
      "/var/folders/vt/47mxbcvj5rd7mmyk053h49m00000gn/T/ipykernel_78125/1825902803.py:1: FutureWarning: The error_bad_lines argument has been deprecated and will be removed in a future version. Use on_bad_lines in the future.\n",
      "\n",
      "\n",
      "  jobs_data = pd.read_csv(\"dataset/splitjobs/jobs1.tsv\", sep='\\t', error_bad_lines=False)\n",
      "b'Skipping line 122433: expected 11 fields, saw 12\\n'\n",
      "/var/folders/vt/47mxbcvj5rd7mmyk053h49m00000gn/T/ipykernel_78125/1825902803.py:1: DtypeWarning: Columns (8) have mixed types. Specify dtype option on import or set low_memory=False.\n",
      "  jobs_data = pd.read_csv(\"dataset/splitjobs/jobs1.tsv\", sep='\\t', error_bad_lines=False)\n"
     ]
    }
   ],
   "source": [
    "jobs_data = pd.read_csv(\"dataset/splitjobs/jobs1.tsv\", sep='\\t', error_bad_lines=False)\n",
    "jobs_df = jobs_data[[\"JobID\", \"Title\"]]\n",
    "jobs_df = jobs_df.rename(columns={\"JobID\": \"item\", \"Title\": \"title\"})"
   ]
  },
  {
   "cell_type": "code",
   "execution_count": 15,
   "id": "775c8fc9fbec9f7",
   "metadata": {
    "ExecuteTime": {
     "end_time": "2023-09-21T08:17:06.713096700Z",
     "start_time": "2023-09-21T08:17:06.616521Z"
    },
    "collapsed": false
   },
   "outputs": [
    {
     "name": "stderr",
     "output_type": "stream",
     "text": [
      "/Users/kirillgugunishvili/opt/anaconda3/lib/python3.9/site-packages/IPython/core/interactiveshell.py:3369: FutureWarning: In a future version of pandas all arguments of read_csv except for the argument 'filepath_or_buffer' will be keyword-only.\n",
      "  exec(code_obj, self.user_global_ns, self.user_ns)\n"
     ]
    },
    {
     "data": {
      "text/html": [
       "<div>\n",
       "<style scoped>\n",
       "    .dataframe tbody tr th:only-of-type {\n",
       "        vertical-align: middle;\n",
       "    }\n",
       "\n",
       "    .dataframe tbody tr th {\n",
       "        vertical-align: top;\n",
       "    }\n",
       "\n",
       "    .dataframe thead th {\n",
       "        text-align: right;\n",
       "    }\n",
       "</style>\n",
       "<table border=\"1\" class=\"dataframe\">\n",
       "  <thead>\n",
       "    <tr style=\"text-align: right;\">\n",
       "      <th></th>\n",
       "      <th>user</th>\n",
       "      <th>item</th>\n",
       "      <th>rating</th>\n",
       "    </tr>\n",
       "  </thead>\n",
       "  <tbody>\n",
       "    <tr>\n",
       "      <th>0</th>\n",
       "      <td>13</td>\n",
       "      <td>452170</td>\n",
       "      <td>0.0</td>\n",
       "    </tr>\n",
       "    <tr>\n",
       "      <th>1</th>\n",
       "      <td>13</td>\n",
       "      <td>511327</td>\n",
       "      <td>0.0</td>\n",
       "    </tr>\n",
       "    <tr>\n",
       "      <th>2</th>\n",
       "      <td>13</td>\n",
       "      <td>1033886</td>\n",
       "      <td>0.0</td>\n",
       "    </tr>\n",
       "    <tr>\n",
       "      <th>3</th>\n",
       "      <td>13</td>\n",
       "      <td>841119</td>\n",
       "      <td>0.0</td>\n",
       "    </tr>\n",
       "    <tr>\n",
       "      <th>4</th>\n",
       "      <td>13</td>\n",
       "      <td>361559</td>\n",
       "      <td>0.0</td>\n",
       "    </tr>\n",
       "    <tr>\n",
       "      <th>5</th>\n",
       "      <td>13</td>\n",
       "      <td>97494</td>\n",
       "      <td>0.0</td>\n",
       "    </tr>\n",
       "    <tr>\n",
       "      <th>6</th>\n",
       "      <td>13</td>\n",
       "      <td>638349</td>\n",
       "      <td>0.0</td>\n",
       "    </tr>\n",
       "    <tr>\n",
       "      <th>7</th>\n",
       "      <td>13</td>\n",
       "      <td>1066611</td>\n",
       "      <td>0.0</td>\n",
       "    </tr>\n",
       "    <tr>\n",
       "      <th>8</th>\n",
       "      <td>13</td>\n",
       "      <td>286627</td>\n",
       "      <td>0.0</td>\n",
       "    </tr>\n",
       "    <tr>\n",
       "      <th>9</th>\n",
       "      <td>13</td>\n",
       "      <td>585616</td>\n",
       "      <td>0.0</td>\n",
       "    </tr>\n",
       "  </tbody>\n",
       "</table>\n",
       "</div>"
      ],
      "text/plain": [
       "   user     item  rating\n",
       "0    13   452170     0.0\n",
       "1    13   511327     0.0\n",
       "2    13  1033886     0.0\n",
       "3    13   841119     0.0\n",
       "4    13   361559     0.0\n",
       "5    13    97494     0.0\n",
       "6    13   638349     0.0\n",
       "7    13  1066611     0.0\n",
       "8    13   286627     0.0\n",
       "9    13   585616     0.0"
      ]
     },
     "metadata": {},
     "output_type": "display_data"
    }
   ],
   "source": [
    "# Block which concatenates popular_jobs estimation with the apps and assigng \n",
    "#   correct rating scores (1 if applied, 0 otherwise)\n",
    "\n",
    "# read the data (about applications)\n",
    "popular_data = pd.read_csv(\"dataset/popular_jobs.csv\")\n",
    "apps_df = pd.read_csv(\"dataset/apps.tsv\", \"\\t\")\n",
    "apps_df = apps_df.loc[apps_df['Split'] == \"Test\"]\n",
    "apps_df = apps_df.rename(columns={\"UserID\": \"user\", \"JobID\": \"item\"})\n",
    "apps_df = apps_df[[\"user\", \"item\"]]\n",
    "apps_df.insert(2, \"rating\", np.full(apps_df.shape[0],1.0))  \n",
    "\n",
    "data = popular_data.assign(JobIds=popular_data['JobIds'].str.split(' ')).explode('JobIds', ignore_index=True)\n",
    "data.insert(2, \"rating\", np.full(data.shape[0],0.0))  \n",
    "df_ui = data.rename(columns={\"UserId\": \"user\", \"JobIds\": \"item\"})\n",
    "\n",
    "\n",
    "# concatenate, descending ratings, filter out duplicates\n",
    "tmp = [df_ui, apps_df]\n",
    "result = pd.concat(tmp).sort_values(\"rating\", ascending=False)\n",
    "result = result.drop_duplicates(subset=['user', 'item'])\n",
    "result = result.sort_values('user', ascending=True).reset_index()\n",
    "result = result.drop(\"index\", axis=1)\n",
    "result = result.dropna()\n",
    "result[\"user\"] = result[\"user\"].astype(int)\n",
    "result[\"item\"] = result[\"item\"].astype(int)\n",
    "display(result.head(10))\n"
   ]
  },
  {
   "cell_type": "code",
   "execution_count": 22,
   "id": "d9f49771",
   "metadata": {},
   "outputs": [
    {
     "data": {
      "text/plain": [
       "user        int64\n",
       "item        int64\n",
       "rating    float64\n",
       "dtype: object"
      ]
     },
     "metadata": {},
     "output_type": "display_data"
    },
    {
     "data": {
      "text/plain": [
       "<lenskit.algorithms.ranking.TopN at 0x7fb07497cf70>"
      ]
     },
     "execution_count": 22,
     "metadata": {},
     "output_type": "execute_result"
    }
   ],
   "source": [
    "display(result.dtypes)\n",
    "# We use the collaborative user algorithm UserUser, that use the nearest neighbors \n",
    "user_user = UserUser(10, min_nbrs=3)  # Minimum (3) and maximum (15) number of neighbors to consider\n",
    "recsys = Recommender.adapt(user_user)\n",
    "recsys.fit(result)"
   ]
  },
  {
   "cell_type": "code",
   "execution_count": 34,
   "id": "d6ca6194",
   "metadata": {},
   "outputs": [
    {
     "data": {
      "text/html": [
       "<div>\n",
       "<style scoped>\n",
       "    .dataframe tbody tr th:only-of-type {\n",
       "        vertical-align: middle;\n",
       "    }\n",
       "\n",
       "    .dataframe tbody tr th {\n",
       "        vertical-align: top;\n",
       "    }\n",
       "\n",
       "    .dataframe thead th {\n",
       "        text-align: right;\n",
       "    }\n",
       "</style>\n",
       "<table border=\"1\" class=\"dataframe\">\n",
       "  <thead>\n",
       "    <tr style=\"text-align: right;\">\n",
       "      <th></th>\n",
       "      <th>item</th>\n",
       "      <th>score</th>\n",
       "      <th>title</th>\n",
       "    </tr>\n",
       "  </thead>\n",
       "  <tbody>\n",
       "    <tr>\n",
       "      <th>0</th>\n",
       "      <td>245220</td>\n",
       "      <td>0.948307</td>\n",
       "      <td>Apartment Lead Maintenance</td>\n",
       "    </tr>\n",
       "    <tr>\n",
       "      <th>1</th>\n",
       "      <td>796032</td>\n",
       "      <td>0.804134</td>\n",
       "      <td>Assistant Controller</td>\n",
       "    </tr>\n",
       "    <tr>\n",
       "      <th>2</th>\n",
       "      <td>298653</td>\n",
       "      <td>0.799571</td>\n",
       "      <td>Accounting Manager (Publicly Traded Organizati...</td>\n",
       "    </tr>\n",
       "    <tr>\n",
       "      <th>3</th>\n",
       "      <td>860385</td>\n",
       "      <td>0.798947</td>\n",
       "      <td>Senior Accountant</td>\n",
       "    </tr>\n",
       "    <tr>\n",
       "      <th>4</th>\n",
       "      <td>286222</td>\n",
       "      <td>0.781116</td>\n",
       "      <td>SAP Planning Analyst</td>\n",
       "    </tr>\n",
       "    <tr>\n",
       "      <th>...</th>\n",
       "      <td>...</td>\n",
       "      <td>...</td>\n",
       "      <td>...</td>\n",
       "    </tr>\n",
       "    <tr>\n",
       "      <th>70</th>\n",
       "      <td>33320</td>\n",
       "      <td>-0.201622</td>\n",
       "      <td>SQL Developer</td>\n",
       "    </tr>\n",
       "    <tr>\n",
       "      <th>71</th>\n",
       "      <td>612177</td>\n",
       "      <td>-0.201622</td>\n",
       "      <td>Financial Analyst</td>\n",
       "    </tr>\n",
       "    <tr>\n",
       "      <th>72</th>\n",
       "      <td>632902</td>\n",
       "      <td>-0.201622</td>\n",
       "      <td>Manufacturing Buyer</td>\n",
       "    </tr>\n",
       "    <tr>\n",
       "      <th>73</th>\n",
       "      <td>636386</td>\n",
       "      <td>-0.201622</td>\n",
       "      <td>Sales Representative / Account Manager /  Cust...</td>\n",
       "    </tr>\n",
       "    <tr>\n",
       "      <th>74</th>\n",
       "      <td>612176</td>\n",
       "      <td>-0.201622</td>\n",
       "      <td>Strategic Planning Analyst</td>\n",
       "    </tr>\n",
       "  </tbody>\n",
       "</table>\n",
       "<p>75 rows × 3 columns</p>\n",
       "</div>"
      ],
      "text/plain": [
       "      item     score                                              title\n",
       "0   245220  0.948307                         Apartment Lead Maintenance\n",
       "1   796032  0.804134                               Assistant Controller\n",
       "2   298653  0.799571  Accounting Manager (Publicly Traded Organizati...\n",
       "3   860385  0.798947                                  Senior Accountant\n",
       "4   286222  0.781116                               SAP Planning Analyst\n",
       "..     ...       ...                                                ...\n",
       "70   33320 -0.201622                                      SQL Developer\n",
       "71  612177 -0.201622                                  Financial Analyst\n",
       "72  632902 -0.201622                                Manufacturing Buyer\n",
       "73  636386 -0.201622  Sales Representative / Account Manager /  Cust...\n",
       "74  612176 -0.201622                         Strategic Planning Analyst\n",
       "\n",
       "[75 rows x 3 columns]"
      ]
     },
     "metadata": {},
     "output_type": "display_data"
    },
    {
     "data": {
      "text/html": [
       "<div>\n",
       "<style scoped>\n",
       "    .dataframe tbody tr th:only-of-type {\n",
       "        vertical-align: middle;\n",
       "    }\n",
       "\n",
       "    .dataframe tbody tr th {\n",
       "        vertical-align: top;\n",
       "    }\n",
       "\n",
       "    .dataframe thead th {\n",
       "        text-align: right;\n",
       "    }\n",
       "</style>\n",
       "<table border=\"1\" class=\"dataframe\">\n",
       "  <thead>\n",
       "    <tr style=\"text-align: right;\">\n",
       "      <th></th>\n",
       "      <th>UserID</th>\n",
       "      <th>WindowID</th>\n",
       "      <th>Split</th>\n",
       "      <th>ApplicationDate</th>\n",
       "      <th>item</th>\n",
       "      <th>title</th>\n",
       "    </tr>\n",
       "  </thead>\n",
       "  <tbody>\n",
       "    <tr>\n",
       "      <th>3435</th>\n",
       "      <td>18817</td>\n",
       "      <td>1</td>\n",
       "      <td>Test</td>\n",
       "      <td>2012-04-01 12:20:59.593</td>\n",
       "      <td>466017</td>\n",
       "      <td>Experienced Sales Professionals</td>\n",
       "    </tr>\n",
       "  </tbody>\n",
       "</table>\n",
       "</div>"
      ],
      "text/plain": [
       "      UserID  WindowID Split          ApplicationDate    item  \\\n",
       "3435   18817         1  Test  2012-04-01 12:20:59.593  466017   \n",
       "\n",
       "                                title  \n",
       "3435  Experienced Sales Professionals  "
      ]
     },
     "metadata": {},
     "output_type": "display_data"
    }
   ],
   "source": [
    "user_id = 18817 #2/2\n",
    "\n",
    "selected_jobs = recsys.recommend(user_id, 100) # generate 10 recommendations for the selected user\n",
    "# score - doesn't matter cause arbitrary value showing recommendation priority\n",
    "# sometimes ipynb doesn't reset the variables -> gives stupid errors (solution shove everything into one kernel/ block)\n",
    "\n",
    "selected_jobs = selected_jobs.join(jobs_df.set_index('item'), on='item')\n",
    "display(selected_jobs.head(100))\n",
    "\n",
    "# Show the real applications\n",
    "apps_data = pd.read_csv(\"dataset/apps.tsv\", sep='\\t')\n",
    "apps_data = apps_data.loc[apps_data['UserID'] == user_id]\n",
    "apps_data = apps_data.rename(columns={\"JobID\": \"item\"})\n",
    "display(apps_data.join(jobs_df.set_index('item'), on='item'))\n",
    "\n",
    "# Idea:\n",
    "#   - Take the test user and only his instances\n",
    "#   - Use the test instances of other users as training instances\n",
    "# Hit rate (Individual Rec. evaluation):\n",
    "#   - Hopefully higher than 50%\n",
    "#   - First 1000 users (which have recommendation) \n",
    "# Data for user studies:\n",
    "#   - Roleplay as test users (i.e same users)\n",
    "# Decoupled evaluation (Group Rec. evaluation):\n",
    "#   - Note coupled because we don't have real data scores\n",
    "# Assignment requirements:\n",
    "#   - need evaluation of both individual and recommendation algorithms\n"
   ]
  },
  {
   "cell_type": "code",
   "execution_count": 18,
   "id": "d1464482",
   "metadata": {},
   "outputs": [],
   "source": [
    "# instead of recommender try to train predictor\n",
    "user_user_2 = UserUser(15, min_nbrs=3)  # Minimum (3) and maximum (15) number of neighbors to consider\n",
    "recsys = user_user_2.fit(result)"
   ]
  },
  {
   "cell_type": "code",
   "execution_count": 33,
   "id": "93ecfd12",
   "metadata": {},
   "outputs": [
    {
     "data": {
      "text/plain": [
       "item\n",
       "110292   -0.024685\n",
       "466017         NaN\n",
       "164195         NaN\n",
       "168134         NaN\n",
       "Name: prediction, dtype: float64"
      ]
     },
     "metadata": {},
     "output_type": "display_data"
    }
   ],
   "source": [
    "# predict based on previous code block\n",
    "pred_user = 18817\n",
    "pred_item = np.array([110292,466017,164195,168134])\n",
    "\n",
    "output = recsys.predict_for_user(pred_user, pred_item)\n",
    "display(output)"
   ]
  }
 ],
 "metadata": {
  "kernelspec": {
   "display_name": "Python 3",
   "language": "python",
   "name": "python3"
  },
  "language_info": {
   "codemirror_mode": {
    "name": "ipython",
    "version": 3
   },
   "file_extension": ".py",
   "mimetype": "text/x-python",
   "name": "python",
   "nbconvert_exporter": "python",
   "pygments_lexer": "ipython3",
   "version": "3.9.12"
  }
 },
 "nbformat": 4,
 "nbformat_minor": 5
}
