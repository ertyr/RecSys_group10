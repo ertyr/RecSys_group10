{
 "cells": [
  {
   "cell_type": "markdown",
   "id": "bdb4267b0fa72da5",
   "metadata": {
    "collapsed": false
   },
   "source": [
    "# Job Dataset Exploration"
   ]
  },
  {
   "cell_type": "code",
   "execution_count": 1,
   "id": "a02e7e7f",
   "metadata": {},
   "outputs": [],
   "source": [
    "import pandas as pd\n",
    "import numpy as np\n",
    "from lenskit.algorithms import Recommender\n",
    "from lenskit.algorithms.user_knn import UserUser\n",
    "from lenskit.algorithms import user_knn\n",
    "from lenskit.algorithms import Recommender\n",
    "from lenskit.algorithms.user_knn import UserUser"
   ]
  },
  {
   "cell_type": "code",
   "execution_count": 2,
   "id": "42c9b818",
   "metadata": {},
   "outputs": [
    {
     "name": "stderr",
     "output_type": "stream",
     "text": [
      "/var/folders/vt/47mxbcvj5rd7mmyk053h49m00000gn/T/ipykernel_71678/1825902803.py:1: FutureWarning: The error_bad_lines argument has been deprecated and will be removed in a future version. Use on_bad_lines in the future.\n",
      "\n",
      "\n",
      "  jobs_data = pd.read_csv(\"dataset/splitjobs/jobs1.tsv\", sep='\\t', error_bad_lines=False)\n",
      "b'Skipping line 122433: expected 11 fields, saw 12\\n'\n",
      "/var/folders/vt/47mxbcvj5rd7mmyk053h49m00000gn/T/ipykernel_71678/1825902803.py:1: DtypeWarning: Columns (8) have mixed types. Specify dtype option on import or set low_memory=False.\n",
      "  jobs_data = pd.read_csv(\"dataset/splitjobs/jobs1.tsv\", sep='\\t', error_bad_lines=False)\n"
     ]
    }
   ],
   "source": [
    "jobs_data = pd.read_csv(\"dataset/splitjobs/jobs1.tsv\", sep='\\t', error_bad_lines=False)\n",
    "jobs_df = jobs_data[[\"JobID\", \"Title\"]]\n",
    "jobs_df = jobs_df.rename(columns={\"JobID\": \"item\", \"Title\": \"title\"})"
   ]
  },
  {
   "cell_type": "code",
   "execution_count": 17,
   "id": "775c8fc9fbec9f7",
   "metadata": {
    "ExecuteTime": {
     "end_time": "2023-09-21T08:17:06.713096700Z",
     "start_time": "2023-09-21T08:17:06.616521Z"
    },
    "collapsed": false
   },
   "outputs": [
    {
     "data": {
      "text/html": [
       "<div>\n",
       "<style scoped>\n",
       "    .dataframe tbody tr th:only-of-type {\n",
       "        vertical-align: middle;\n",
       "    }\n",
       "\n",
       "    .dataframe tbody tr th {\n",
       "        vertical-align: top;\n",
       "    }\n",
       "\n",
       "    .dataframe thead th {\n",
       "        text-align: right;\n",
       "    }\n",
       "</style>\n",
       "<table border=\"1\" class=\"dataframe\">\n",
       "  <thead>\n",
       "    <tr style=\"text-align: right;\">\n",
       "      <th></th>\n",
       "      <th>user</th>\n",
       "      <th>item</th>\n",
       "      <th>rating</th>\n",
       "    </tr>\n",
       "  </thead>\n",
       "  <tbody>\n",
       "    <tr>\n",
       "      <th>0</th>\n",
       "      <td>47</td>\n",
       "      <td>284009</td>\n",
       "      <td>1</td>\n",
       "    </tr>\n",
       "    <tr>\n",
       "      <th>1</th>\n",
       "      <td>47</td>\n",
       "      <td>2121</td>\n",
       "      <td>1</td>\n",
       "    </tr>\n",
       "    <tr>\n",
       "      <th>2</th>\n",
       "      <td>47</td>\n",
       "      <td>848187</td>\n",
       "      <td>1</td>\n",
       "    </tr>\n",
       "    <tr>\n",
       "      <th>3</th>\n",
       "      <td>47</td>\n",
       "      <td>733748</td>\n",
       "      <td>1</td>\n",
       "    </tr>\n",
       "    <tr>\n",
       "      <th>4</th>\n",
       "      <td>47</td>\n",
       "      <td>576958</td>\n",
       "      <td>1</td>\n",
       "    </tr>\n",
       "    <tr>\n",
       "      <th>5</th>\n",
       "      <td>47</td>\n",
       "      <td>262470</td>\n",
       "      <td>1</td>\n",
       "    </tr>\n",
       "    <tr>\n",
       "      <th>6</th>\n",
       "      <td>47</td>\n",
       "      <td>602298</td>\n",
       "      <td>1</td>\n",
       "    </tr>\n",
       "    <tr>\n",
       "      <th>7</th>\n",
       "      <td>47</td>\n",
       "      <td>982331</td>\n",
       "      <td>0</td>\n",
       "    </tr>\n",
       "    <tr>\n",
       "      <th>8</th>\n",
       "      <td>47</td>\n",
       "      <td>979937</td>\n",
       "      <td>0</td>\n",
       "    </tr>\n",
       "    <tr>\n",
       "      <th>9</th>\n",
       "      <td>47</td>\n",
       "      <td>821993</td>\n",
       "      <td>0</td>\n",
       "    </tr>\n",
       "  </tbody>\n",
       "</table>\n",
       "</div>"
      ],
      "text/plain": [
       "   user    item  rating\n",
       "0    47  284009       1\n",
       "1    47    2121       1\n",
       "2    47  848187       1\n",
       "3    47  733748       1\n",
       "4    47  576958       1\n",
       "5    47  262470       1\n",
       "6    47  602298       1\n",
       "7    47  982331       0\n",
       "8    47  979937       0\n",
       "9    47  821993       0"
      ]
     },
     "metadata": {},
     "output_type": "display_data"
    }
   ],
   "source": [
    "# read the data (about applications)\n",
    "data_train = pd.read_csv('dataset/user_with_negative_rating_train.csv', delimiter=',')\n",
    "data_full = pd.read_csv('dataset/user_with_negative_ratings_full.csv', delimiter=',')\n",
    "data_test = pd.read_csv('dataset/user_with_negtive_rating_test.csv', delimiter=',')\n",
    "\n",
    "\n",
    "data = pd.concat([data_train.drop(\"Unnamed: 0\", axis=1), data_full.loc[10000:,:]])\n",
    "# construct dataframe in format (user, item, rating) via column addition\n",
    "#df_ui.insert(2, \"rating\", np.random.rand(df_ui.shape[0],1))  \n",
    "df_ui = data.rename(columns={\"UserID\": \"user\", \"JobID\": \"item\", \"Rating\":\"rating\"})\n",
    "display(df_ui.head(10)) # check data being read properly"
   ]
  },
  {
   "cell_type": "code",
   "execution_count": 43,
   "id": "d9f49771",
   "metadata": {},
   "outputs": [
    {
     "data": {
      "text/plain": [
       "<lenskit.algorithms.ranking.TopN at 0x7fc1946c3400>"
      ]
     },
     "execution_count": 43,
     "metadata": {},
     "output_type": "execute_result"
    }
   ],
   "source": [
    "# We use the collaborative user algorithm UserUser, that use the nearest neighbors \n",
    "user_user = UserUser(45, min_nbrs=6)  # Minimum (3) and maximum (15) number of neighbors to consider\n",
    "recsys = Recommender.adapt(user_user)\n",
    "recsys.fit(df_ui)"
   ]
  },
  {
   "cell_type": "code",
   "execution_count": 44,
   "id": "d6ca6194",
   "metadata": {},
   "outputs": [
    {
     "data": {
      "text/html": [
       "<div>\n",
       "<style scoped>\n",
       "    .dataframe tbody tr th:only-of-type {\n",
       "        vertical-align: middle;\n",
       "    }\n",
       "\n",
       "    .dataframe tbody tr th {\n",
       "        vertical-align: top;\n",
       "    }\n",
       "\n",
       "    .dataframe thead th {\n",
       "        text-align: right;\n",
       "    }\n",
       "</style>\n",
       "<table border=\"1\" class=\"dataframe\">\n",
       "  <thead>\n",
       "    <tr style=\"text-align: right;\">\n",
       "      <th></th>\n",
       "      <th>item</th>\n",
       "      <th>score</th>\n",
       "      <th>title</th>\n",
       "    </tr>\n",
       "  </thead>\n",
       "  <tbody>\n",
       "    <tr>\n",
       "      <th>0</th>\n",
       "      <td>1100673</td>\n",
       "      <td>1.151754</td>\n",
       "      <td>Medical Biller/Collector</td>\n",
       "    </tr>\n",
       "    <tr>\n",
       "      <th>1</th>\n",
       "      <td>741780</td>\n",
       "      <td>1.000559</td>\n",
       "      <td>Operator-Part Time Evenings(Fri-Sun)</td>\n",
       "    </tr>\n",
       "    <tr>\n",
       "      <th>2</th>\n",
       "      <td>522858</td>\n",
       "      <td>0.968708</td>\n",
       "      <td>Receptionist Needed ASAP!</td>\n",
       "    </tr>\n",
       "    <tr>\n",
       "      <th>3</th>\n",
       "      <td>1082690</td>\n",
       "      <td>0.940608</td>\n",
       "      <td>Marketing Assistant</td>\n",
       "    </tr>\n",
       "    <tr>\n",
       "      <th>4</th>\n",
       "      <td>611716</td>\n",
       "      <td>0.847704</td>\n",
       "      <td>Accounts Payable Clerk</td>\n",
       "    </tr>\n",
       "    <tr>\n",
       "      <th>5</th>\n",
       "      <td>659222</td>\n",
       "      <td>0.847704</td>\n",
       "      <td>Admissions Representative</td>\n",
       "    </tr>\n",
       "    <tr>\n",
       "      <th>6</th>\n",
       "      <td>530598</td>\n",
       "      <td>0.822992</td>\n",
       "      <td>Resident Services Coordinator</td>\n",
       "    </tr>\n",
       "    <tr>\n",
       "      <th>7</th>\n",
       "      <td>260468</td>\n",
       "      <td>0.742833</td>\n",
       "      <td>Customer Service Representative</td>\n",
       "    </tr>\n",
       "    <tr>\n",
       "      <th>8</th>\n",
       "      <td>208057</td>\n",
       "      <td>0.738994</td>\n",
       "      <td>Financial Admin Assistant</td>\n",
       "    </tr>\n",
       "  </tbody>\n",
       "</table>\n",
       "</div>"
      ],
      "text/plain": [
       "      item     score                                 title\n",
       "0  1100673  1.151754              Medical Biller/Collector\n",
       "1   741780  1.000559  Operator-Part Time Evenings(Fri-Sun)\n",
       "2   522858  0.968708             Receptionist Needed ASAP!\n",
       "3  1082690  0.940608                   Marketing Assistant\n",
       "4   611716  0.847704                Accounts Payable Clerk\n",
       "5   659222  0.847704             Admissions Representative\n",
       "6   530598  0.822992         Resident Services Coordinator\n",
       "7   260468  0.742833       Customer Service Representative\n",
       "8   208057  0.738994             Financial Admin Assistant"
      ]
     },
     "metadata": {},
     "output_type": "display_data"
    },
    {
     "data": {
      "text/html": [
       "<div>\n",
       "<style scoped>\n",
       "    .dataframe tbody tr th:only-of-type {\n",
       "        vertical-align: middle;\n",
       "    }\n",
       "\n",
       "    .dataframe tbody tr th {\n",
       "        vertical-align: top;\n",
       "    }\n",
       "\n",
       "    .dataframe thead th {\n",
       "        text-align: right;\n",
       "    }\n",
       "</style>\n",
       "<table border=\"1\" class=\"dataframe\">\n",
       "  <thead>\n",
       "    <tr style=\"text-align: right;\">\n",
       "      <th></th>\n",
       "      <th>UserID</th>\n",
       "      <th>WindowID</th>\n",
       "      <th>Split</th>\n",
       "      <th>ApplicationDate</th>\n",
       "      <th>item</th>\n",
       "      <th>title</th>\n",
       "    </tr>\n",
       "  </thead>\n",
       "  <tbody>\n",
       "    <tr>\n",
       "      <th>641</th>\n",
       "      <td>4022</td>\n",
       "      <td>1</td>\n",
       "      <td>Train</td>\n",
       "      <td>2012-04-02 10:44:32.04</td>\n",
       "      <td>459306</td>\n",
       "      <td>Inside Sales</td>\n",
       "    </tr>\n",
       "  </tbody>\n",
       "</table>\n",
       "</div>"
      ],
      "text/plain": [
       "     UserID  WindowID  Split         ApplicationDate    item         title\n",
       "641    4022         1  Train  2012-04-02 10:44:32.04  459306  Inside Sales"
      ]
     },
     "metadata": {},
     "output_type": "display_data"
    }
   ],
   "source": [
    "user_id = 4022\n",
    "\n",
    "selected_jobs = recsys.recommend(user_id, 100) # generate 10 recommendations for the selected user\n",
    "# score - doesn't matter cause arbitrary value showing recommendation priority\n",
    "# sometimes ipynb doesn't reset the variables -> gives stupid errors (solution shove everything into one kernel/ block)\n",
    "\n",
    "selected_jobs = selected_jobs.join(jobs_df.set_index('item'), on='item')\n",
    "display(selected_jobs.head(20))\n",
    "\n",
    "# Show the real applications\n",
    "apps_data = pd.read_csv(\"dataset/apps.tsv\", sep='\\t')\n",
    "apps_data = apps_data.loc[apps_data['UserID'] == user_id]\n",
    "apps_data = apps_data.rename(columns={\"JobID\": \"item\"})\n",
    "display(apps_data.join(jobs_df.set_index('item'), on='item').head(1))\n",
    "\n",
    "\n"
   ]
  },
  {
   "cell_type": "code",
   "execution_count": 28,
   "id": "fbd7619f",
   "metadata": {},
   "outputs": [
    {
     "data": {
      "text/html": [
       "<div>\n",
       "<style scoped>\n",
       "    .dataframe tbody tr th:only-of-type {\n",
       "        vertical-align: middle;\n",
       "    }\n",
       "\n",
       "    .dataframe tbody tr th {\n",
       "        vertical-align: top;\n",
       "    }\n",
       "\n",
       "    .dataframe thead th {\n",
       "        text-align: right;\n",
       "    }\n",
       "</style>\n",
       "<table border=\"1\" class=\"dataframe\">\n",
       "  <thead>\n",
       "    <tr style=\"text-align: right;\">\n",
       "      <th></th>\n",
       "      <th>Unnamed: 0</th>\n",
       "      <th>index</th>\n",
       "      <th>UserID</th>\n",
       "      <th>item</th>\n",
       "      <th>Rating</th>\n",
       "      <th>title</th>\n",
       "    </tr>\n",
       "  </thead>\n",
       "  <tbody>\n",
       "    <tr>\n",
       "      <th>0</th>\n",
       "      <td>0</td>\n",
       "      <td>0</td>\n",
       "      <td>47</td>\n",
       "      <td>169528</td>\n",
       "      <td>1</td>\n",
       "      <td>Resort Host/Marketing Coordinator - Anaheim, CA</td>\n",
       "    </tr>\n",
       "  </tbody>\n",
       "</table>\n",
       "</div>"
      ],
      "text/plain": [
       "   Unnamed: 0  index  UserID    item  Rating  \\\n",
       "0           0      0      47  169528       1   \n",
       "\n",
       "                                             title  \n",
       "0  Resort Host/Marketing Coordinator - Anaheim, CA  "
      ]
     },
     "metadata": {},
     "output_type": "display_data"
    }
   ],
   "source": [
    "data_test = data_test.rename(columns={\"JobID\": \"item\"})\n",
    "display(data_test[data_test['UserID']==user_id].join(jobs_df.set_index('item'), on='item'))"
   ]
  }
 ],
 "metadata": {
  "kernelspec": {
   "display_name": "Python 3",
   "language": "python",
   "name": "python3"
  },
  "language_info": {
   "codemirror_mode": {
    "name": "ipython",
    "version": 3
   },
   "file_extension": ".py",
   "mimetype": "text/x-python",
   "name": "python",
   "nbconvert_exporter": "python",
   "pygments_lexer": "ipython3",
   "version": "3.9.12"
  }
 },
 "nbformat": 4,
 "nbformat_minor": 5
}
