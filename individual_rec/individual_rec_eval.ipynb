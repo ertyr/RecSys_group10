{
 "cells": [
  {
   "cell_type": "code",
   "execution_count": 5,
   "metadata": {},
   "outputs": [],
   "source": [
    "import pandas as pd\n",
    "import numpy as np\n",
    "from lenskit.algorithms import Recommender\n",
    "from lenskit.algorithms.user_knn import UserUser\n",
    "from lenskit.algorithms import user_knn\n",
    "from lenskit.algorithms import Recommender\n",
    "import warnings\n",
    "warnings.filterwarnings('ignore') # supress warning instead of printing them every time\n",
    "\n"
   ]
  },
  {
   "cell_type": "code",
   "execution_count": 6,
   "metadata": {},
   "outputs": [],
   "source": [
    "# Get the train and test data\n",
    "data_test = pd.read_csv(\"../dataset/clean/user_ratings_neg_1000_20_20_1_test.csv\")\n",
    "data_test = data_test.drop(columns=['Unnamed: 0'])\n",
    "data_train = pd.read_csv(\"../dataset/clean/user_ratings_neg_1000_20_20_1_train.csv\")\n",
    "data_train = data_train.drop(columns=['Unnamed: 0'])\n"
   ]
  },
  {
   "cell_type": "code",
   "execution_count": 7,
   "metadata": {},
   "outputs": [],
   "source": [
    "# Compute the user list to iterate through\n",
    "data_users = data_test[\"UserID\"].drop_duplicates()"
   ]
  },
  {
   "cell_type": "code",
   "execution_count": 11,
   "metadata": {},
   "outputs": [
    {
     "name": "stdout",
     "output_type": "stream",
     "text": [
      "0.42\n"
     ]
    }
   ],
   "source": [
    "# Create iteration loop for evaluation\n",
    "\n",
    "hitRate = 0.0 # counting hit rate\n",
    "testUserNum = 100.0 # number of test users to compute hit rate\n",
    "counter = 0\n",
    "\n",
    "for idx, user in data_users.items():\n",
    "\n",
    "    # keep track of how many users togo through\n",
    "    counter+=1\n",
    "    if (counter > testUserNum): break\n",
    "\n",
    "    # compute test instances\n",
    "    testInstances = data_test[data_test[\"UserID\"]==user] \n",
    "\n",
    "    # convert test instances to training instances\n",
    "    trainAddOn = data_test[data_test[\"UserID\"]!=user] \n",
    "    df_train = pd.concat([data_train, trainAddOn], ignore_index=True)\n",
    "    df_train = df_train.rename(columns={\"UserID\": \"user\", \"JobID\": \"item\", \"Rating\": \"rating\"})\n",
    "\n",
    "    # train on data\n",
    "    user_user = UserUser(15, min_nbrs=3)\n",
    "    recsys = Recommender.adapt(user_user)\n",
    "    recsys.fit(df_train)  \n",
    "\n",
    "    # Create recommendations\n",
    "    selected_jobs = recsys.recommend(user, 100)\n",
    "    \n",
    "    # check if any of the jobs is contained inside\n",
    "    for idx in testInstances.index:\n",
    "        job = testInstances.loc[idx, \"JobID\"]\n",
    "        # count one hit if job is in the list\n",
    "        if (selected_jobs[\"item\"] == job).any():\n",
    "            hitRate+=1\n",
    "            break \n",
    "    \n",
    "print(hitRate/testUserNum)\n"
   ]
  }
 ],
 "metadata": {
  "kernelspec": {
   "display_name": "base",
   "language": "python",
   "name": "python3"
  },
  "language_info": {
   "codemirror_mode": {
    "name": "ipython",
    "version": 3
   },
   "file_extension": ".py",
   "mimetype": "text/x-python",
   "name": "python",
   "nbconvert_exporter": "python",
   "pygments_lexer": "ipython3",
   "version": "3.9.12"
  },
  "orig_nbformat": 4
 },
 "nbformat": 4,
 "nbformat_minor": 2
}
