{
 "cells": [
  {
   "cell_type": "code",
   "execution_count": 5,
   "metadata": {},
   "outputs": [],
   "source": [
    "import pandas as pd\n",
    "import numpy as np\n",
    "from lenskit.algorithms import Recommender\n",
    "from lenskit.algorithms.user_knn import UserUser\n",
    "from lenskit.algorithms import user_knn\n",
    "from lenskit.algorithms import Recommender\n",
    "import warnings\n",
    "warnings.filterwarnings('ignore') # supress warning instead of printing them every time\n",
    "\n"
   ]
  },
  {
   "cell_type": "code",
   "execution_count": 6,
   "metadata": {},
   "outputs": [],
   "source": [
    "# Get the train and test data\n",
    "data_test = pd.read_csv(\"../dataset/clean/user_ratings_neg_1000_20_20_1_test.csv\")\n",
    "data_test = data_test.drop(columns=['Unnamed: 0'])\n",
    "data_train = pd.read_csv(\"../dataset/clean/user_ratings_neg_1000_20_20_1_train.csv\")\n",
    "data_train = data_train.drop(columns=['Unnamed: 0'])\n"
   ]
  },
  {
   "cell_type": "code",
   "execution_count": 7,
   "metadata": {},
   "outputs": [],
   "source": [
    "# Compute the user list to iterate through\n",
    "data_users = data_test[\"UserID\"].drop_duplicates()"
   ]
  },
  {
   "cell_type": "code",
   "execution_count": 8,
   "metadata": {},
   "outputs": [
    {
     "name": "stderr",
     "output_type": "stream",
     "text": [
      "OMP: Info #276: omp_set_nested routine deprecated, please use omp_set_max_active_levels instead.\n",
      "Numba is using threading layer omp - consider TBB\n",
      "found 1 potential runtime problems - see https://boi.st/lkpy-perf\n"
     ]
    },
    {
     "ename": "SystemError",
     "evalue": "CPUDispatcher(<function _from_coo_structure at 0x7f7a7887a280>) returned a result with an error set",
     "output_type": "error",
     "traceback": [
      "\u001b[0;31m---------------------------------------------------------------------------\u001b[0m",
      "\u001b[0;31mKeyboardInterrupt\u001b[0m                         Traceback (most recent call last)",
      "File \u001b[0;32m~/opt/anaconda3/lib/python3.9/site-packages/numba/core/serialize.py:30\u001b[0m, in \u001b[0;36m_numba_unpickle\u001b[0;34m(address, bytedata, hashed)\u001b[0m\n\u001b[1;32m     27\u001b[0m _unpickled_memo \u001b[39m=\u001b[39m {}\n\u001b[0;32m---> 30\u001b[0m \u001b[39mdef\u001b[39;00m \u001b[39m_numba_unpickle\u001b[39m(address, bytedata, hashed):\n\u001b[1;32m     31\u001b[0m \u001b[39m    \u001b[39m\u001b[39m\"\"\"Used by `numba_unpickle` from _helperlib.c\u001b[39;00m\n\u001b[1;32m     32\u001b[0m \n\u001b[1;32m     33\u001b[0m \u001b[39m    Parameters\u001b[39;00m\n\u001b[0;32m   (...)\u001b[0m\n\u001b[1;32m     42\u001b[0m \u001b[39m        unpickled object\u001b[39;00m\n\u001b[1;32m     43\u001b[0m \u001b[39m    \"\"\"\u001b[39;00m\n",
      "\u001b[0;31mKeyboardInterrupt\u001b[0m: ",
      "\nThe above exception was the direct cause of the following exception:\n",
      "\u001b[0;31mSystemError\u001b[0m                               Traceback (most recent call last)",
      "\u001b[0;31mSystemError\u001b[0m: _PyEval_EvalFrameDefault returned a result with an error set",
      "\nThe above exception was the direct cause of the following exception:\n",
      "\u001b[0;31mSystemError\u001b[0m                               Traceback (most recent call last)",
      "\u001b[1;32m/Users/kirillgugunishvili/Documents/GitHub/RecSys_group5/individual_rec/individual_rec_eval.ipynb Cell 4\u001b[0m line \u001b[0;36m2\n\u001b[1;32m     <a href='vscode-notebook-cell:/Users/kirillgugunishvili/Documents/GitHub/RecSys_group5/individual_rec/individual_rec_eval.ipynb#W3sZmlsZQ%3D%3D?line=21'>22</a>\u001b[0m user_user \u001b[39m=\u001b[39m UserUser(\u001b[39m15\u001b[39m, min_nbrs\u001b[39m=\u001b[39m\u001b[39m3\u001b[39m)\n\u001b[1;32m     <a href='vscode-notebook-cell:/Users/kirillgugunishvili/Documents/GitHub/RecSys_group5/individual_rec/individual_rec_eval.ipynb#W3sZmlsZQ%3D%3D?line=22'>23</a>\u001b[0m recsys \u001b[39m=\u001b[39m Recommender\u001b[39m.\u001b[39madapt(user_user)\n\u001b[0;32m---> <a href='vscode-notebook-cell:/Users/kirillgugunishvili/Documents/GitHub/RecSys_group5/individual_rec/individual_rec_eval.ipynb#W3sZmlsZQ%3D%3D?line=23'>24</a>\u001b[0m recsys\u001b[39m.\u001b[39;49mfit(df_train)  \n\u001b[1;32m     <a href='vscode-notebook-cell:/Users/kirillgugunishvili/Documents/GitHub/RecSys_group5/individual_rec/individual_rec_eval.ipynb#W3sZmlsZQ%3D%3D?line=25'>26</a>\u001b[0m \u001b[39m# Create recommendations\u001b[39;00m\n\u001b[1;32m     <a href='vscode-notebook-cell:/Users/kirillgugunishvili/Documents/GitHub/RecSys_group5/individual_rec/individual_rec_eval.ipynb#W3sZmlsZQ%3D%3D?line=26'>27</a>\u001b[0m selected_jobs \u001b[39m=\u001b[39m recsys\u001b[39m.\u001b[39mrecommend(user, \u001b[39m100\u001b[39m)\n",
      "File \u001b[0;32m~/opt/anaconda3/lib/python3.9/site-packages/lenskit/algorithms/ranking.py:58\u001b[0m, in \u001b[0;36mTopN.fit\u001b[0;34m(self, ratings, **kwargs)\u001b[0m\n\u001b[1;32m     47\u001b[0m \u001b[39m\u001b[39m\u001b[39m\"\"\"\u001b[39;00m\n\u001b[1;32m     48\u001b[0m \u001b[39mFit the recommender.\u001b[39;00m\n\u001b[1;32m     49\u001b[0m \n\u001b[0;32m   (...)\u001b[0m\n\u001b[1;32m     55\u001b[0m \u001b[39m        Additional arguments for the predictor to use in its training process.\u001b[39;00m\n\u001b[1;32m     56\u001b[0m \u001b[39m\"\"\"\u001b[39;00m\n\u001b[1;32m     57\u001b[0m \u001b[39mself\u001b[39m\u001b[39m.\u001b[39mpredictor\u001b[39m.\u001b[39mfit(ratings, \u001b[39m*\u001b[39m\u001b[39m*\u001b[39mkwargs)\n\u001b[0;32m---> 58\u001b[0m \u001b[39mself\u001b[39;49m\u001b[39m.\u001b[39;49mselector\u001b[39m.\u001b[39;49mfit(ratings, \u001b[39m*\u001b[39;49m\u001b[39m*\u001b[39;49mkwargs)\n\u001b[1;32m     59\u001b[0m \u001b[39mreturn\u001b[39;00m \u001b[39mself\u001b[39m\n",
      "File \u001b[0;32m~/opt/anaconda3/lib/python3.9/site-packages/lenskit/algorithms/basic.py:222\u001b[0m, in \u001b[0;36mUnratedItemCandidateSelector.fit\u001b[0;34m(self, ratings, **kwargs)\u001b[0m\n\u001b[1;32m    220\u001b[0m \u001b[39mdef\u001b[39;00m \u001b[39mfit\u001b[39m(\u001b[39mself\u001b[39m, ratings, \u001b[39m*\u001b[39m\u001b[39m*\u001b[39mkwargs):\n\u001b[1;32m    221\u001b[0m     r2 \u001b[39m=\u001b[39m ratings[[\u001b[39m'\u001b[39m\u001b[39muser\u001b[39m\u001b[39m'\u001b[39m, \u001b[39m'\u001b[39m\u001b[39mitem\u001b[39m\u001b[39m'\u001b[39m]]\n\u001b[0;32m--> 222\u001b[0m     sparse \u001b[39m=\u001b[39m sparse_ratings(r2)\n\u001b[1;32m    223\u001b[0m     _logger\u001b[39m.\u001b[39minfo(\u001b[39m'\u001b[39m\u001b[39mtrained unrated candidate selector for \u001b[39m\u001b[39m%d\u001b[39;00m\u001b[39m ratings\u001b[39m\u001b[39m'\u001b[39m, sparse\u001b[39m.\u001b[39mmatrix\u001b[39m.\u001b[39mnnz)\n\u001b[1;32m    224\u001b[0m     \u001b[39mself\u001b[39m\u001b[39m.\u001b[39mitems_ \u001b[39m=\u001b[39m sparse\u001b[39m.\u001b[39mitems\n",
      "File \u001b[0;32m~/opt/anaconda3/lib/python3.9/site-packages/lenskit/data/matrix.py:69\u001b[0m, in \u001b[0;36msparse_ratings\u001b[0;34m(ratings, scipy, users, items)\u001b[0m\n\u001b[1;32m     65\u001b[0m     matrix \u001b[39m=\u001b[39m sps\u001b[39m.\u001b[39mcoo_matrix(\n\u001b[1;32m     66\u001b[0m         (vals, (row_ind, col_ind)), shape\u001b[39m=\u001b[39m(\u001b[39mlen\u001b[39m(users), \u001b[39mlen\u001b[39m(items))\n\u001b[1;32m     67\u001b[0m     )\n\u001b[1;32m     68\u001b[0m \u001b[39melse\u001b[39;00m:\n\u001b[0;32m---> 69\u001b[0m     matrix \u001b[39m=\u001b[39m CSR\u001b[39m.\u001b[39;49mfrom_coo(row_ind, col_ind, vals, (\u001b[39mlen\u001b[39;49m(users), \u001b[39mlen\u001b[39;49m(items)))\n\u001b[1;32m     70\u001b[0m     \u001b[39mif\u001b[39;00m scipy:\n\u001b[1;32m     71\u001b[0m         matrix \u001b[39m=\u001b[39m matrix\u001b[39m.\u001b[39mto_scipy()\n",
      "File \u001b[0;32m~/opt/anaconda3/lib/python3.9/site-packages/csr/csr.py:168\u001b[0m, in \u001b[0;36mCSR.from_coo\u001b[0;34m(cls, rows, cols, vals, shape, rpdtype)\u001b[0m\n\u001b[1;32m    165\u001b[0m \u001b[39massert\u001b[39;00m \u001b[39mlen\u001b[39m(cols) \u001b[39m==\u001b[39m nnz\n\u001b[1;32m    166\u001b[0m \u001b[39massert\u001b[39;00m vals \u001b[39mis\u001b[39;00m \u001b[39mNone\u001b[39;00m \u001b[39mor\u001b[39;00m \u001b[39mlen\u001b[39m(vals) \u001b[39m==\u001b[39m nnz\n\u001b[0;32m--> 168\u001b[0m rowptrs, cols, vals \u001b[39m=\u001b[39m from_coo(nrows, rows, cols, vals)\n\u001b[1;32m    169\u001b[0m \u001b[39mreturn\u001b[39;00m \u001b[39mcls\u001b[39m(nrows, ncols, nnz, rowptrs, cols, vals)\n",
      "File \u001b[0;32m~/opt/anaconda3/lib/python3.9/site-packages/csr/structure.py:63\u001b[0m, in \u001b[0;36mfrom_coo\u001b[0;34m(nrows, rows, cols, values)\u001b[0m\n\u001b[1;32m     61\u001b[0m \u001b[39mdef\u001b[39;00m \u001b[39mfrom_coo\u001b[39m(nrows, rows, cols, values\u001b[39m=\u001b[39m\u001b[39mNone\u001b[39;00m):\n\u001b[1;32m     62\u001b[0m     \u001b[39mif\u001b[39;00m values \u001b[39mis\u001b[39;00m \u001b[39mNone\u001b[39;00m:\n\u001b[0;32m---> 63\u001b[0m         rps, cols \u001b[39m=\u001b[39m _from_coo_structure(nrows, rows, cols)\n\u001b[1;32m     64\u001b[0m         vals \u001b[39m=\u001b[39m \u001b[39mNone\u001b[39;00m\n\u001b[1;32m     65\u001b[0m     \u001b[39melse\u001b[39;00m:\n",
      "\u001b[0;31mSystemError\u001b[0m: CPUDispatcher(<function _from_coo_structure at 0x7f7a7887a280>) returned a result with an error set"
     ]
    }
   ],
   "source": [
    "# Create iteration loop for evaluation\n",
    "\n",
    "hitRate = 0.0 # counting hit rate\n",
    "testUserNum = 10000.0 # number of test users to compute hit rate\n",
    "counter = 0\n",
    "\n",
    "for idx, user in data_users.items():\n",
    "\n",
    "    # keep track of how many users togo through\n",
    "    counter+=1\n",
    "    if (counter > testUserNum): break\n",
    "\n",
    "    # compute test instances\n",
    "    testInstances = data_test[data_test[\"UserID\"]==user] \n",
    "\n",
    "    # convert test instances to training instances\n",
    "    trainAddOn = data_test[data_test[\"UserID\"]!=user] \n",
    "    df_train = pd.concat([data_train, trainAddOn], ignore_index=True)\n",
    "    df_train = df_train.rename(columns={\"UserID\": \"user\", \"JobID\": \"item\", \"Rating\": \"rating\"})\n",
    "\n",
    "    # train on data\n",
    "    user_user = UserUser(15, min_nbrs=3)\n",
    "    recsys = Recommender.adapt(user_user)\n",
    "    recsys.fit(df_train)  \n",
    "\n",
    "    # Create recommendations\n",
    "    selected_jobs = recsys.recommend(user, 100)\n",
    "    \n",
    "    # check if any of the jobs is contained inside\n",
    "    for idx in testInstances.index:\n",
    "        job = testInstances.loc[idx, \"JobID\"]\n",
    "        # count one hit if job is in the list\n",
    "        if (selected_jobs[\"item\"] == job).any():\n",
    "            hitRate+=1\n",
    "            break \n",
    "    \n",
    "print(hitRate/testUserNum)\n"
   ]
  }
 ],
 "metadata": {
  "kernelspec": {
   "display_name": "base",
   "language": "python",
   "name": "python3"
  },
  "language_info": {
   "codemirror_mode": {
    "name": "ipython",
    "version": 3
   },
   "file_extension": ".py",
   "mimetype": "text/x-python",
   "name": "python",
   "nbconvert_exporter": "python",
   "pygments_lexer": "ipython3",
   "version": "3.9.12"
  },
  "orig_nbformat": 4
 },
 "nbformat": 4,
 "nbformat_minor": 2
}
