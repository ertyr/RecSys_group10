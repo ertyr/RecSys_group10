{
 "cells": [
  {
   "cell_type": "markdown",
   "source": [
    "# Recommender System Explanation"
   ],
   "metadata": {
    "collapsed": false
   },
   "id": "bdb4267b0fa72da5"
  },
  {
   "cell_type": "markdown",
   "source": [
    "## Set up"
   ],
   "metadata": {
    "collapsed": false
   },
   "id": "42ac60dec0ff6cfa"
  },
  {
   "cell_type": "markdown",
   "source": [
    "### Import Libraries"
   ],
   "metadata": {
    "collapsed": false
   },
   "id": "dbec9169bf448f7e"
  },
  {
   "cell_type": "code",
   "execution_count": 1,
   "outputs": [],
   "source": [
    "import pickle\n",
    "import numpy\n",
    "\n",
    "import pandas\n",
    "import dask.dataframe as dask_dataframe\n",
    "\n",
    "from src.generate_ratings import generate_rating_set\n",
    "from src.generate_train_test import generate_train_test_set\n",
    "\n",
    "from sklearn.neighbors import NearestNeighbors"
   ],
   "metadata": {
    "collapsed": false,
    "ExecuteTime": {
     "end_time": "2023-10-09T14:58:23.250745400Z",
     "start_time": "2023-10-09T14:58:19.198011900Z"
    }
   },
   "id": "775c8fc9fbec9f7"
  },
  {
   "cell_type": "markdown",
   "source": [
    "### Load Raw Dataset"
   ],
   "metadata": {
    "collapsed": false
   },
   "id": "660ee119cd6301c"
  },
  {
   "cell_type": "code",
   "execution_count": 2,
   "outputs": [
    {
     "name": "stdout",
     "output_type": "stream",
     "text": [
      "User rating dimension: (1603111, 5)\n",
      "User detail dimension: (389708, 15)\n",
      "Popular jobs dimension: (389708, 2)\n",
      "Job detail dimension: (1091923, 11)\n"
     ]
    },
    {
     "name": "stderr",
     "output_type": "stream",
     "text": [
      "C:\\Users\\tinet\\AppData\\Local\\Temp\\ipykernel_19364\\411505549.py:4: DtypeWarning: Columns (8) have mixed types. Specify dtype option on import or set low_memory=False.\n",
      "  jobs_df = pandas.read_table('dataset/jobs.tsv', sep='\\t', on_bad_lines='skip')\n"
     ]
    },
    {
     "data": {
      "text/plain": "   UserID  WindowID  Split          ApplicationDate   JobID\n0      47         1  Train  2012-04-04 15:56:23.537  169528\n1      47         1  Train  2012-04-06 01:03:00.003  284009\n2      47         1  Train  2012-04-05 02:40:27.753    2121\n3      47         1  Train  2012-04-05 02:37:02.673  848187\n4      47         1  Train  2012-04-05 22:44:06.653  733748",
      "text/html": "<div>\n<style scoped>\n    .dataframe tbody tr th:only-of-type {\n        vertical-align: middle;\n    }\n\n    .dataframe tbody tr th {\n        vertical-align: top;\n    }\n\n    .dataframe thead th {\n        text-align: right;\n    }\n</style>\n<table border=\"1\" class=\"dataframe\">\n  <thead>\n    <tr style=\"text-align: right;\">\n      <th></th>\n      <th>UserID</th>\n      <th>WindowID</th>\n      <th>Split</th>\n      <th>ApplicationDate</th>\n      <th>JobID</th>\n    </tr>\n  </thead>\n  <tbody>\n    <tr>\n      <th>0</th>\n      <td>47</td>\n      <td>1</td>\n      <td>Train</td>\n      <td>2012-04-04 15:56:23.537</td>\n      <td>169528</td>\n    </tr>\n    <tr>\n      <th>1</th>\n      <td>47</td>\n      <td>1</td>\n      <td>Train</td>\n      <td>2012-04-06 01:03:00.003</td>\n      <td>284009</td>\n    </tr>\n    <tr>\n      <th>2</th>\n      <td>47</td>\n      <td>1</td>\n      <td>Train</td>\n      <td>2012-04-05 02:40:27.753</td>\n      <td>2121</td>\n    </tr>\n    <tr>\n      <th>3</th>\n      <td>47</td>\n      <td>1</td>\n      <td>Train</td>\n      <td>2012-04-05 02:37:02.673</td>\n      <td>848187</td>\n    </tr>\n    <tr>\n      <th>4</th>\n      <td>47</td>\n      <td>1</td>\n      <td>Train</td>\n      <td>2012-04-05 22:44:06.653</td>\n      <td>733748</td>\n    </tr>\n  </tbody>\n</table>\n</div>"
     },
     "metadata": {},
     "output_type": "display_data"
    },
    {
     "data": {
      "text/plain": "   UserID  WindowID  Split          City State Country ZipCode   DegreeType  \\\n0      47         1  Train     Paramount    CA      US   90723  High School   \n1      72         1  Train       La Mesa    CA      US   91941     Master's   \n2      80         1  Train  Williamstown    NJ      US   08094  High School   \n3      98         1  Train       Astoria    NY      US   11105     Master's   \n4     123         1  Train   Baton Rouge    LA      US   70808   Bachelor's   \n\n                   Major       GraduationDate  WorkHistoryCount  \\\n0                    NaN  1999-06-01 00:00:00                 3   \n1           Anthropology  2011-01-01 00:00:00                10   \n2         Not Applicable  1985-06-01 00:00:00                 5   \n3             Journalism  2007-05-01 00:00:00                 3   \n4  Agricultural Business  2011-05-01 00:00:00                 1   \n\n   TotalYearsExperience CurrentlyEmployed ManagedOthers  ManagedHowMany  \n0                  10.0               Yes            No               0  \n1                   8.0               Yes            No               0  \n2                  11.0               Yes           Yes               5  \n3                   3.0               Yes            No               0  \n4                   9.0               Yes            No               0  ",
      "text/html": "<div>\n<style scoped>\n    .dataframe tbody tr th:only-of-type {\n        vertical-align: middle;\n    }\n\n    .dataframe tbody tr th {\n        vertical-align: top;\n    }\n\n    .dataframe thead th {\n        text-align: right;\n    }\n</style>\n<table border=\"1\" class=\"dataframe\">\n  <thead>\n    <tr style=\"text-align: right;\">\n      <th></th>\n      <th>UserID</th>\n      <th>WindowID</th>\n      <th>Split</th>\n      <th>City</th>\n      <th>State</th>\n      <th>Country</th>\n      <th>ZipCode</th>\n      <th>DegreeType</th>\n      <th>Major</th>\n      <th>GraduationDate</th>\n      <th>WorkHistoryCount</th>\n      <th>TotalYearsExperience</th>\n      <th>CurrentlyEmployed</th>\n      <th>ManagedOthers</th>\n      <th>ManagedHowMany</th>\n    </tr>\n  </thead>\n  <tbody>\n    <tr>\n      <th>0</th>\n      <td>47</td>\n      <td>1</td>\n      <td>Train</td>\n      <td>Paramount</td>\n      <td>CA</td>\n      <td>US</td>\n      <td>90723</td>\n      <td>High School</td>\n      <td>NaN</td>\n      <td>1999-06-01 00:00:00</td>\n      <td>3</td>\n      <td>10.0</td>\n      <td>Yes</td>\n      <td>No</td>\n      <td>0</td>\n    </tr>\n    <tr>\n      <th>1</th>\n      <td>72</td>\n      <td>1</td>\n      <td>Train</td>\n      <td>La Mesa</td>\n      <td>CA</td>\n      <td>US</td>\n      <td>91941</td>\n      <td>Master's</td>\n      <td>Anthropology</td>\n      <td>2011-01-01 00:00:00</td>\n      <td>10</td>\n      <td>8.0</td>\n      <td>Yes</td>\n      <td>No</td>\n      <td>0</td>\n    </tr>\n    <tr>\n      <th>2</th>\n      <td>80</td>\n      <td>1</td>\n      <td>Train</td>\n      <td>Williamstown</td>\n      <td>NJ</td>\n      <td>US</td>\n      <td>08094</td>\n      <td>High School</td>\n      <td>Not Applicable</td>\n      <td>1985-06-01 00:00:00</td>\n      <td>5</td>\n      <td>11.0</td>\n      <td>Yes</td>\n      <td>Yes</td>\n      <td>5</td>\n    </tr>\n    <tr>\n      <th>3</th>\n      <td>98</td>\n      <td>1</td>\n      <td>Train</td>\n      <td>Astoria</td>\n      <td>NY</td>\n      <td>US</td>\n      <td>11105</td>\n      <td>Master's</td>\n      <td>Journalism</td>\n      <td>2007-05-01 00:00:00</td>\n      <td>3</td>\n      <td>3.0</td>\n      <td>Yes</td>\n      <td>No</td>\n      <td>0</td>\n    </tr>\n    <tr>\n      <th>4</th>\n      <td>123</td>\n      <td>1</td>\n      <td>Train</td>\n      <td>Baton Rouge</td>\n      <td>LA</td>\n      <td>US</td>\n      <td>70808</td>\n      <td>Bachelor's</td>\n      <td>Agricultural Business</td>\n      <td>2011-05-01 00:00:00</td>\n      <td>1</td>\n      <td>9.0</td>\n      <td>Yes</td>\n      <td>No</td>\n      <td>0</td>\n    </tr>\n  </tbody>\n</table>\n</div>"
     },
     "metadata": {},
     "output_type": "display_data"
    },
    {
     "data": {
      "text/plain": "   UserID                                              JobID\n0      47  982331 979937 821993 711528 688334 687409 6265...\n1      72  1105054 1009975 960607 946809 943507 935727 90...\n2      80  1073864 899228 87383 1116150 1116003 1115812 1...\n3      98  1100130 1084489 1000230 935816 907760 877552 8...\n4     123  1108926 1107596 1107473 1107254 1107158 110197...",
      "text/html": "<div>\n<style scoped>\n    .dataframe tbody tr th:only-of-type {\n        vertical-align: middle;\n    }\n\n    .dataframe tbody tr th {\n        vertical-align: top;\n    }\n\n    .dataframe thead th {\n        text-align: right;\n    }\n</style>\n<table border=\"1\" class=\"dataframe\">\n  <thead>\n    <tr style=\"text-align: right;\">\n      <th></th>\n      <th>UserID</th>\n      <th>JobID</th>\n    </tr>\n  </thead>\n  <tbody>\n    <tr>\n      <th>0</th>\n      <td>47</td>\n      <td>982331 979937 821993 711528 688334 687409 6265...</td>\n    </tr>\n    <tr>\n      <th>1</th>\n      <td>72</td>\n      <td>1105054 1009975 960607 946809 943507 935727 90...</td>\n    </tr>\n    <tr>\n      <th>2</th>\n      <td>80</td>\n      <td>1073864 899228 87383 1116150 1116003 1115812 1...</td>\n    </tr>\n    <tr>\n      <th>3</th>\n      <td>98</td>\n      <td>1100130 1084489 1000230 935816 907760 877552 8...</td>\n    </tr>\n    <tr>\n      <th>4</th>\n      <td>123</td>\n      <td>1108926 1107596 1107473 1107254 1107158 110197...</td>\n    </tr>\n  </tbody>\n</table>\n</div>"
     },
     "metadata": {},
     "output_type": "display_data"
    },
    {
     "data": {
      "text/plain": "   JobID  WindowID                             Title  \\\n0      1         1  Security Engineer/Technical Lead   \n1      4         1         SAP Business Analyst / WM   \n2      7         1     P/T HUMAN RESOURCES ASSISTANT   \n3      8         1            Route Delivery Drivers   \n4      9         1                      Housekeeping   \n\n                                         Description  \\\n0  <p>Security Clearance Required:&nbsp; Top Secr...   \n1  <strong>NO Corp. to Corp resumes&nbsp;are bein...   \n2  <b>    <b> P/T HUMAN RESOURCES ASSISTANT</b> <...   \n3  CITY BEVERAGES Come to work for the best in th...   \n4  I make  sure every part of their day is magica...   \n\n                                        Requirements         City State  \\\n0  <p>SKILL SET</p>\\r<p>&nbsp;</p>\\r<p>Network Se...   Washington    DC   \n1  <p><b>WHAT YOU NEED: </b></p>\\r<p>Four year co...    Charlotte    NC   \n2  Please refer to the Job Description to view th...  Winter Park    FL   \n3  Please refer to the Job Description to view th...      Orlando    FL   \n4  Please refer to the Job Description to view th...      Orlando    FL   \n\n  Country   Zip5                StartDate              EndDate  \n0      US  20531  2012-03-07 13:17:01.643  2012-04-06 23:59:59  \n1      US  28217  2012-03-21 02:03:44.137  2012-04-20 23:59:59  \n2      US  32792  2012-03-02 16:36:55.447  2012-04-01 23:59:59  \n3      US    NaN  2012-03-03 09:01:10.077  2012-04-02 23:59:59  \n4      US    NaN   2012-03-03 09:01:11.88  2012-04-02 23:59:59  ",
      "text/html": "<div>\n<style scoped>\n    .dataframe tbody tr th:only-of-type {\n        vertical-align: middle;\n    }\n\n    .dataframe tbody tr th {\n        vertical-align: top;\n    }\n\n    .dataframe thead th {\n        text-align: right;\n    }\n</style>\n<table border=\"1\" class=\"dataframe\">\n  <thead>\n    <tr style=\"text-align: right;\">\n      <th></th>\n      <th>JobID</th>\n      <th>WindowID</th>\n      <th>Title</th>\n      <th>Description</th>\n      <th>Requirements</th>\n      <th>City</th>\n      <th>State</th>\n      <th>Country</th>\n      <th>Zip5</th>\n      <th>StartDate</th>\n      <th>EndDate</th>\n    </tr>\n  </thead>\n  <tbody>\n    <tr>\n      <th>0</th>\n      <td>1</td>\n      <td>1</td>\n      <td>Security Engineer/Technical Lead</td>\n      <td>&lt;p&gt;Security Clearance Required:&amp;nbsp; Top Secr...</td>\n      <td>&lt;p&gt;SKILL SET&lt;/p&gt;\\r&lt;p&gt;&amp;nbsp;&lt;/p&gt;\\r&lt;p&gt;Network Se...</td>\n      <td>Washington</td>\n      <td>DC</td>\n      <td>US</td>\n      <td>20531</td>\n      <td>2012-03-07 13:17:01.643</td>\n      <td>2012-04-06 23:59:59</td>\n    </tr>\n    <tr>\n      <th>1</th>\n      <td>4</td>\n      <td>1</td>\n      <td>SAP Business Analyst / WM</td>\n      <td>&lt;strong&gt;NO Corp. to Corp resumes&amp;nbsp;are bein...</td>\n      <td>&lt;p&gt;&lt;b&gt;WHAT YOU NEED: &lt;/b&gt;&lt;/p&gt;\\r&lt;p&gt;Four year co...</td>\n      <td>Charlotte</td>\n      <td>NC</td>\n      <td>US</td>\n      <td>28217</td>\n      <td>2012-03-21 02:03:44.137</td>\n      <td>2012-04-20 23:59:59</td>\n    </tr>\n    <tr>\n      <th>2</th>\n      <td>7</td>\n      <td>1</td>\n      <td>P/T HUMAN RESOURCES ASSISTANT</td>\n      <td>&lt;b&gt;    &lt;b&gt; P/T HUMAN RESOURCES ASSISTANT&lt;/b&gt; &lt;...</td>\n      <td>Please refer to the Job Description to view th...</td>\n      <td>Winter Park</td>\n      <td>FL</td>\n      <td>US</td>\n      <td>32792</td>\n      <td>2012-03-02 16:36:55.447</td>\n      <td>2012-04-01 23:59:59</td>\n    </tr>\n    <tr>\n      <th>3</th>\n      <td>8</td>\n      <td>1</td>\n      <td>Route Delivery Drivers</td>\n      <td>CITY BEVERAGES Come to work for the best in th...</td>\n      <td>Please refer to the Job Description to view th...</td>\n      <td>Orlando</td>\n      <td>FL</td>\n      <td>US</td>\n      <td>NaN</td>\n      <td>2012-03-03 09:01:10.077</td>\n      <td>2012-04-02 23:59:59</td>\n    </tr>\n    <tr>\n      <th>4</th>\n      <td>9</td>\n      <td>1</td>\n      <td>Housekeeping</td>\n      <td>I make  sure every part of their day is magica...</td>\n      <td>Please refer to the Job Description to view th...</td>\n      <td>Orlando</td>\n      <td>FL</td>\n      <td>US</td>\n      <td>NaN</td>\n      <td>2012-03-03 09:01:11.88</td>\n      <td>2012-04-02 23:59:59</td>\n    </tr>\n  </tbody>\n</table>\n</div>"
     },
     "metadata": {},
     "output_type": "display_data"
    }
   ],
   "source": [
    "user_ratings_df = pandas.read_table('dataset/apps.tsv', sep='\\t')\n",
    "users_df = pandas.read_table('dataset/users.tsv', sep='\\t')\n",
    "popular_jobs_df = pandas.read_csv('dataset/popular_jobs_full.csv')\n",
    "jobs_df = pandas.read_table('dataset/jobs.tsv', sep='\\t', on_bad_lines='skip')\n",
    "\n",
    "print(f'User rating dimension: {user_ratings_df.shape}')\n",
    "print(f'User detail dimension: {users_df.shape}')\n",
    "print(f'Popular jobs dimension: {popular_jobs_df.shape}')\n",
    "print(f'Job detail dimension: {jobs_df.shape}')\n",
    "\n",
    "\n",
    "display(user_ratings_df.head(5))\n",
    "display(users_df.head(5))\n",
    "display(popular_jobs_df.head(5))\n",
    "display(jobs_df.head(5))"
   ],
   "metadata": {
    "collapsed": false,
    "ExecuteTime": {
     "end_time": "2023-10-09T14:59:06.795459300Z",
     "start_time": "2023-10-09T14:58:23.245660900Z"
    }
   },
   "id": "653e0b61b27bdcf6"
  },
  {
   "cell_type": "markdown",
   "source": [
    "## Data Preprocessing"
   ],
   "metadata": {
    "collapsed": false
   },
   "id": "7ff20a00893e14e2"
  },
  {
   "cell_type": "markdown",
   "source": [
    "### Step 1: Scope dataset to location based dataset\n",
    "\n",
    "Since most of the users and job posts are collected from the US. We focus primarily on the US data and filter state with enough data points"
   ],
   "metadata": {
    "collapsed": false
   },
   "id": "8dafc784176706c7"
  },
  {
   "cell_type": "code",
   "execution_count": 11,
   "outputs": [
    {
     "name": "stdout",
     "output_type": "stream",
     "text": [
      "User details: Total user globally = 389708\n",
      "User details: US focus user = 388499\n",
      "\n",
      "User rating: Full ratings count: 1603111\n",
      "----------------------------------------------\n",
      "State: All US state count: 56\n",
      "State: US state with minimum 1000 userbase number: 37\n"
     ]
    },
    {
     "data": {
      "text/plain": "    State\nFL  43100\nTX  35864\nCA  33019\nIL  24322\nNY  20578\nPA  17103\nGA  16156\nNJ  15706\nOH  15498\nNC  14755",
      "text/html": "<div>\n<style scoped>\n    .dataframe tbody tr th:only-of-type {\n        vertical-align: middle;\n    }\n\n    .dataframe tbody tr th {\n        vertical-align: top;\n    }\n\n    .dataframe thead th {\n        text-align: right;\n    }\n</style>\n<table border=\"1\" class=\"dataframe\">\n  <thead>\n    <tr style=\"text-align: right;\">\n      <th></th>\n      <th>State</th>\n    </tr>\n  </thead>\n  <tbody>\n    <tr>\n      <th>FL</th>\n      <td>43100</td>\n    </tr>\n    <tr>\n      <th>TX</th>\n      <td>35864</td>\n    </tr>\n    <tr>\n      <th>CA</th>\n      <td>33019</td>\n    </tr>\n    <tr>\n      <th>IL</th>\n      <td>24322</td>\n    </tr>\n    <tr>\n      <th>NY</th>\n      <td>20578</td>\n    </tr>\n    <tr>\n      <th>PA</th>\n      <td>17103</td>\n    </tr>\n    <tr>\n      <th>GA</th>\n      <td>16156</td>\n    </tr>\n    <tr>\n      <th>NJ</th>\n      <td>15706</td>\n    </tr>\n    <tr>\n      <th>OH</th>\n      <td>15498</td>\n    </tr>\n    <tr>\n      <th>NC</th>\n      <td>14755</td>\n    </tr>\n  </tbody>\n</table>\n</div>"
     },
     "metadata": {},
     "output_type": "display_data"
    },
    {
     "name": "stdout",
     "output_type": "stream",
     "text": [
      "----------------------------------------------\n",
      "User details: Before states filtering = 388499\n",
      "User details: After states filtering = 382829\n",
      "\n",
      "User ratings: Before states filtering = 1603111\n",
      "User ratings: After states filtering = 1579408\n"
     ]
    },
    {
     "data": {
      "text/plain": "    UserID  WindowID  Split          City State Country ZipCode   DegreeType  \\\n0       47         1  Train     Paramount    CA      US   90723  High School   \n1       72         1  Train       La Mesa    CA      US   91941     Master's   \n2       80         1  Train  Williamstown    NJ      US   08094  High School   \n3       98         1  Train       Astoria    NY      US   11105     Master's   \n4      123         1  Train   Baton Rouge    LA      US   70808   Bachelor's   \n5      131         1  Train       Houston    TX      US   77077   Bachelor's   \n6      162         1  Train    Long Beach    CA      US   90807     Master's   \n7      178         1  Train    Greenville    SC      US   29609  High School   \n9      344         1  Train  Newport News    VA      US   23601  High School   \n10     395         1  Train      Wildwood    MO      US   63038   Bachelor's   \n\n                    Major       GraduationDate  WorkHistoryCount  \\\n0                     NaN  1999-06-01 00:00:00                 3   \n1            Anthropology  2011-01-01 00:00:00                10   \n2          Not Applicable  1985-06-01 00:00:00                 5   \n3              Journalism  2007-05-01 00:00:00                 3   \n4   Agricultural Business  2011-05-01 00:00:00                 1   \n5                 Finance  1998-05-01 00:00:00                 3   \n6          I/O Psychology  2012-05-01 00:00:00                10   \n7          Not Applicable                  NaN                 6   \n9          Not Applicable  2007-01-01 00:00:00                 3   \n10              Marketing                  NaN                10   \n\n    TotalYearsExperience CurrentlyEmployed ManagedOthers  ManagedHowMany  \n0                   10.0               Yes            No               0  \n1                    8.0               Yes            No               0  \n2                   11.0               Yes           Yes               5  \n3                    3.0               Yes            No               0  \n4                    9.0               Yes            No               0  \n5                   14.0               NaN            No               0  \n6                   25.0                No            No               0  \n7                   35.0                No           Yes               4  \n9                    7.0               Yes            No               0  \n10                  24.0               Yes            No               0  ",
      "text/html": "<div>\n<style scoped>\n    .dataframe tbody tr th:only-of-type {\n        vertical-align: middle;\n    }\n\n    .dataframe tbody tr th {\n        vertical-align: top;\n    }\n\n    .dataframe thead th {\n        text-align: right;\n    }\n</style>\n<table border=\"1\" class=\"dataframe\">\n  <thead>\n    <tr style=\"text-align: right;\">\n      <th></th>\n      <th>UserID</th>\n      <th>WindowID</th>\n      <th>Split</th>\n      <th>City</th>\n      <th>State</th>\n      <th>Country</th>\n      <th>ZipCode</th>\n      <th>DegreeType</th>\n      <th>Major</th>\n      <th>GraduationDate</th>\n      <th>WorkHistoryCount</th>\n      <th>TotalYearsExperience</th>\n      <th>CurrentlyEmployed</th>\n      <th>ManagedOthers</th>\n      <th>ManagedHowMany</th>\n    </tr>\n  </thead>\n  <tbody>\n    <tr>\n      <th>0</th>\n      <td>47</td>\n      <td>1</td>\n      <td>Train</td>\n      <td>Paramount</td>\n      <td>CA</td>\n      <td>US</td>\n      <td>90723</td>\n      <td>High School</td>\n      <td>NaN</td>\n      <td>1999-06-01 00:00:00</td>\n      <td>3</td>\n      <td>10.0</td>\n      <td>Yes</td>\n      <td>No</td>\n      <td>0</td>\n    </tr>\n    <tr>\n      <th>1</th>\n      <td>72</td>\n      <td>1</td>\n      <td>Train</td>\n      <td>La Mesa</td>\n      <td>CA</td>\n      <td>US</td>\n      <td>91941</td>\n      <td>Master's</td>\n      <td>Anthropology</td>\n      <td>2011-01-01 00:00:00</td>\n      <td>10</td>\n      <td>8.0</td>\n      <td>Yes</td>\n      <td>No</td>\n      <td>0</td>\n    </tr>\n    <tr>\n      <th>2</th>\n      <td>80</td>\n      <td>1</td>\n      <td>Train</td>\n      <td>Williamstown</td>\n      <td>NJ</td>\n      <td>US</td>\n      <td>08094</td>\n      <td>High School</td>\n      <td>Not Applicable</td>\n      <td>1985-06-01 00:00:00</td>\n      <td>5</td>\n      <td>11.0</td>\n      <td>Yes</td>\n      <td>Yes</td>\n      <td>5</td>\n    </tr>\n    <tr>\n      <th>3</th>\n      <td>98</td>\n      <td>1</td>\n      <td>Train</td>\n      <td>Astoria</td>\n      <td>NY</td>\n      <td>US</td>\n      <td>11105</td>\n      <td>Master's</td>\n      <td>Journalism</td>\n      <td>2007-05-01 00:00:00</td>\n      <td>3</td>\n      <td>3.0</td>\n      <td>Yes</td>\n      <td>No</td>\n      <td>0</td>\n    </tr>\n    <tr>\n      <th>4</th>\n      <td>123</td>\n      <td>1</td>\n      <td>Train</td>\n      <td>Baton Rouge</td>\n      <td>LA</td>\n      <td>US</td>\n      <td>70808</td>\n      <td>Bachelor's</td>\n      <td>Agricultural Business</td>\n      <td>2011-05-01 00:00:00</td>\n      <td>1</td>\n      <td>9.0</td>\n      <td>Yes</td>\n      <td>No</td>\n      <td>0</td>\n    </tr>\n    <tr>\n      <th>5</th>\n      <td>131</td>\n      <td>1</td>\n      <td>Train</td>\n      <td>Houston</td>\n      <td>TX</td>\n      <td>US</td>\n      <td>77077</td>\n      <td>Bachelor's</td>\n      <td>Finance</td>\n      <td>1998-05-01 00:00:00</td>\n      <td>3</td>\n      <td>14.0</td>\n      <td>NaN</td>\n      <td>No</td>\n      <td>0</td>\n    </tr>\n    <tr>\n      <th>6</th>\n      <td>162</td>\n      <td>1</td>\n      <td>Train</td>\n      <td>Long Beach</td>\n      <td>CA</td>\n      <td>US</td>\n      <td>90807</td>\n      <td>Master's</td>\n      <td>I/O Psychology</td>\n      <td>2012-05-01 00:00:00</td>\n      <td>10</td>\n      <td>25.0</td>\n      <td>No</td>\n      <td>No</td>\n      <td>0</td>\n    </tr>\n    <tr>\n      <th>7</th>\n      <td>178</td>\n      <td>1</td>\n      <td>Train</td>\n      <td>Greenville</td>\n      <td>SC</td>\n      <td>US</td>\n      <td>29609</td>\n      <td>High School</td>\n      <td>Not Applicable</td>\n      <td>NaN</td>\n      <td>6</td>\n      <td>35.0</td>\n      <td>No</td>\n      <td>Yes</td>\n      <td>4</td>\n    </tr>\n    <tr>\n      <th>9</th>\n      <td>344</td>\n      <td>1</td>\n      <td>Train</td>\n      <td>Newport News</td>\n      <td>VA</td>\n      <td>US</td>\n      <td>23601</td>\n      <td>High School</td>\n      <td>Not Applicable</td>\n      <td>2007-01-01 00:00:00</td>\n      <td>3</td>\n      <td>7.0</td>\n      <td>Yes</td>\n      <td>No</td>\n      <td>0</td>\n    </tr>\n    <tr>\n      <th>10</th>\n      <td>395</td>\n      <td>1</td>\n      <td>Train</td>\n      <td>Wildwood</td>\n      <td>MO</td>\n      <td>US</td>\n      <td>63038</td>\n      <td>Bachelor's</td>\n      <td>Marketing</td>\n      <td>NaN</td>\n      <td>10</td>\n      <td>24.0</td>\n      <td>Yes</td>\n      <td>No</td>\n      <td>0</td>\n    </tr>\n  </tbody>\n</table>\n</div>"
     },
     "metadata": {},
     "output_type": "display_data"
    },
    {
     "data": {
      "text/plain": "   UserID  WindowID  Split          ApplicationDate    JobID\n0      47         1  Train  2012-04-04 15:56:23.537   169528\n1      47         1  Train  2012-04-06 01:03:00.003   284009\n2      47         1  Train  2012-04-05 02:40:27.753     2121\n3      47         1  Train  2012-04-05 02:37:02.673   848187\n4      47         1  Train  2012-04-05 22:44:06.653   733748\n5      47         1  Train  2012-04-05 02:34:40.223   576958\n6      47         1  Train  2012-04-05 22:55:03.583   262470\n7      47         1  Train   2012-04-05 02:38:49.52   602298\n8      72         1  Train  2012-04-02 22:36:43.033   834662\n9      72         1  Train  2012-04-07 15:19:58.187  1020903",
      "text/html": "<div>\n<style scoped>\n    .dataframe tbody tr th:only-of-type {\n        vertical-align: middle;\n    }\n\n    .dataframe tbody tr th {\n        vertical-align: top;\n    }\n\n    .dataframe thead th {\n        text-align: right;\n    }\n</style>\n<table border=\"1\" class=\"dataframe\">\n  <thead>\n    <tr style=\"text-align: right;\">\n      <th></th>\n      <th>UserID</th>\n      <th>WindowID</th>\n      <th>Split</th>\n      <th>ApplicationDate</th>\n      <th>JobID</th>\n    </tr>\n  </thead>\n  <tbody>\n    <tr>\n      <th>0</th>\n      <td>47</td>\n      <td>1</td>\n      <td>Train</td>\n      <td>2012-04-04 15:56:23.537</td>\n      <td>169528</td>\n    </tr>\n    <tr>\n      <th>1</th>\n      <td>47</td>\n      <td>1</td>\n      <td>Train</td>\n      <td>2012-04-06 01:03:00.003</td>\n      <td>284009</td>\n    </tr>\n    <tr>\n      <th>2</th>\n      <td>47</td>\n      <td>1</td>\n      <td>Train</td>\n      <td>2012-04-05 02:40:27.753</td>\n      <td>2121</td>\n    </tr>\n    <tr>\n      <th>3</th>\n      <td>47</td>\n      <td>1</td>\n      <td>Train</td>\n      <td>2012-04-05 02:37:02.673</td>\n      <td>848187</td>\n    </tr>\n    <tr>\n      <th>4</th>\n      <td>47</td>\n      <td>1</td>\n      <td>Train</td>\n      <td>2012-04-05 22:44:06.653</td>\n      <td>733748</td>\n    </tr>\n    <tr>\n      <th>5</th>\n      <td>47</td>\n      <td>1</td>\n      <td>Train</td>\n      <td>2012-04-05 02:34:40.223</td>\n      <td>576958</td>\n    </tr>\n    <tr>\n      <th>6</th>\n      <td>47</td>\n      <td>1</td>\n      <td>Train</td>\n      <td>2012-04-05 22:55:03.583</td>\n      <td>262470</td>\n    </tr>\n    <tr>\n      <th>7</th>\n      <td>47</td>\n      <td>1</td>\n      <td>Train</td>\n      <td>2012-04-05 02:38:49.52</td>\n      <td>602298</td>\n    </tr>\n    <tr>\n      <th>8</th>\n      <td>72</td>\n      <td>1</td>\n      <td>Train</td>\n      <td>2012-04-02 22:36:43.033</td>\n      <td>834662</td>\n    </tr>\n    <tr>\n      <th>9</th>\n      <td>72</td>\n      <td>1</td>\n      <td>Train</td>\n      <td>2012-04-07 15:19:58.187</td>\n      <td>1020903</td>\n    </tr>\n  </tbody>\n</table>\n</div>"
     },
     "metadata": {},
     "output_type": "display_data"
    }
   ],
   "source": [
    "MIN_STATE_THRESHOLD = 1000\n",
    "print(f'User details: Total user globally = {users_df.shape[0]}')\n",
    "us_users_df = users_df[users_df['Country']=='US']\n",
    "print(f'User details: US focus user = {us_users_df.shape[0]}\\n')\n",
    "\n",
    "print(f'User rating: Full ratings count: {user_ratings_df.shape[0]}')\n",
    "\n",
    "unique_states_df = us_users_df['State'].value_counts().to_frame()\n",
    "state_to_keep = unique_states_df[unique_states_df['State'] >= MIN_STATE_THRESHOLD].index.tolist()\n",
    "\n",
    "print('----------------------------------------------')\n",
    "print(f'State: All US state count: {unique_states_df.shape[0]}')\n",
    "print(f'State: US state with minimum {MIN_STATE_THRESHOLD} userbase number: {len(state_to_keep)}')\n",
    "display(unique_states_df.head(10))\n",
    "print('----------------------------------------------')\n",
    "\n",
    "print(f'User details: Before states filtering = {us_users_df.shape[0]}')\n",
    "us_users_df = us_users_df[us_users_df['State'].isin(state_to_keep)]\n",
    "print(f'User details: After states filtering = {us_users_df.shape[0]}\\n')\n",
    "\n",
    "print(f'User ratings: Before states filtering = {user_ratings_df.shape[0]}')\n",
    "temp_user_ratings_df = user_ratings_df[user_ratings_df['UserID'].isin(us_users_df['UserID'].values.tolist())]\n",
    "print(f'User ratings: After states filtering = {temp_user_ratings_df.shape[0]}\\n')\n",
    "\n",
    "display(us_users_df.head(10))\n",
    "display(temp_user_ratings_df.head(10))"
   ],
   "metadata": {
    "collapsed": false,
    "ExecuteTime": {
     "end_time": "2023-10-09T08:31:14.044539900Z",
     "start_time": "2023-10-09T08:31:13.317047900Z"
    }
   },
   "id": "23f9786d1fcb79e1"
  },
  {
   "cell_type": "markdown",
   "source": [
    "### Step 2: User Application Filtering"
   ],
   "metadata": {
    "collapsed": false
   },
   "id": "76320f6a7126089a"
  },
  {
   "cell_type": "code",
   "execution_count": 12,
   "outputs": [
    {
     "name": "stdout",
     "output_type": "stream",
     "text": [
      "----------------------------------------------\n",
      "User: Full user count: 315678\n",
      "User: Filtered user count: 20128 for user with over 15 application threshold.\n"
     ]
    },
    {
     "data": {
      "text/plain": "         UserID\n296500     2473\n1127206    1157\n1382297     992\n991504      499\n802983      436\n985229      426\n33263       376\n621858      345\n948207      342\n466070      330",
      "text/html": "<div>\n<style scoped>\n    .dataframe tbody tr th:only-of-type {\n        vertical-align: middle;\n    }\n\n    .dataframe tbody tr th {\n        vertical-align: top;\n    }\n\n    .dataframe thead th {\n        text-align: right;\n    }\n</style>\n<table border=\"1\" class=\"dataframe\">\n  <thead>\n    <tr style=\"text-align: right;\">\n      <th></th>\n      <th>UserID</th>\n    </tr>\n  </thead>\n  <tbody>\n    <tr>\n      <th>296500</th>\n      <td>2473</td>\n    </tr>\n    <tr>\n      <th>1127206</th>\n      <td>1157</td>\n    </tr>\n    <tr>\n      <th>1382297</th>\n      <td>992</td>\n    </tr>\n    <tr>\n      <th>991504</th>\n      <td>499</td>\n    </tr>\n    <tr>\n      <th>802983</th>\n      <td>436</td>\n    </tr>\n    <tr>\n      <th>985229</th>\n      <td>426</td>\n    </tr>\n    <tr>\n      <th>33263</th>\n      <td>376</td>\n    </tr>\n    <tr>\n      <th>621858</th>\n      <td>345</td>\n    </tr>\n    <tr>\n      <th>948207</th>\n      <td>342</td>\n    </tr>\n    <tr>\n      <th>466070</th>\n      <td>330</td>\n    </tr>\n  </tbody>\n</table>\n</div>"
     },
     "metadata": {},
     "output_type": "display_data"
    },
    {
     "name": "stdout",
     "output_type": "stream",
     "text": [
      "----------------------------------------------\n",
      "User rating: Before application filter: 1579408\n",
      "User rating: After application filter: 629204\n"
     ]
    },
    {
     "data": {
      "text/plain": "    UserID  WindowID  Split          ApplicationDate    JobID\n51     554         1  Train  2012-04-02 11:05:25.333   196603\n52     554         1  Train  2012-04-02 05:08:41.413   300053\n53     554         1  Train  2012-04-02 11:05:24.333  1078274\n54     554         1  Train  2012-04-02 11:05:26.087   146817\n55     554         1  Train  2012-04-02 11:05:25.833   654538\n56     554         1  Train  2012-04-02 05:08:41.303   336293\n57     554         1  Train   2012-04-02 11:05:25.76   640492\n58     554         1  Train  2012-04-02 11:18:18.257   271546\n59     554         1  Train   2012-04-02 05:08:44.72   283949\n60     554         1  Train  2012-04-02 05:11:22.263  1066757",
      "text/html": "<div>\n<style scoped>\n    .dataframe tbody tr th:only-of-type {\n        vertical-align: middle;\n    }\n\n    .dataframe tbody tr th {\n        vertical-align: top;\n    }\n\n    .dataframe thead th {\n        text-align: right;\n    }\n</style>\n<table border=\"1\" class=\"dataframe\">\n  <thead>\n    <tr style=\"text-align: right;\">\n      <th></th>\n      <th>UserID</th>\n      <th>WindowID</th>\n      <th>Split</th>\n      <th>ApplicationDate</th>\n      <th>JobID</th>\n    </tr>\n  </thead>\n  <tbody>\n    <tr>\n      <th>51</th>\n      <td>554</td>\n      <td>1</td>\n      <td>Train</td>\n      <td>2012-04-02 11:05:25.333</td>\n      <td>196603</td>\n    </tr>\n    <tr>\n      <th>52</th>\n      <td>554</td>\n      <td>1</td>\n      <td>Train</td>\n      <td>2012-04-02 05:08:41.413</td>\n      <td>300053</td>\n    </tr>\n    <tr>\n      <th>53</th>\n      <td>554</td>\n      <td>1</td>\n      <td>Train</td>\n      <td>2012-04-02 11:05:24.333</td>\n      <td>1078274</td>\n    </tr>\n    <tr>\n      <th>54</th>\n      <td>554</td>\n      <td>1</td>\n      <td>Train</td>\n      <td>2012-04-02 11:05:26.087</td>\n      <td>146817</td>\n    </tr>\n    <tr>\n      <th>55</th>\n      <td>554</td>\n      <td>1</td>\n      <td>Train</td>\n      <td>2012-04-02 11:05:25.833</td>\n      <td>654538</td>\n    </tr>\n    <tr>\n      <th>56</th>\n      <td>554</td>\n      <td>1</td>\n      <td>Train</td>\n      <td>2012-04-02 05:08:41.303</td>\n      <td>336293</td>\n    </tr>\n    <tr>\n      <th>57</th>\n      <td>554</td>\n      <td>1</td>\n      <td>Train</td>\n      <td>2012-04-02 11:05:25.76</td>\n      <td>640492</td>\n    </tr>\n    <tr>\n      <th>58</th>\n      <td>554</td>\n      <td>1</td>\n      <td>Train</td>\n      <td>2012-04-02 11:18:18.257</td>\n      <td>271546</td>\n    </tr>\n    <tr>\n      <th>59</th>\n      <td>554</td>\n      <td>1</td>\n      <td>Train</td>\n      <td>2012-04-02 05:08:44.72</td>\n      <td>283949</td>\n    </tr>\n    <tr>\n      <th>60</th>\n      <td>554</td>\n      <td>1</td>\n      <td>Train</td>\n      <td>2012-04-02 05:11:22.263</td>\n      <td>1066757</td>\n    </tr>\n  </tbody>\n</table>\n</div>"
     },
     "metadata": {},
     "output_type": "display_data"
    }
   ],
   "source": [
    "MIN_APPLICATION = 15 # TODO: Set minimum user application threshold\n",
    "\n",
    "print('----------------------------------------------')\n",
    "unique_user_table = temp_user_ratings_df['UserID'].value_counts().to_frame()\n",
    "print(f'User: Full user count: {unique_user_table.shape[0]}')\n",
    "unique_user_table = unique_user_table[unique_user_table['UserID']>=MIN_APPLICATION]\n",
    "print(f'User: Filtered user count: {unique_user_table.shape[0]} for user with over {MIN_APPLICATION} application threshold.')\n",
    "display(unique_user_table.head(10))\n",
    "print('----------------------------------------------')\n",
    "\n",
    "user_to_keep = unique_user_table.index.tolist()\n",
    "print(f'User rating: Before application filter: {temp_user_ratings_df.shape[0]}')\n",
    "temp_user_ratings_df = temp_user_ratings_df[temp_user_ratings_df['UserID'].isin(user_to_keep)]\n",
    "print(f'User rating: After application filter: {temp_user_ratings_df.shape[0]}')\n",
    "display(temp_user_ratings_df.head(10))"
   ],
   "metadata": {
    "collapsed": false,
    "ExecuteTime": {
     "end_time": "2023-10-09T08:31:56.162817100Z",
     "start_time": "2023-10-09T08:31:55.563311200Z"
    }
   },
   "id": "26bb94c5ef8b17d7"
  },
  {
   "cell_type": "markdown",
   "source": [
    "### Step 3: Generate Negative Job Sample"
   ],
   "metadata": {
    "collapsed": false
   },
   "id": "dcee55a0fa6f6f73"
  },
  {
   "cell_type": "code",
   "execution_count": 14,
   "outputs": [
    {
     "name": "stdout",
     "output_type": "stream",
     "text": [
      "Total unique user: (20128,)\n",
      "Progress at index: 0 size: (92, 3)\n",
      "Progress at index: 5000 size: (290642, 3)\n",
      "Progress at index: 10000 size: (557470, 3)\n",
      "Progress at index: 15000 size: (825452, 3)\n",
      "Progress at index: 20000 size: (1084172, 3)\n",
      "(1090629, 3)\n",
      "User rating: Positive ratings count: 629204\n",
      "User rating: Positive with negative ratings count: 1090629\n"
     ]
    },
    {
     "data": {
      "text/plain": "  UserID    JobID Rating\n0    554   196603      1\n1    554   300053      1\n2    554  1078274      1\n3    554   146817      1\n4    554   654538      1\n5    554   336293      1\n6    554   640492      1\n7    554   271546      1\n8    554   283949      1\n9    554  1066757      1",
      "text/html": "<div>\n<style scoped>\n    .dataframe tbody tr th:only-of-type {\n        vertical-align: middle;\n    }\n\n    .dataframe tbody tr th {\n        vertical-align: top;\n    }\n\n    .dataframe thead th {\n        text-align: right;\n    }\n</style>\n<table border=\"1\" class=\"dataframe\">\n  <thead>\n    <tr style=\"text-align: right;\">\n      <th></th>\n      <th>UserID</th>\n      <th>JobID</th>\n      <th>Rating</th>\n    </tr>\n  </thead>\n  <tbody>\n    <tr>\n      <th>0</th>\n      <td>554</td>\n      <td>196603</td>\n      <td>1</td>\n    </tr>\n    <tr>\n      <th>1</th>\n      <td>554</td>\n      <td>300053</td>\n      <td>1</td>\n    </tr>\n    <tr>\n      <th>2</th>\n      <td>554</td>\n      <td>1078274</td>\n      <td>1</td>\n    </tr>\n    <tr>\n      <th>3</th>\n      <td>554</td>\n      <td>146817</td>\n      <td>1</td>\n    </tr>\n    <tr>\n      <th>4</th>\n      <td>554</td>\n      <td>654538</td>\n      <td>1</td>\n    </tr>\n    <tr>\n      <th>5</th>\n      <td>554</td>\n      <td>336293</td>\n      <td>1</td>\n    </tr>\n    <tr>\n      <th>6</th>\n      <td>554</td>\n      <td>640492</td>\n      <td>1</td>\n    </tr>\n    <tr>\n      <th>7</th>\n      <td>554</td>\n      <td>271546</td>\n      <td>1</td>\n    </tr>\n    <tr>\n      <th>8</th>\n      <td>554</td>\n      <td>283949</td>\n      <td>1</td>\n    </tr>\n    <tr>\n      <th>9</th>\n      <td>554</td>\n      <td>1066757</td>\n      <td>1</td>\n    </tr>\n  </tbody>\n</table>\n</div>"
     },
     "metadata": {},
     "output_type": "display_data"
    }
   ],
   "source": [
    "NEGATIVE_SAMPLE_NUM = 8  # TODO: Set the minimum negative sampling\n",
    "NEGATIVE_SAMPLE_RATIO = 0.8 # TODO: Set the ratio of negative sampling to positive ones\n",
    "\n",
    "neg_temp_ratings_df = generate_rating_set(user_apps_df=temp_user_ratings_df, popular_jobs_df=popular_jobs_df, negative_num=NEGATIVE_SAMPLE_NUM, negative_ratio=NEGATIVE_SAMPLE_RATIO, negative_value=-1)\n",
    "neg_temp_ratings_df.to_csv('dataset/working/user_ratings_neg_1000_15_10_08.csv')\n",
    "print(f'User rating: Positive ratings count: {temp_user_ratings_df.shape[0]}')\n",
    "print(f'User rating: Positive with negative ratings count: {neg_temp_ratings_df.shape[0]}')\n",
    "display(neg_temp_ratings_df.head(10))"
   ],
   "metadata": {
    "collapsed": false,
    "ExecuteTime": {
     "end_time": "2023-10-09T08:57:37.182503600Z",
     "start_time": "2023-10-09T08:34:47.595602700Z"
    }
   },
   "id": "8204ce686241b062"
  },
  {
   "cell_type": "markdown",
   "source": [
    "#### Get Full\n",
    "- 1000, 10, 10, 1\n",
    "- 1000, 15, 10, 0.8"
   ],
   "metadata": {
    "collapsed": false
   },
   "id": "31ac07cc966a444"
  },
  {
   "cell_type": "code",
   "execution_count": 21,
   "outputs": [],
   "source": [
    "neg_temp_ratings_df = pandas.read_csv('dataset/working/user_ratings_neg_1000_15_10_08.csv')"
   ],
   "metadata": {
    "collapsed": false,
    "ExecuteTime": {
     "end_time": "2023-10-08T07:42:32.827460100Z",
     "start_time": "2023-10-08T07:42:32.480131700Z"
    }
   },
   "id": "90b3a342283fb695"
  },
  {
   "cell_type": "markdown",
   "source": [
    "### Step 4: Job Occurrence Filtering"
   ],
   "metadata": {
    "collapsed": false
   },
   "id": "4f7b1ac1d0aae6df"
  },
  {
   "cell_type": "code",
   "execution_count": 15,
   "outputs": [
    {
     "name": "stdout",
     "output_type": "stream",
     "text": [
      "User rating: Positive with negative ratings count: 1090629\n",
      "----------------------------------------------\n",
      "Job: Full job count: 297733\n",
      "Job: Filtered job count: 22498 for job with over 10 application threshold.\n"
     ]
    },
    {
     "data": {
      "text/plain": "         JobID\n1116220    222\n1116172    220\n1115878    206\n1115760    203\n1115910    197\n1115986    193\n1116306    193\n1115707    189\n1115645    187\n1115443    186",
      "text/html": "<div>\n<style scoped>\n    .dataframe tbody tr th:only-of-type {\n        vertical-align: middle;\n    }\n\n    .dataframe tbody tr th {\n        vertical-align: top;\n    }\n\n    .dataframe thead th {\n        text-align: right;\n    }\n</style>\n<table border=\"1\" class=\"dataframe\">\n  <thead>\n    <tr style=\"text-align: right;\">\n      <th></th>\n      <th>JobID</th>\n    </tr>\n  </thead>\n  <tbody>\n    <tr>\n      <th>1116220</th>\n      <td>222</td>\n    </tr>\n    <tr>\n      <th>1116172</th>\n      <td>220</td>\n    </tr>\n    <tr>\n      <th>1115878</th>\n      <td>206</td>\n    </tr>\n    <tr>\n      <th>1115760</th>\n      <td>203</td>\n    </tr>\n    <tr>\n      <th>1115910</th>\n      <td>197</td>\n    </tr>\n    <tr>\n      <th>1115986</th>\n      <td>193</td>\n    </tr>\n    <tr>\n      <th>1116306</th>\n      <td>193</td>\n    </tr>\n    <tr>\n      <th>1115707</th>\n      <td>189</td>\n    </tr>\n    <tr>\n      <th>1115645</th>\n      <td>187</td>\n    </tr>\n    <tr>\n      <th>1115443</th>\n      <td>186</td>\n    </tr>\n  </tbody>\n</table>\n</div>"
     },
     "metadata": {},
     "output_type": "display_data"
    },
    {
     "name": "stdout",
     "output_type": "stream",
     "text": [
      "----------------------------------------------\n",
      "User rating: Before job filter: 1090629\n",
      "User rating: After job filter: 513656\n"
     ]
    },
    {
     "data": {
      "text/plain": "   UserID    JobID Rating\n0     554   196603      1\n1     554   300053      1\n2     554  1078274      1\n3     554   146817      1\n4     554   654538      1\n6     554   640492      1\n8     554   283949      1\n11    554  1042648      1\n13    554   600058      1\n14    554    25820      1",
      "text/html": "<div>\n<style scoped>\n    .dataframe tbody tr th:only-of-type {\n        vertical-align: middle;\n    }\n\n    .dataframe tbody tr th {\n        vertical-align: top;\n    }\n\n    .dataframe thead th {\n        text-align: right;\n    }\n</style>\n<table border=\"1\" class=\"dataframe\">\n  <thead>\n    <tr style=\"text-align: right;\">\n      <th></th>\n      <th>UserID</th>\n      <th>JobID</th>\n      <th>Rating</th>\n    </tr>\n  </thead>\n  <tbody>\n    <tr>\n      <th>0</th>\n      <td>554</td>\n      <td>196603</td>\n      <td>1</td>\n    </tr>\n    <tr>\n      <th>1</th>\n      <td>554</td>\n      <td>300053</td>\n      <td>1</td>\n    </tr>\n    <tr>\n      <th>2</th>\n      <td>554</td>\n      <td>1078274</td>\n      <td>1</td>\n    </tr>\n    <tr>\n      <th>3</th>\n      <td>554</td>\n      <td>146817</td>\n      <td>1</td>\n    </tr>\n    <tr>\n      <th>4</th>\n      <td>554</td>\n      <td>654538</td>\n      <td>1</td>\n    </tr>\n    <tr>\n      <th>6</th>\n      <td>554</td>\n      <td>640492</td>\n      <td>1</td>\n    </tr>\n    <tr>\n      <th>8</th>\n      <td>554</td>\n      <td>283949</td>\n      <td>1</td>\n    </tr>\n    <tr>\n      <th>11</th>\n      <td>554</td>\n      <td>1042648</td>\n      <td>1</td>\n    </tr>\n    <tr>\n      <th>13</th>\n      <td>554</td>\n      <td>600058</td>\n      <td>1</td>\n    </tr>\n    <tr>\n      <th>14</th>\n      <td>554</td>\n      <td>25820</td>\n      <td>1</td>\n    </tr>\n  </tbody>\n</table>\n</div>"
     },
     "execution_count": 15,
     "metadata": {},
     "output_type": "execute_result"
    }
   ],
   "source": [
    "MIN_OCCURRENCE = 10 # TODO: Set minimum job occurrence threshold\n",
    "\n",
    "print(f'User rating: Positive with negative ratings count: {neg_temp_ratings_df.shape[0]}')\n",
    "\n",
    "print('----------------------------------------------')\n",
    "unique_job_table = neg_temp_ratings_df['JobID'].value_counts().to_frame()\n",
    "print(f'Job: Full job count: {unique_job_table.shape[0]}')\n",
    "unique_job_table = unique_job_table[unique_job_table['JobID']>=MIN_OCCURRENCE]\n",
    "print(f'Job: Filtered job count: {unique_job_table.shape[0]} for job with over {MIN_OCCURRENCE} application threshold.')\n",
    "display(unique_job_table.head(10))\n",
    "print('----------------------------------------------')\n",
    "\n",
    "job_to_keep = unique_job_table.index.tolist()\n",
    "print(f'User rating: Before job filter: {neg_temp_ratings_df.shape[0]}')\n",
    "temp_neg_temp_user_ratings_df = neg_temp_ratings_df[neg_temp_ratings_df['JobID'].isin(job_to_keep)]\n",
    "print(f'User rating: After job filter: {temp_neg_temp_user_ratings_df.shape[0]}')\n",
    "temp_neg_temp_user_ratings_df.head(10)"
   ],
   "metadata": {
    "collapsed": false,
    "ExecuteTime": {
     "end_time": "2023-10-09T08:57:38.655178Z",
     "start_time": "2023-10-09T08:57:37.200049700Z"
    }
   },
   "id": "8b22a694a83fab87"
  },
  {
   "cell_type": "markdown",
   "source": [
    "### Step 5: Train Test Split"
   ],
   "metadata": {
    "collapsed": false
   },
   "id": "8a2267e432e7e264"
  },
  {
   "cell_type": "code",
   "execution_count": 16,
   "outputs": [
    {
     "name": "stdout",
     "output_type": "stream",
     "text": [
      "Total unique users: 19123\n",
      "Total user ratings: 513656\n",
      "Progress at index: 0 or 0.0000 percent of total\n",
      "Progress at index: 5000 or 0.2615 percent of total\n",
      "Progress at index: 10000 or 0.5229 percent of total\n",
      "Progress at index: 15000 or 0.7844 percent of total\n",
      "User count: 17184\n",
      "Train size of 0.9 total ratings count: 455157\n",
      "Test size total ratings count: 58499\n",
      "User rating: Train count: 455157\n",
      "User rating: Test count: 58499\n",
      "\n",
      "User rating: Unique user: 19123\n",
      "User rating: Unique job: 22497\n"
     ]
    },
    {
     "data": {
      "text/plain": "  UserID    JobID Rating\n0    554   946506      1\n1    554   773410      1\n2    554    35071      1\n3    554   300020      1\n4    554   491965      1\n5    554   196603      1\n6    554   802921      1\n7    554  1042648      1\n8    554   146817      1\n9    554   497069      1",
      "text/html": "<div>\n<style scoped>\n    .dataframe tbody tr th:only-of-type {\n        vertical-align: middle;\n    }\n\n    .dataframe tbody tr th {\n        vertical-align: top;\n    }\n\n    .dataframe thead th {\n        text-align: right;\n    }\n</style>\n<table border=\"1\" class=\"dataframe\">\n  <thead>\n    <tr style=\"text-align: right;\">\n      <th></th>\n      <th>UserID</th>\n      <th>JobID</th>\n      <th>Rating</th>\n    </tr>\n  </thead>\n  <tbody>\n    <tr>\n      <th>0</th>\n      <td>554</td>\n      <td>946506</td>\n      <td>1</td>\n    </tr>\n    <tr>\n      <th>1</th>\n      <td>554</td>\n      <td>773410</td>\n      <td>1</td>\n    </tr>\n    <tr>\n      <th>2</th>\n      <td>554</td>\n      <td>35071</td>\n      <td>1</td>\n    </tr>\n    <tr>\n      <th>3</th>\n      <td>554</td>\n      <td>300020</td>\n      <td>1</td>\n    </tr>\n    <tr>\n      <th>4</th>\n      <td>554</td>\n      <td>491965</td>\n      <td>1</td>\n    </tr>\n    <tr>\n      <th>5</th>\n      <td>554</td>\n      <td>196603</td>\n      <td>1</td>\n    </tr>\n    <tr>\n      <th>6</th>\n      <td>554</td>\n      <td>802921</td>\n      <td>1</td>\n    </tr>\n    <tr>\n      <th>7</th>\n      <td>554</td>\n      <td>1042648</td>\n      <td>1</td>\n    </tr>\n    <tr>\n      <th>8</th>\n      <td>554</td>\n      <td>146817</td>\n      <td>1</td>\n    </tr>\n    <tr>\n      <th>9</th>\n      <td>554</td>\n      <td>497069</td>\n      <td>1</td>\n    </tr>\n  </tbody>\n</table>\n</div>"
     },
     "metadata": {},
     "output_type": "display_data"
    }
   ],
   "source": [
    "TRAIN_RATIO = 0.9\n",
    "\n",
    "train_ratings_df, test_ratings_df = generate_train_test_set(user_ratings_full=temp_neg_temp_user_ratings_df, split_ratio=TRAIN_RATIO, split_seed=1234, min_split_size=5)\n",
    "\n",
    "train_ratings_df.to_csv('dataset/working/user_ratings_neg_1000_15_10_08_train.csv')\n",
    "test_ratings_df.to_csv('dataset/working/user_ratings_neg_1000_15_10_08_test.csv')\n",
    "\n",
    "print(f'User rating: Train count: {train_ratings_df.shape[0]}')\n",
    "print(f'User rating: Test count: {test_ratings_df.shape[0]}\\n')\n",
    "\n",
    "print(f'User rating: Unique user: {train_ratings_df[\"UserID\"].drop_duplicates().shape[0]}')\n",
    "print(f'User rating: Unique job: {train_ratings_df[\"JobID\"].drop_duplicates().shape[0]}')\n",
    "display(train_ratings_df.head(10))"
   ],
   "metadata": {
    "collapsed": false,
    "ExecuteTime": {
     "end_time": "2023-10-09T09:20:03.727013400Z",
     "start_time": "2023-10-09T08:57:38.419198100Z"
    }
   },
   "id": "a682ec03aeb3f608"
  },
  {
   "cell_type": "markdown",
   "source": [
    "#### Get Train Test"
   ],
   "metadata": {
    "collapsed": false
   },
   "id": "d0c60b82d0303090"
  },
  {
   "cell_type": "code",
   "execution_count": 4,
   "outputs": [
    {
     "name": "stdout",
     "output_type": "stream",
     "text": [
      "User rating: Unique user: 10943\n",
      "User rating: Unique job: 7712\n"
     ]
    },
    {
     "data": {
      "text/plain": "   UserID    JobID  Rating\n0     554   640492       1\n1     554   280275       1\n2     554   747584       1\n3     554    25820       1\n4     554   600058       1\n5     554   196603       1\n6     554  1113088       1\n7     554       40       1\n8     554   627377       1\n9     554      957       1",
      "text/html": "<div>\n<style scoped>\n    .dataframe tbody tr th:only-of-type {\n        vertical-align: middle;\n    }\n\n    .dataframe tbody tr th {\n        vertical-align: top;\n    }\n\n    .dataframe thead th {\n        text-align: right;\n    }\n</style>\n<table border=\"1\" class=\"dataframe\">\n  <thead>\n    <tr style=\"text-align: right;\">\n      <th></th>\n      <th>UserID</th>\n      <th>JobID</th>\n      <th>Rating</th>\n    </tr>\n  </thead>\n  <tbody>\n    <tr>\n      <th>0</th>\n      <td>554</td>\n      <td>640492</td>\n      <td>1</td>\n    </tr>\n    <tr>\n      <th>1</th>\n      <td>554</td>\n      <td>280275</td>\n      <td>1</td>\n    </tr>\n    <tr>\n      <th>2</th>\n      <td>554</td>\n      <td>747584</td>\n      <td>1</td>\n    </tr>\n    <tr>\n      <th>3</th>\n      <td>554</td>\n      <td>25820</td>\n      <td>1</td>\n    </tr>\n    <tr>\n      <th>4</th>\n      <td>554</td>\n      <td>600058</td>\n      <td>1</td>\n    </tr>\n    <tr>\n      <th>5</th>\n      <td>554</td>\n      <td>196603</td>\n      <td>1</td>\n    </tr>\n    <tr>\n      <th>6</th>\n      <td>554</td>\n      <td>1113088</td>\n      <td>1</td>\n    </tr>\n    <tr>\n      <th>7</th>\n      <td>554</td>\n      <td>40</td>\n      <td>1</td>\n    </tr>\n    <tr>\n      <th>8</th>\n      <td>554</td>\n      <td>627377</td>\n      <td>1</td>\n    </tr>\n    <tr>\n      <th>9</th>\n      <td>554</td>\n      <td>957</td>\n      <td>1</td>\n    </tr>\n  </tbody>\n</table>\n</div>"
     },
     "metadata": {},
     "output_type": "display_data"
    }
   ],
   "source": [
    "train_ratings_df = pandas.read_csv('dataset/working/user_ratings_neg_1000_20_20_1_train.csv', index_col=0)\n",
    "test_ratings_df = pandas.read_csv('dataset/working/user_ratings_neg_1000_20_20_1_test.csv', index_col=0)\n",
    "print(f'User rating: Unique user: {train_ratings_df[\"UserID\"].drop_duplicates().shape[0]}')\n",
    "print(f'User rating: Unique job: {train_ratings_df[\"JobID\"].drop_duplicates().shape[0]}')\n",
    "display(train_ratings_df.head(10))"
   ],
   "metadata": {
    "collapsed": false,
    "ExecuteTime": {
     "end_time": "2023-10-09T14:59:09.670508900Z",
     "start_time": "2023-10-09T14:59:09.567407Z"
    }
   },
   "id": "67e8c3bf93971ab6"
  },
  {
   "cell_type": "markdown",
   "source": [
    "## Collaborative Filtering KNN"
   ],
   "metadata": {
    "collapsed": false
   },
   "id": "effb765118f57132"
  },
  {
   "cell_type": "markdown",
   "source": [
    "### Step 1: User Rating Pivot"
   ],
   "metadata": {
    "collapsed": false
   },
   "id": "cbf5e1543f785040"
  },
  {
   "cell_type": "code",
   "execution_count": 5,
   "outputs": [
    {
     "name": "stdout",
     "output_type": "stream",
     "text": [
      "Total user ID: 10943\n",
      "Total job ID: 7712\n",
      "User rating dtypes:\n"
     ]
    },
    {
     "data": {
      "text/plain": "UserID    uint16\nJobID     uint16\nRating      int8\ndtype: object"
     },
     "metadata": {},
     "output_type": "display_data"
    }
   ],
   "source": [
    "user_map_data = train_ratings_df['UserID'].drop_duplicates().reset_index(drop=True)\n",
    "user_mapping = user_map_data.to_dict()\n",
    "print(f'Total user ID: {len(user_mapping)}')\n",
    "\n",
    "job_map_data = train_ratings_df['JobID'].drop_duplicates().reset_index(drop=True)\n",
    "job_mapping = job_map_data.to_dict()\n",
    "print(f'Total job ID: {len(job_mapping)}')\n",
    "    \n",
    "user_mapping_inv =  {v: k for k, v in user_mapping.items()}\n",
    "job_mapping_inv =  {v: k for k, v in job_mapping.items()}\n",
    "\n",
    "train_ratings_df['UserID'] = train_ratings_df['UserID'].apply(lambda x: user_mapping_inv[x]).astype('uint16')\n",
    "train_ratings_df['JobID'] = train_ratings_df['JobID'].apply(lambda x: job_mapping_inv[x]).astype('uint16')\n",
    "train_ratings_df['Rating'] = train_ratings_df['Rating'].astype('int8')\n",
    "\n",
    "print('User rating dtypes:')\n",
    "display(train_ratings_df.dtypes)"
   ],
   "metadata": {
    "collapsed": false,
    "ExecuteTime": {
     "end_time": "2023-10-09T14:59:15.895190300Z",
     "start_time": "2023-10-09T14:59:15.705188200Z"
    }
   },
   "id": "413613a8616f4526"
  },
  {
   "cell_type": "code",
   "execution_count": 6,
   "outputs": [
    {
     "name": "stdout",
     "output_type": "stream",
     "text": [
      "Dask dtypes:\n"
     ]
    },
    {
     "data": {
      "text/plain": "UserID      uint16\nJobID     category\nRating        int8\ndtype: object"
     },
     "metadata": {},
     "output_type": "display_data"
    },
    {
     "name": "stdout",
     "output_type": "stream",
     "text": [
      "Pivot table with total user rows: Delayed('int-aa520fe6-772e-4d4b-80e6-c128136929e2')\n",
      "Pivot table with total job columns: 7712\n"
     ]
    },
    {
     "data": {
      "text/plain": "JobID   0  1  2  3  4  5  6  7  8  9  ...  7702  7703  7704  7705  7706  7707  \\\nUserID                                ...                                       \n0       1  1  1  1  1  1  1  1  1  1  ...     0     0     0     0     0     0   \n1       0  0  0  0  0  0  0  0  0  0  ...     0     0     0     0     0     0   \n2       0  0  0  0  0  0  0  0  0  0  ...     0     0     0     0     0     0   \n3       0  0  0  0  0  0  0  0  0  0  ...     0     0     0     0     0     0   \n4       0  0  0  0  0  0  0  0  0  0  ...     0     0     0     0     0     0   \n5       0  0  0  0  0  0  0  0  0  0  ...     0     0     0     0     0     0   \n6       0  0  0  0  0  0  0  0  0  0  ...     0     0     0     0     0     0   \n7       0  0  0  0  0  0  0  0  0  0  ...     0     0     0     0     0     0   \n8       0  0  0  0  0  0  0  0  0  0  ...     0     0     0     0     0     0   \n9       0  0  0  0  0  0  0  0  0  0  ...     0     0     0     0     0     0   \n\nJobID   7708  7709  7710  7711  \nUserID                          \n0          0     0     0     0  \n1          0     0     0     0  \n2          0     0     0     0  \n3          0     0     0     0  \n4          0     0     0     0  \n5          0     0     0     0  \n6          0     0     0     0  \n7          0     0     0     0  \n8          0     0     0     0  \n9          0     0     0     0  \n\n[10 rows x 7712 columns]",
      "text/html": "<div>\n<style scoped>\n    .dataframe tbody tr th:only-of-type {\n        vertical-align: middle;\n    }\n\n    .dataframe tbody tr th {\n        vertical-align: top;\n    }\n\n    .dataframe thead th {\n        text-align: right;\n    }\n</style>\n<table border=\"1\" class=\"dataframe\">\n  <thead>\n    <tr style=\"text-align: right;\">\n      <th>JobID</th>\n      <th>0</th>\n      <th>1</th>\n      <th>2</th>\n      <th>3</th>\n      <th>4</th>\n      <th>5</th>\n      <th>6</th>\n      <th>7</th>\n      <th>8</th>\n      <th>9</th>\n      <th>...</th>\n      <th>7702</th>\n      <th>7703</th>\n      <th>7704</th>\n      <th>7705</th>\n      <th>7706</th>\n      <th>7707</th>\n      <th>7708</th>\n      <th>7709</th>\n      <th>7710</th>\n      <th>7711</th>\n    </tr>\n    <tr>\n      <th>UserID</th>\n      <th></th>\n      <th></th>\n      <th></th>\n      <th></th>\n      <th></th>\n      <th></th>\n      <th></th>\n      <th></th>\n      <th></th>\n      <th></th>\n      <th></th>\n      <th></th>\n      <th></th>\n      <th></th>\n      <th></th>\n      <th></th>\n      <th></th>\n      <th></th>\n      <th></th>\n      <th></th>\n      <th></th>\n    </tr>\n  </thead>\n  <tbody>\n    <tr>\n      <th>0</th>\n      <td>1</td>\n      <td>1</td>\n      <td>1</td>\n      <td>1</td>\n      <td>1</td>\n      <td>1</td>\n      <td>1</td>\n      <td>1</td>\n      <td>1</td>\n      <td>1</td>\n      <td>...</td>\n      <td>0</td>\n      <td>0</td>\n      <td>0</td>\n      <td>0</td>\n      <td>0</td>\n      <td>0</td>\n      <td>0</td>\n      <td>0</td>\n      <td>0</td>\n      <td>0</td>\n    </tr>\n    <tr>\n      <th>1</th>\n      <td>0</td>\n      <td>0</td>\n      <td>0</td>\n      <td>0</td>\n      <td>0</td>\n      <td>0</td>\n      <td>0</td>\n      <td>0</td>\n      <td>0</td>\n      <td>0</td>\n      <td>...</td>\n      <td>0</td>\n      <td>0</td>\n      <td>0</td>\n      <td>0</td>\n      <td>0</td>\n      <td>0</td>\n      <td>0</td>\n      <td>0</td>\n      <td>0</td>\n      <td>0</td>\n    </tr>\n    <tr>\n      <th>2</th>\n      <td>0</td>\n      <td>0</td>\n      <td>0</td>\n      <td>0</td>\n      <td>0</td>\n      <td>0</td>\n      <td>0</td>\n      <td>0</td>\n      <td>0</td>\n      <td>0</td>\n      <td>...</td>\n      <td>0</td>\n      <td>0</td>\n      <td>0</td>\n      <td>0</td>\n      <td>0</td>\n      <td>0</td>\n      <td>0</td>\n      <td>0</td>\n      <td>0</td>\n      <td>0</td>\n    </tr>\n    <tr>\n      <th>3</th>\n      <td>0</td>\n      <td>0</td>\n      <td>0</td>\n      <td>0</td>\n      <td>0</td>\n      <td>0</td>\n      <td>0</td>\n      <td>0</td>\n      <td>0</td>\n      <td>0</td>\n      <td>...</td>\n      <td>0</td>\n      <td>0</td>\n      <td>0</td>\n      <td>0</td>\n      <td>0</td>\n      <td>0</td>\n      <td>0</td>\n      <td>0</td>\n      <td>0</td>\n      <td>0</td>\n    </tr>\n    <tr>\n      <th>4</th>\n      <td>0</td>\n      <td>0</td>\n      <td>0</td>\n      <td>0</td>\n      <td>0</td>\n      <td>0</td>\n      <td>0</td>\n      <td>0</td>\n      <td>0</td>\n      <td>0</td>\n      <td>...</td>\n      <td>0</td>\n      <td>0</td>\n      <td>0</td>\n      <td>0</td>\n      <td>0</td>\n      <td>0</td>\n      <td>0</td>\n      <td>0</td>\n      <td>0</td>\n      <td>0</td>\n    </tr>\n    <tr>\n      <th>5</th>\n      <td>0</td>\n      <td>0</td>\n      <td>0</td>\n      <td>0</td>\n      <td>0</td>\n      <td>0</td>\n      <td>0</td>\n      <td>0</td>\n      <td>0</td>\n      <td>0</td>\n      <td>...</td>\n      <td>0</td>\n      <td>0</td>\n      <td>0</td>\n      <td>0</td>\n      <td>0</td>\n      <td>0</td>\n      <td>0</td>\n      <td>0</td>\n      <td>0</td>\n      <td>0</td>\n    </tr>\n    <tr>\n      <th>6</th>\n      <td>0</td>\n      <td>0</td>\n      <td>0</td>\n      <td>0</td>\n      <td>0</td>\n      <td>0</td>\n      <td>0</td>\n      <td>0</td>\n      <td>0</td>\n      <td>0</td>\n      <td>...</td>\n      <td>0</td>\n      <td>0</td>\n      <td>0</td>\n      <td>0</td>\n      <td>0</td>\n      <td>0</td>\n      <td>0</td>\n      <td>0</td>\n      <td>0</td>\n      <td>0</td>\n    </tr>\n    <tr>\n      <th>7</th>\n      <td>0</td>\n      <td>0</td>\n      <td>0</td>\n      <td>0</td>\n      <td>0</td>\n      <td>0</td>\n      <td>0</td>\n      <td>0</td>\n      <td>0</td>\n      <td>0</td>\n      <td>...</td>\n      <td>0</td>\n      <td>0</td>\n      <td>0</td>\n      <td>0</td>\n      <td>0</td>\n      <td>0</td>\n      <td>0</td>\n      <td>0</td>\n      <td>0</td>\n      <td>0</td>\n    </tr>\n    <tr>\n      <th>8</th>\n      <td>0</td>\n      <td>0</td>\n      <td>0</td>\n      <td>0</td>\n      <td>0</td>\n      <td>0</td>\n      <td>0</td>\n      <td>0</td>\n      <td>0</td>\n      <td>0</td>\n      <td>...</td>\n      <td>0</td>\n      <td>0</td>\n      <td>0</td>\n      <td>0</td>\n      <td>0</td>\n      <td>0</td>\n      <td>0</td>\n      <td>0</td>\n      <td>0</td>\n      <td>0</td>\n    </tr>\n    <tr>\n      <th>9</th>\n      <td>0</td>\n      <td>0</td>\n      <td>0</td>\n      <td>0</td>\n      <td>0</td>\n      <td>0</td>\n      <td>0</td>\n      <td>0</td>\n      <td>0</td>\n      <td>0</td>\n      <td>...</td>\n      <td>0</td>\n      <td>0</td>\n      <td>0</td>\n      <td>0</td>\n      <td>0</td>\n      <td>0</td>\n      <td>0</td>\n      <td>0</td>\n      <td>0</td>\n      <td>0</td>\n    </tr>\n  </tbody>\n</table>\n<p>10 rows × 7712 columns</p>\n</div>"
     },
     "metadata": {},
     "output_type": "display_data"
    }
   ],
   "source": [
    "final_train_ratings_df = train_ratings_df.drop_duplicates(['UserID', 'JobID'])\n",
    "final_train_ratings_dsk = dask_dataframe.from_pandas(final_train_ratings_df, 10)\n",
    "\n",
    "final_train_ratings_dsk = final_train_ratings_dsk.astype({'UserID':'uint16', 'JobID': 'category', 'Rating': 'int8'})\n",
    "final_train_ratings_dsk['JobID'] = final_train_ratings_dsk['JobID'].cat.as_known()\n",
    "\n",
    "print('Dask dtypes:')\n",
    "display(final_train_ratings_dsk.dtypes)\n",
    "\n",
    "user_ratings_pivot = dask_dataframe.DataFrame.pivot_table(final_train_ratings_dsk, index='UserID', columns='JobID', values='Rating').fillna(0).astype('int8')\n",
    "\n",
    "print(f'Pivot table with total user rows: {user_ratings_pivot.shape[0]}')\n",
    "print(f'Pivot table with total job columns: {user_ratings_pivot.shape[1]}')\n",
    "\n",
    "display(user_ratings_pivot.head(10))"
   ],
   "metadata": {
    "collapsed": false,
    "ExecuteTime": {
     "end_time": "2023-10-09T15:00:09.947257900Z",
     "start_time": "2023-10-09T14:59:23.795423200Z"
    }
   },
   "id": "ae3cd88d7dff678f"
  },
  {
   "cell_type": "code",
   "execution_count": 8,
   "outputs": [
    {
     "name": "stdout",
     "output_type": "stream",
     "text": [
      "Save completed\n"
     ]
    }
   ],
   "source": [
    "with open('dataset/working/pivot_1000_20_20_1.pkl', 'wb') as file:\n",
    "    pickle.dump(user_ratings_pivot.compute(), file)\n",
    "print('Save completed')"
   ],
   "metadata": {
    "collapsed": false,
    "ExecuteTime": {
     "end_time": "2023-10-09T15:05:06.105563400Z",
     "start_time": "2023-10-09T15:04:32.944205Z"
    }
   },
   "id": "e4410c26a0861501"
  },
  {
   "cell_type": "markdown",
   "source": [
    "#### Get Pivot"
   ],
   "metadata": {
    "collapsed": false
   },
   "id": "502b96f81da75a00"
  },
  {
   "cell_type": "code",
   "execution_count": null,
   "outputs": [],
   "source": [
    "with open('dataset/working/pivot_1000_20_20_1.pkl', 'rb') as file:\n",
    "    user_ratings_pivot = pickle.load(file)\n",
    "print('Load completed')"
   ],
   "metadata": {
    "collapsed": false
   },
   "id": "da768d53379cb608"
  },
  {
   "cell_type": "markdown",
   "source": [
    "### Step 2: User KNN Model"
   ],
   "metadata": {
    "collapsed": false
   },
   "id": "6602360b665190e"
  },
  {
   "cell_type": "code",
   "execution_count": 9,
   "outputs": [
    {
     "data": {
      "text/plain": "NearestNeighbors(algorithm='brute', metric='cosine', n_jobs=-1, n_neighbors=50)",
      "text/html": "<style>#sk-container-id-1 {color: black;}#sk-container-id-1 pre{padding: 0;}#sk-container-id-1 div.sk-toggleable {background-color: white;}#sk-container-id-1 label.sk-toggleable__label {cursor: pointer;display: block;width: 100%;margin-bottom: 0;padding: 0.3em;box-sizing: border-box;text-align: center;}#sk-container-id-1 label.sk-toggleable__label-arrow:before {content: \"▸\";float: left;margin-right: 0.25em;color: #696969;}#sk-container-id-1 label.sk-toggleable__label-arrow:hover:before {color: black;}#sk-container-id-1 div.sk-estimator:hover label.sk-toggleable__label-arrow:before {color: black;}#sk-container-id-1 div.sk-toggleable__content {max-height: 0;max-width: 0;overflow: hidden;text-align: left;background-color: #f0f8ff;}#sk-container-id-1 div.sk-toggleable__content pre {margin: 0.2em;color: black;border-radius: 0.25em;background-color: #f0f8ff;}#sk-container-id-1 input.sk-toggleable__control:checked~div.sk-toggleable__content {max-height: 200px;max-width: 100%;overflow: auto;}#sk-container-id-1 input.sk-toggleable__control:checked~label.sk-toggleable__label-arrow:before {content: \"▾\";}#sk-container-id-1 div.sk-estimator input.sk-toggleable__control:checked~label.sk-toggleable__label {background-color: #d4ebff;}#sk-container-id-1 div.sk-label input.sk-toggleable__control:checked~label.sk-toggleable__label {background-color: #d4ebff;}#sk-container-id-1 input.sk-hidden--visually {border: 0;clip: rect(1px 1px 1px 1px);clip: rect(1px, 1px, 1px, 1px);height: 1px;margin: -1px;overflow: hidden;padding: 0;position: absolute;width: 1px;}#sk-container-id-1 div.sk-estimator {font-family: monospace;background-color: #f0f8ff;border: 1px dotted black;border-radius: 0.25em;box-sizing: border-box;margin-bottom: 0.5em;}#sk-container-id-1 div.sk-estimator:hover {background-color: #d4ebff;}#sk-container-id-1 div.sk-parallel-item::after {content: \"\";width: 100%;border-bottom: 1px solid gray;flex-grow: 1;}#sk-container-id-1 div.sk-label:hover label.sk-toggleable__label {background-color: #d4ebff;}#sk-container-id-1 div.sk-serial::before {content: \"\";position: absolute;border-left: 1px solid gray;box-sizing: border-box;top: 0;bottom: 0;left: 50%;z-index: 0;}#sk-container-id-1 div.sk-serial {display: flex;flex-direction: column;align-items: center;background-color: white;padding-right: 0.2em;padding-left: 0.2em;position: relative;}#sk-container-id-1 div.sk-item {position: relative;z-index: 1;}#sk-container-id-1 div.sk-parallel {display: flex;align-items: stretch;justify-content: center;background-color: white;position: relative;}#sk-container-id-1 div.sk-item::before, #sk-container-id-1 div.sk-parallel-item::before {content: \"\";position: absolute;border-left: 1px solid gray;box-sizing: border-box;top: 0;bottom: 0;left: 50%;z-index: -1;}#sk-container-id-1 div.sk-parallel-item {display: flex;flex-direction: column;z-index: 1;position: relative;background-color: white;}#sk-container-id-1 div.sk-parallel-item:first-child::after {align-self: flex-end;width: 50%;}#sk-container-id-1 div.sk-parallel-item:last-child::after {align-self: flex-start;width: 50%;}#sk-container-id-1 div.sk-parallel-item:only-child::after {width: 0;}#sk-container-id-1 div.sk-dashed-wrapped {border: 1px dashed gray;margin: 0 0.4em 0.5em 0.4em;box-sizing: border-box;padding-bottom: 0.4em;background-color: white;}#sk-container-id-1 div.sk-label label {font-family: monospace;font-weight: bold;display: inline-block;line-height: 1.2em;}#sk-container-id-1 div.sk-label-container {text-align: center;}#sk-container-id-1 div.sk-container {/* jupyter's `normalize.less` sets `[hidden] { display: none; }` but bootstrap.min.css set `[hidden] { display: none !important; }` so we also need the `!important` here to be able to override the default hidden behavior on the sphinx rendered scikit-learn.org. See: https://github.com/scikit-learn/scikit-learn/issues/21755 */display: inline-block !important;position: relative;}#sk-container-id-1 div.sk-text-repr-fallback {display: none;}</style><div id=\"sk-container-id-1\" class=\"sk-top-container\"><div class=\"sk-text-repr-fallback\"><pre>NearestNeighbors(algorithm=&#x27;brute&#x27;, metric=&#x27;cosine&#x27;, n_jobs=-1, n_neighbors=50)</pre><b>In a Jupyter environment, please rerun this cell to show the HTML representation or trust the notebook. <br />On GitHub, the HTML representation is unable to render, please try loading this page with nbviewer.org.</b></div><div class=\"sk-container\" hidden><div class=\"sk-item\"><div class=\"sk-estimator sk-toggleable\"><input class=\"sk-toggleable__control sk-hidden--visually\" id=\"sk-estimator-id-1\" type=\"checkbox\" checked><label for=\"sk-estimator-id-1\" class=\"sk-toggleable__label sk-toggleable__label-arrow\">NearestNeighbors</label><div class=\"sk-toggleable__content\"><pre>NearestNeighbors(algorithm=&#x27;brute&#x27;, metric=&#x27;cosine&#x27;, n_jobs=-1, n_neighbors=50)</pre></div></div></div></div></div>"
     },
     "execution_count": 9,
     "metadata": {},
     "output_type": "execute_result"
    }
   ],
   "source": [
    "model_knn = NearestNeighbors(metric='cosine', algorithm='brute', n_neighbors=50, n_jobs=-1)\n",
    "model_knn.fit(user_ratings_pivot)"
   ],
   "metadata": {
    "collapsed": false,
    "ExecuteTime": {
     "end_time": "2023-10-09T15:06:26.510616100Z",
     "start_time": "2023-10-09T15:05:58.701057400Z"
    }
   },
   "id": "62bc9421df60f37"
  },
  {
   "cell_type": "markdown",
   "source": [
    "### Step 3: Make Recommendation"
   ],
   "metadata": {
    "collapsed": false
   },
   "id": "da9f4ef9f714861d"
  },
  {
   "cell_type": "code",
   "execution_count": 11,
   "outputs": [
    {
     "name": "stdout",
     "output_type": "stream",
     "text": [
      "Generate recommendation instances from [1200, 1250]\n"
     ]
    },
    {
     "data": {
      "text/plain": "array([[1.11022302e-16, 2.31623930e-01, 2.44988011e-01, 2.69749270e-01,\n        2.88487526e-01, 2.88487526e-01, 2.89953053e-01, 2.92893219e-01,\n        2.98439240e-01, 2.99650708e-01, 3.05634925e-01, 3.06624755e-01,\n        3.28248558e-01, 3.33027031e-01, 3.41293517e-01, 3.53606873e-01,\n        3.54502776e-01, 3.65018725e-01, 3.65254550e-01, 3.67544468e-01,\n        3.72504980e-01, 3.72623566e-01, 3.76294444e-01, 3.95833333e-01,\n        3.96749397e-01, 4.06919747e-01, 4.08039979e-01, 4.11947348e-01,\n        4.20249096e-01, 4.26585361e-01, 4.26585361e-01, 4.33861483e-01,\n        4.35923925e-01, 4.40207132e-01, 4.40348120e-01, 4.46601409e-01,\n        4.46705992e-01, 4.64174119e-01, 4.81732511e-01, 4.87794327e-01,\n        4.89337820e-01, 4.89689637e-01, 4.91767001e-01, 4.95502158e-01,\n        4.99306037e-01, 5.10021056e-01, 5.13335737e-01, 5.16698326e-01,\n        5.18874776e-01, 5.31808908e-01],\n       [1.11022302e-16, 6.27895796e-01, 6.61938298e-01, 6.83772234e-01,\n        6.83772234e-01, 6.92206494e-01, 7.17157288e-01, 7.30320055e-01,\n        7.41801110e-01, 7.41801110e-01, 7.56024982e-01, 7.76393202e-01,\n        7.76393202e-01, 7.76393202e-01, 7.78596279e-01, 7.89181489e-01,\n        7.94804330e-01, 8.00000000e-01, 8.00000000e-01, 8.02454081e-01,\n        8.22877023e-01, 8.24588396e-01, 8.26794919e-01, 8.30969149e-01,\n        8.30969149e-01, 8.40776532e-01, 8.41886117e-01, 8.41886117e-01,\n        8.46607002e-01, 8.50928802e-01, 8.53614989e-01, 8.54904750e-01,\n        8.58578644e-01, 8.58578644e-01, 8.63069361e-01, 8.65160028e-01,\n        8.68123905e-01, 8.70900555e-01, 8.75965265e-01, 8.79395462e-01,\n        8.80477139e-01, 8.80477139e-01, 8.80477139e-01, 8.82555956e-01,\n        8.83555498e-01, 8.84529946e-01, 8.85480333e-01, 8.85480333e-01,\n        8.86407633e-01, 8.94590745e-01],\n       [0.00000000e+00, 2.70537752e-01, 2.85504233e-01, 3.29306380e-01,\n        3.34249714e-01, 3.45346329e-01, 3.47949336e-01, 3.51647281e-01,\n        3.55341629e-01, 3.57069375e-01, 3.57069375e-01, 3.65817138e-01,\n        3.69624919e-01, 3.73448499e-01, 3.74217282e-01, 3.74945890e-01,\n        3.74945890e-01, 3.76390436e-01, 3.80220213e-01, 3.80220213e-01,\n        3.82786600e-01, 3.82786600e-01, 3.88685021e-01, 3.94772467e-01,\n        4.01556251e-01, 4.04761905e-01, 4.08503825e-01, 4.08503825e-01,\n        4.10811696e-01, 4.17431032e-01, 4.25033844e-01, 4.26931745e-01,\n        4.27729730e-01, 4.31230306e-01, 4.31708857e-01, 4.33053290e-01,\n        4.46989959e-01, 4.49311208e-01, 4.50626843e-01, 4.59938275e-01,\n        4.62147126e-01, 4.63254960e-01, 4.65199192e-01, 4.72465039e-01,\n        4.73439704e-01, 4.73439704e-01, 4.75109341e-01, 4.75109341e-01,\n        4.76604084e-01, 4.92653711e-01]])"
     },
     "metadata": {},
     "output_type": "display_data"
    },
    {
     "data": {
      "text/plain": "array([[1200, 1446,  409,  438, 2372, 1386, 1982, 1997, 1456,  688,  215,\n        1110, 2542, 1322, 1720, 2334,  344, 2633, 2435, 1924,  719, 1709,\n        2132,  171,  592, 1919, 1750,  973, 1353, 2135, 1902,  904, 1799,\n        1872, 1946,  293,  280,  195,  330, 1927,  777,   76, 1426, 1663,\n        1196,  163,  903,  453,  118, 2140],\n       [1201, 1728, 1144, 2297, 2227,  562, 2620,  120, 2657, 1672,   20,\n        1579,  700, 1221, 1314, 2247, 1387,  628, 1598, 1050, 1412, 1693,\n        2639, 1667, 1899, 2068, 1804, 1051, 1432,  861,  243, 1088, 2459,\n        2538, 1117, 2259, 2662, 1559, 2282,   91, 1627, 2129,  263,  111,\n        1049, 1591, 2191,  383, 1520, 1891],\n       [1202, 2378, 1397,  795,  182,  990, 2067, 1334,  187,  614,  952,\n        1951,  284, 1047,  167,  983, 1761, 1396, 1285,  960,  865, 1054,\n        1626,  110, 2179, 2654, 1472, 1942,  902,  530,  434, 1284,  895,\n         116, 2059, 1763,  373,  375,  191, 1413, 1599, 2157,  980, 1143,\n        1420, 1923,  235, 2038, 1903,  403]], dtype=int64)"
     },
     "metadata": {},
     "output_type": "display_data"
    }
   ],
   "source": [
    "INSTANCE_INDEXES = [1200,1250]\n",
    "inst_k = user_ratings_pivot.loc[INSTANCE_INDEXES[0]:INSTANCE_INDEXES[1]]\n",
    "inst_k_scores, inst_k_neighbors = model_knn.kneighbors(inst_k)\n",
    "print(f'Generate recommendation instances from {INSTANCE_INDEXES}')\n",
    "display(inst_k_scores[:5][:3])\n",
    "display(inst_k_neighbors[:5][:3])"
   ],
   "metadata": {
    "collapsed": false,
    "ExecuteTime": {
     "end_time": "2023-10-09T15:07:34.470456700Z",
     "start_time": "2023-10-09T15:07:03.189208100Z"
    }
   },
   "id": "4ed3572b310178e9"
  },
  {
   "cell_type": "markdown",
   "source": [
    "### Step 4: Find Neighbors"
   ],
   "metadata": {
    "collapsed": false
   },
   "id": "350ad09c76e8a5d2"
  },
  {
   "cell_type": "code",
   "execution_count": 12,
   "outputs": [
    {
     "name": "stdout",
     "output_type": "stream",
     "text": [
      "Generated neighbors set completed\n"
     ]
    }
   ],
   "source": [
    "inst_k_neighbors_list = [] # List of df, each df contain user detail of neighbors\n",
    "inst_k_neighbors_rating_list = [] # List of df, each df \n",
    "for each in inst_k_neighbors:\n",
    "    temp_neighbors_list = [user_mapping[x] for x in each]\n",
    "    \n",
    "    temp_neighbors_df = users_df[users_df['UserID'].isin(temp_neighbors_list)]\n",
    "    inst_k_neighbors_list.append(temp_neighbors_df)\n",
    "\n",
    "    temp_neighbors_rating_df = final_train_ratings_df[final_train_ratings_df['UserID'].isin(each)]\n",
    "    inst_k_neighbors_rating_list.append(temp_neighbors_rating_df)\n",
    "    \n",
    "print('Generated neighbors set completed')"
   ],
   "metadata": {
    "collapsed": false,
    "ExecuteTime": {
     "end_time": "2023-10-09T15:07:34.965221800Z",
     "start_time": "2023-10-09T15:07:34.483482900Z"
    }
   },
   "id": "68a8295476b7ca2b"
  },
  {
   "cell_type": "markdown",
   "source": [
    "## Generate Explanation"
   ],
   "metadata": {
    "collapsed": false
   },
   "id": "b8690b66a6dd4b4e"
  },
  {
   "cell_type": "markdown",
   "source": [
    "### Section 1: User profile scenario"
   ],
   "metadata": {
    "collapsed": false
   },
   "id": "b989390af40b90ff"
  },
  {
   "cell_type": "code",
   "execution_count": 48,
   "outputs": [
    {
     "name": "stdout",
     "output_type": "stream",
     "text": [
      "Your are user ID 61035 who live in Holbrook, AZ state. You have a High School specialized in General Studies with 9.0 years of experience. You have had 7 jobs in the past, and have never managed  other before.\n",
      "\n",
      "Your are user ID 16621 who live in Dallas, TX state. You have a Bachelor's specialized in Management with 4.0 years of experience. You have had 2 jobs in the past, and have never managed  other before.\n",
      "\n",
      "Your are user ID 92802 who live in Atlanta, GA state. You have a None specialized in nan with 7.0 years of experience. You have had 4 jobs in the past, and have never managed  other before.\n",
      "\n",
      "Your are user ID 22358 who live in Riverdale, GA state. You have a High School specialized in Not Applicable with 6.0 years of experience. You have had 2 jobs in the past, and have managed 10 other before.\n",
      "\n",
      "Your are user ID 88381 who live in Calumet City, IL state. You have a High School specialized in Not Applicable with 5.0 years of experience. You have had 3 jobs in the past, and have never managed  other before.\n",
      "\n",
      "Your are user ID 769 who live in Roselle, IL state. You have a Bachelor's specialized in Radio-Television with 5.0 years of experience. You have had 5 jobs in the past, and have never managed  other before.\n",
      "\n",
      "Your are user ID 45410 who live in Farmington Hills, MI state. You have a None specialized in Business Accounting with 16.0 years of experience. You have had 6 jobs in the past, and have never managed  other before.\n",
      "\n",
      "Your are user ID 70636 who live in Yeadon, PA state. You have a None specialized in nan with 8.0 years of experience. You have had 2 jobs in the past, and have never managed  other before.\n",
      "\n",
      "Your are user ID 111777 who live in South Amboy, NJ state. You have a Bachelor's specialized in History with 14.0 years of experience. You have had 9 jobs in the past, and have never managed  other before.\n",
      "\n",
      "Your are user ID 92802 who live in Atlanta, GA state. You have a None specialized in nan with 7.0 years of experience. You have had 4 jobs in the past, and have never managed  other before.\n",
      "\n",
      "Your are user ID 16621 who live in Dallas, TX state. You have a Bachelor's specialized in Management with 4.0 years of experience. You have had 2 jobs in the past, and have never managed  other before.\n",
      "\n",
      "Your are user ID 16621 who live in Dallas, TX state. You have a Bachelor's specialized in Management with 4.0 years of experience. You have had 2 jobs in the past, and have never managed  other before.\n",
      "\n",
      "Your are user ID 23502 who live in Wilmington, DE state. You have a Associate's specialized in Business Administration with nan years of experience. You have had 0 jobs in the past, and have never managed  other before.\n",
      "\n",
      "Your are user ID 8460 who live in Rapid City, SD state. You have a Master's specialized in Engineering Management with 6.0 years of experience. You have had 3 jobs in the past, and have managed 5 other before.\n",
      "\n",
      "Your are user ID 4972 who live in Brazoria, TX state. You have a High School specialized in Not Applicable with 3.0 years of experience. You have had 3 jobs in the past, and have never managed  other before.\n",
      "\n",
      "Your are user ID 16621 who live in Dallas, TX state. You have a Bachelor's specialized in Management with 4.0 years of experience. You have had 2 jobs in the past, and have never managed  other before.\n",
      "\n",
      "Your are user ID 67774 who live in Valrico, FL state. You have a None specialized in nan with 3.0 years of experience. You have had 2 jobs in the past, and have never managed  other before.\n",
      "\n",
      "Your are user ID 769 who live in Roselle, IL state. You have a Bachelor's specialized in Radio-Television with 5.0 years of experience. You have had 5 jobs in the past, and have never managed  other before.\n",
      "\n",
      "Your are user ID 96345 who live in Plantation, FL state. You have a None specialized in nan with 6.0 years of experience. You have had 4 jobs in the past, and have never managed  other before.\n",
      "\n",
      "Your are user ID 30776 who live in Madison Heights, MI state. You have a Bachelor's specialized in Human Services with 13.0 years of experience. You have had 4 jobs in the past, and have never managed  other before.\n",
      "\n",
      "Your are user ID 36607 who live in Chicago, IL state. You have a High School specialized in Not Applicable with 2.0 years of experience. You have had 1 jobs in the past, and have never managed  other before.\n",
      "\n",
      "Your are user ID 16621 who live in Dallas, TX state. You have a Bachelor's specialized in Management with 4.0 years of experience. You have had 2 jobs in the past, and have never managed  other before.\n",
      "\n",
      "Your are user ID 141217 who live in Plainfield, NJ state. You have a Associate's specialized in Management with 10.0 years of experience. You have had 7 jobs in the past, and have never managed  other before.\n",
      "\n",
      "Your are user ID 25499 who live in La Plata, MD state. You have a Bachelor's specialized in International Studies with 4.0 years of experience. You have had 4 jobs in the past, and have never managed  other before.\n",
      "\n",
      "Your are user ID 36668 who live in Goshen, OH state. You have a High School specialized in Not Applicable with 12.0 years of experience. You have had 4 jobs in the past, and have managed 15 other before.\n",
      "\n",
      "Your are user ID 25499 who live in La Plata, MD state. You have a Bachelor's specialized in International Studies with 4.0 years of experience. You have had 4 jobs in the past, and have never managed  other before.\n",
      "\n",
      "Your are user ID 59309 who live in Piedmont, SC state. You have a None specialized in Not Applicable with 5.0 years of experience. You have had 5 jobs in the past, and have never managed  other before.\n",
      "\n",
      "Your are user ID 34945 who live in Houston, TX state. You have a High School specialized in Not Applicable with nan years of experience. You have had 0 jobs in the past, and have never managed  other before.\n",
      "\n",
      "Your are user ID 80137 who live in Indianapolis, IN state. You have a High School specialized in Not Applicable with 2.0 years of experience. You have had 2 jobs in the past, and have never managed  other before.\n",
      "\n",
      "Your are user ID 6246 who live in Stone Mountain, GA state. You have a Bachelor's specialized in Political Science with 5.0 years of experience. You have had 3 jobs in the past, and have never managed  other before.\n",
      "\n",
      "Your are user ID 41346 who live in Chicago, IL state. You have a Bachelor's specialized in nan with 2.0 years of experience. You have had 3 jobs in the past, and have never managed  other before.\n",
      "\n",
      "Your are user ID 4359 who live in Valrico, FL state. You have a High School specialized in Not Applicable with 2.0 years of experience. You have had 3 jobs in the past, and have never managed  other before.\n",
      "\n",
      "Your are user ID 2652 who live in Glendale, CA state. You have a High School specialized in Not Applicable with 21.0 years of experience. You have had 3 jobs in the past, and have managed 3 other before.\n",
      "\n",
      "Your are user ID 4972 who live in Brazoria, TX state. You have a High School specialized in Not Applicable with 3.0 years of experience. You have had 3 jobs in the past, and have never managed  other before.\n",
      "\n",
      "Your are user ID 59309 who live in Piedmont, SC state. You have a None specialized in Not Applicable with 5.0 years of experience. You have had 5 jobs in the past, and have never managed  other before.\n",
      "\n",
      "Your are user ID 1697 who live in Justice, IL state. You have a High School specialized in Not Applicable with 6.0 years of experience. You have had 4 jobs in the past, and have never managed  other before.\n",
      "\n",
      "Your are user ID 13270 who live in Salisbury, NC state. You have a Associate's specialized in Accounting with 4.0 years of experience. You have had 1 jobs in the past, and have never managed  other before.\n",
      "\n",
      "Your are user ID 49513 who live in Fontana, CA state. You have a None specialized in nan with 4.0 years of experience. You have had 3 jobs in the past, and have never managed  other before.\n",
      "\n",
      "Your are user ID 57699 who live in Arden, NC state. You have a High School specialized in Military & Architecture Pathway with 7.0 years of experience. You have had 2 jobs in the past, and have managed 2 other before.\n",
      "\n",
      "Your are user ID 554 who live in Altamonte Springs, FL state. You have a Bachelor's specialized in Legal Studies with 4.0 years of experience. You have had 2 jobs in the past, and have never managed  other before.\n",
      "\n",
      "Your are user ID 96193 who live in Hollis, NY state. You have a Bachelor's specialized in Management and Finance with 5.0 years of experience. You have had 2 jobs in the past, and have never managed  other before.\n",
      "\n",
      "Your are user ID 554 who live in Altamonte Springs, FL state. You have a Bachelor's specialized in Legal Studies with 4.0 years of experience. You have had 2 jobs in the past, and have never managed  other before.\n",
      "\n",
      "Your are user ID 58693 who live in Waretown, NJ state. You have a Master's specialized in Organizational Leadership with 8.0 years of experience. You have had 3 jobs in the past, and have never managed  other before.\n",
      "\n",
      "Your are user ID 554 who live in Altamonte Springs, FL state. You have a Bachelor's specialized in Legal Studies with 4.0 years of experience. You have had 2 jobs in the past, and have never managed  other before.\n",
      "\n",
      "Your are user ID 96193 who live in Hollis, NY state. You have a Bachelor's specialized in Management and Finance with 5.0 years of experience. You have had 2 jobs in the past, and have never managed  other before.\n",
      "\n",
      "Your are user ID 16621 who live in Dallas, TX state. You have a Bachelor's specialized in Management with 4.0 years of experience. You have had 2 jobs in the past, and have never managed  other before.\n",
      "\n",
      "Your are user ID 34945 who live in Houston, TX state. You have a High School specialized in Not Applicable with nan years of experience. You have had 0 jobs in the past, and have never managed  other before.\n",
      "\n",
      "Your are user ID 36668 who live in Goshen, OH state. You have a High School specialized in Not Applicable with 12.0 years of experience. You have had 4 jobs in the past, and have managed 15 other before.\n",
      "\n",
      "Your are user ID 769 who live in Roselle, IL state. You have a Bachelor's specialized in Radio-Television with 5.0 years of experience. You have had 5 jobs in the past, and have never managed  other before.\n",
      "\n",
      "Your are user ID 30776 who live in Madison Heights, MI state. You have a Bachelor's specialized in Human Services with 13.0 years of experience. You have had 4 jobs in the past, and have never managed  other before.\n",
      "\n",
      "Your are user ID 19941 who live in Gainesville, FL state. You have a Master's specialized in Industrial & Systems Engineering with 4.0 years of experience. You have had 3 jobs in the past, and have never managed  other before.\n"
     ]
    }
   ],
   "source": [
    "def get_user_profile_template(user_detail_row):\n",
    "    user_text = 'Your are user ID {:} who live in {:}, {:} state. You have a {:} specialized in {:} with {:} years of experience. You have had {:} jobs in the past, and {:} managed {:} other before.\\n'.format(user_detail_row['UserID'], user_detail_row['City'], user_detail_row['State'], user_detail_row['DegreeType'], user_detail_row['Major'], user_detail_row['TotalYearsExperience'], user_detail_row['WorkHistoryCount'], 'have' if user_detail_row['ManagedOthers'] == 'Yes' else 'have never', user_detail_row['ManagedHowMany'] if user_detail_row['ManagedOthers'] == 'Yes' else '')\n",
    "    return user_text\n",
    "\n",
    "for k_neighbors in inst_k_neighbors_list:\n",
    "    inst_row = k_neighbors.iloc[0]\n",
    "    print(get_user_profile_template(inst_row))"
   ],
   "metadata": {
    "collapsed": false,
    "ExecuteTime": {
     "end_time": "2023-10-09T16:52:09.146941500Z",
     "start_time": "2023-10-09T16:52:09.119272400Z"
    }
   },
   "id": "658e22c621e630c4"
  },
  {
   "cell_type": "markdown",
   "source": [
    "### Section 2: User characteristic-based explanation\n",
    "Select feature to include in explanations:\n",
    "- Degree Type - N people share your level of education (DegreeType)\n",
    "- Years of experience - average year of experience in your range of (TotalYearsExperience)\n",
    "- Manage others - You and N other has also (never) managed a team before\n",
    "Count the same occurrence of with the dataset (N people share your level of degree (Bachelors))"
   ],
   "metadata": {
    "collapsed": false
   },
   "id": "1bfe0d4ed7ad78a"
  },
  {
   "cell_type": "code",
   "execution_count": 51,
   "outputs": [
    {
     "name": "stdout",
     "output_type": "stream",
     "text": [
      "We suggested these jobs because you share similarities with people who also applied to these jobs. Out of 49, 15 people share your level of education (High School). Their average year of experience is within your level of 10.87 years (vs yours 9.0 years). You and 34 others also has never managed a team before.\n",
      "\n",
      "We suggested these jobs because you share similarities with people who also applied to these jobs. Out of 49, 7 people share your level of education (Bachelor's). Their average year of experience is within your level of 9.76 years (vs yours 4.0 years). You and 38 others also has never managed a team before.\n",
      "\n",
      "We suggested these jobs because you share similarities with people who also applied to these jobs. Out of 49, 13 people share your level of education (None). Their average year of experience is within your level of 9.89 years (vs yours 7.0 years). You and 35 others also has never managed a team before.\n",
      "\n",
      "We suggested these jobs because you share similarities with people who also applied to these jobs. Out of 49, 14 people share your level of education (High School). Their average year of experience is within your level of 10.24 years (vs yours 6.0 years). You and 12 others also has managed a team before.\n",
      "\n",
      "We suggested these jobs because you share similarities with people who also applied to these jobs. Out of 49, 18 people share your level of education (High School). Their average year of experience is within your level of 10.25 years (vs yours 5.0 years). You and 39 others also has never managed a team before.\n",
      "\n",
      "We suggested these jobs because you share similarities with people who also applied to these jobs. Out of 49, 14 people share your level of education (Bachelor's). Their average year of experience is within your level of 10.45 years (vs yours 5.0 years). You and 33 others also has never managed a team before.\n",
      "\n",
      "We suggested these jobs because you share similarities with people who also applied to these jobs. Out of 49, 12 people share your level of education (None). Their average year of experience is within your level of 10.87 years (vs yours 16.0 years). You and 27 others also has never managed a team before.\n",
      "\n",
      "We suggested these jobs because you share similarities with people who also applied to these jobs. Out of 49, 13 people share your level of education (None). Their average year of experience is within your level of 9.85 years (vs yours 8.0 years). You and 36 others also has never managed a team before.\n",
      "\n",
      "We suggested these jobs because you share similarities with people who also applied to these jobs. Out of 49, 13 people share your level of education (Bachelor's). Their average year of experience is within your level of 12.83 years (vs yours 14.0 years). You and 33 others also has never managed a team before.\n",
      "\n",
      "We suggested these jobs because you share similarities with people who also applied to these jobs. Out of 49, 14 people share your level of education (None). Their average year of experience is within your level of 13.98 years (vs yours 7.0 years). You and 30 others also has never managed a team before.\n",
      "\n",
      "We suggested these jobs because you share similarities with people who also applied to these jobs. Out of 49, 10 people share your level of education (Bachelor's). Their average year of experience is within your level of 9.94 years (vs yours 4.0 years). You and 40 others also has never managed a team before.\n",
      "\n",
      "We suggested these jobs because you share similarities with people who also applied to these jobs. Out of 49, 10 people share your level of education (Bachelor's). Their average year of experience is within your level of 10.00 years (vs yours 4.0 years). You and 39 others also has never managed a team before.\n",
      "\n",
      "We suggested these jobs because you share similarities with people who also applied to these jobs. Out of 49, 3 people share your level of education (Associate's). Their average year of experience is within your level of 10.77 years (vs yours nan years). You and 38 others also has never managed a team before.\n",
      "\n",
      "We suggested these jobs because you share similarities with people who also applied to these jobs. Out of 49, 3 people share your level of education (Master's). Their average year of experience is within your level of 9.62 years (vs yours 6.0 years). You and 11 others also has managed a team before.\n",
      "\n",
      "We suggested these jobs because you share similarities with people who also applied to these jobs. Out of 49, 15 people share your level of education (High School). Their average year of experience is within your level of 11.13 years (vs yours 3.0 years). You and 32 others also has never managed a team before.\n",
      "\n",
      "We suggested these jobs because you share similarities with people who also applied to these jobs. Out of 49, 7 people share your level of education (Bachelor's). Their average year of experience is within your level of 7.15 years (vs yours 4.0 years). You and 39 others also has never managed a team before.\n",
      "\n",
      "We suggested these jobs because you share similarities with people who also applied to these jobs. Out of 49, 12 people share your level of education (None). Their average year of experience is within your level of 9.46 years (vs yours 3.0 years). You and 28 others also has never managed a team before.\n",
      "\n",
      "We suggested these jobs because you share similarities with people who also applied to these jobs. Out of 49, 14 people share your level of education (Bachelor's). Their average year of experience is within your level of 11.06 years (vs yours 5.0 years). You and 33 others also has never managed a team before.\n",
      "\n",
      "We suggested these jobs because you share similarities with people who also applied to these jobs. Out of 49, 13 people share your level of education (None). Their average year of experience is within your level of 9.70 years (vs yours 6.0 years). You and 31 others also has never managed a team before.\n",
      "\n",
      "We suggested these jobs because you share similarities with people who also applied to these jobs. Out of 49, 15 people share your level of education (Bachelor's). Their average year of experience is within your level of 11.67 years (vs yours 13.0 years). You and 35 others also has never managed a team before.\n",
      "\n",
      "We suggested these jobs because you share similarities with people who also applied to these jobs. Out of 49, 9 people share your level of education (High School). Their average year of experience is within your level of 9.34 years (vs yours 2.0 years). You and 39 others also has never managed a team before.\n",
      "\n",
      "We suggested these jobs because you share similarities with people who also applied to these jobs. Out of 49, 6 people share your level of education (Bachelor's). Their average year of experience is within your level of 6.87 years (vs yours 4.0 years). You and 38 others also has never managed a team before.\n",
      "\n",
      "We suggested these jobs because you share similarities with people who also applied to these jobs. Out of 49, 8 people share your level of education (Associate's). Their average year of experience is within your level of 13.21 years (vs yours 10.0 years). You and 37 others also has never managed a team before.\n",
      "\n",
      "We suggested these jobs because you share similarities with people who also applied to these jobs. Out of 49, 9 people share your level of education (Bachelor's). Their average year of experience is within your level of 8.30 years (vs yours 4.0 years). You and 35 others also has never managed a team before.\n",
      "\n",
      "We suggested these jobs because you share similarities with people who also applied to these jobs. Out of 49, 15 people share your level of education (High School). Their average year of experience is within your level of 10.28 years (vs yours 12.0 years). You and 15 others also has managed a team before.\n",
      "\n",
      "We suggested these jobs because you share similarities with people who also applied to these jobs. Out of 49, 10 people share your level of education (Bachelor's). Their average year of experience is within your level of 9.65 years (vs yours 4.0 years). You and 32 others also has never managed a team before.\n",
      "\n",
      "We suggested these jobs because you share similarities with people who also applied to these jobs. Out of 49, 9 people share your level of education (None). Their average year of experience is within your level of 10.11 years (vs yours 5.0 years). You and 26 others also has never managed a team before.\n",
      "\n",
      "We suggested these jobs because you share similarities with people who also applied to these jobs. Out of 49, 11 people share your level of education (High School). Their average year of experience is within your level of 9.32 years (vs yours nan years). You and 38 others also has never managed a team before.\n",
      "\n",
      "We suggested these jobs because you share similarities with people who also applied to these jobs. Out of 49, 21 people share your level of education (High School). Their average year of experience is within your level of 9.36 years (vs yours 2.0 years). You and 36 others also has never managed a team before.\n",
      "\n",
      "We suggested these jobs because you share similarities with people who also applied to these jobs. Out of 49, 14 people share your level of education (Bachelor's). Their average year of experience is within your level of 10.46 years (vs yours 5.0 years). You and 34 others also has never managed a team before.\n",
      "\n",
      "We suggested these jobs because you share similarities with people who also applied to these jobs. Out of 49, 11 people share your level of education (Bachelor's). Their average year of experience is within your level of 9.76 years (vs yours 2.0 years). You and 32 others also has never managed a team before.\n",
      "\n",
      "We suggested these jobs because you share similarities with people who also applied to these jobs. Out of 49, 14 people share your level of education (High School). Their average year of experience is within your level of 10.13 years (vs yours 2.0 years). You and 31 others also has never managed a team before.\n",
      "\n",
      "We suggested these jobs because you share similarities with people who also applied to these jobs. Out of 49, 9 people share your level of education (High School). Their average year of experience is within your level of 9.98 years (vs yours 21.0 years). You and 16 others also has managed a team before.\n",
      "\n",
      "We suggested these jobs because you share similarities with people who also applied to these jobs. Out of 49, 13 people share your level of education (High School). Their average year of experience is within your level of 10.89 years (vs yours 3.0 years). You and 33 others also has never managed a team before.\n",
      "\n",
      "We suggested these jobs because you share similarities with people who also applied to these jobs. Out of 49, 7 people share your level of education (None). Their average year of experience is within your level of 11.07 years (vs yours 5.0 years). You and 27 others also has never managed a team before.\n",
      "\n",
      "We suggested these jobs because you share similarities with people who also applied to these jobs. Out of 49, 10 people share your level of education (High School). Their average year of experience is within your level of 10.35 years (vs yours 6.0 years). You and 32 others also has never managed a team before.\n",
      "\n",
      "We suggested these jobs because you share similarities with people who also applied to these jobs. Out of 49, 6 people share your level of education (Associate's). Their average year of experience is within your level of 9.74 years (vs yours 4.0 years). You and 32 others also has never managed a team before.\n",
      "\n",
      "We suggested these jobs because you share similarities with people who also applied to these jobs. Out of 49, 16 people share your level of education (None). Their average year of experience is within your level of 11.04 years (vs yours 4.0 years). You and 35 others also has never managed a team before.\n",
      "\n",
      "We suggested these jobs because you share similarities with people who also applied to these jobs. Out of 49, 6 people share your level of education (High School). Their average year of experience is within your level of 10.24 years (vs yours 7.0 years). You and 14 others also has managed a team before.\n",
      "\n",
      "We suggested these jobs because you share similarities with people who also applied to these jobs. Out of 49, 16 people share your level of education (Bachelor's). Their average year of experience is within your level of 8.90 years (vs yours 4.0 years). You and 32 others also has never managed a team before.\n",
      "\n",
      "We suggested these jobs because you share similarities with people who also applied to these jobs. Out of 49, 16 people share your level of education (Bachelor's). Their average year of experience is within your level of 9.68 years (vs yours 5.0 years). You and 38 others also has never managed a team before.\n",
      "\n",
      "We suggested these jobs because you share similarities with people who also applied to these jobs. Out of 49, 11 people share your level of education (Bachelor's). Their average year of experience is within your level of 8.48 years (vs yours 4.0 years). You and 33 others also has never managed a team before.\n",
      "\n",
      "We suggested these jobs because you share similarities with people who also applied to these jobs. Out of 49, 4 people share your level of education (Master's). Their average year of experience is within your level of 13.53 years (vs yours 8.0 years). You and 35 others also has never managed a team before.\n",
      "\n",
      "We suggested these jobs because you share similarities with people who also applied to these jobs. Out of 49, 12 people share your level of education (Bachelor's). Their average year of experience is within your level of 10.04 years (vs yours 4.0 years). You and 29 others also has never managed a team before.\n",
      "\n",
      "We suggested these jobs because you share similarities with people who also applied to these jobs. Out of 49, 17 people share your level of education (Bachelor's). Their average year of experience is within your level of 11.79 years (vs yours 5.0 years). You and 41 others also has never managed a team before.\n",
      "\n",
      "We suggested these jobs because you share similarities with people who also applied to these jobs. Out of 49, 10 people share your level of education (Bachelor's). Their average year of experience is within your level of 9.96 years (vs yours 4.0 years). You and 39 others also has never managed a team before.\n",
      "\n",
      "We suggested these jobs because you share similarities with people who also applied to these jobs. Out of 49, 11 people share your level of education (High School). Their average year of experience is within your level of 8.96 years (vs yours nan years). You and 35 others also has never managed a team before.\n",
      "\n",
      "We suggested these jobs because you share similarities with people who also applied to these jobs. Out of 49, 13 people share your level of education (High School). Their average year of experience is within your level of 11.25 years (vs yours 12.0 years). You and 13 others also has managed a team before.\n",
      "\n",
      "We suggested these jobs because you share similarities with people who also applied to these jobs. Out of 49, 13 people share your level of education (Bachelor's). Their average year of experience is within your level of 9.66 years (vs yours 5.0 years). You and 29 others also has never managed a team before.\n",
      "\n",
      "We suggested these jobs because you share similarities with people who also applied to these jobs. Out of 49, 10 people share your level of education (Bachelor's). Their average year of experience is within your level of 12.13 years (vs yours 13.0 years). You and 31 others also has never managed a team before.\n",
      "\n",
      "We suggested these jobs because you share similarities with people who also applied to these jobs. Out of 49, 19 people share your level of education (Master's). Their average year of experience is within your level of 7.10 years (vs yours 4.0 years). You and 38 others also has never managed a team before.\n"
     ]
    }
   ],
   "source": [
    "# The first row of neighbors_df is itself\n",
    "def get_explanation_user(neighbors_df_list):\n",
    "    explanation_user_list = []\n",
    "    for neighbors_df in neighbors_df_list:\n",
    "        center = neighbors_df.iloc[0]\n",
    "        circles = neighbors_df.iloc[1:]\n",
    "        \n",
    "        # Level of education\n",
    "        if circles[circles['DegreeType'] == center['DegreeType']].shape[0] > 0:\n",
    "            n_share_degree = circles['DegreeType'].value_counts()[center['DegreeType']]\n",
    "        else:\n",
    "            n_share_degree = 'None'\n",
    "        \n",
    "        # Average years of experience\n",
    "        not_nan_experience = [val for val in circles['TotalYearsExperience'].values if not numpy.isnan(val)]\n",
    "        avg_year_experience = numpy.mean(not_nan_experience)\n",
    "        \n",
    "        # Management experience\n",
    "        is_manager = ' never' if center['ManagedOthers'] == 'No' else ''\n",
    "        n_same_management = len(circles[circles['ManagedOthers']==center['ManagedOthers']])\n",
    "        \n",
    "        # Templating\n",
    "        explanation_user_text = 'We suggested these jobs because you share similarities with people who also applied to these jobs. Out of {:}, {:} people share your level of education ({:}). Their average year of experience is within your level of {:.2f} years (vs yours {:} years). You and {:} others also has{:} managed a team before.\\n'.format(circles.shape[0], n_share_degree, center['DegreeType'], avg_year_experience, center['TotalYearsExperience'], n_same_management, is_manager)\n",
    "        \n",
    "        explanation_user_list.append({'explanation': explanation_user_text, 'data': [n_share_degree, center['DegreeType'], avg_year_experience, n_same_management, is_manager], 'user_profile': get_user_profile_template(center)})\n",
    "    \n",
    "    return explanation_user_list\n",
    "                         \n",
    "                         \n",
    "expl_list = get_explanation_user(inst_k_neighbors_list) \n",
    "for df, expl in zip(inst_k_neighbors_list, expl_list):\n",
    "    # display(df.iloc[0])\n",
    "    print(expl['explanation'])"
   ],
   "metadata": {
    "collapsed": false,
    "ExecuteTime": {
     "end_time": "2023-10-09T17:02:07.056315700Z",
     "start_time": "2023-10-09T17:02:06.982370700Z"
    }
   },
   "id": "1d8a1ffd1dcc28be"
  },
  {
   "cell_type": "markdown",
   "source": [
    "### Section 3: Application history-based explanation"
   ],
   "metadata": {
    "collapsed": false
   },
   "id": "439ea29e2e2a30a9"
  },
  {
   "cell_type": "code",
   "execution_count": 46,
   "outputs": [
    {
     "name": "stdout",
     "output_type": "stream",
     "text": [
      "We suggested these jobs because people who applied to similar jobs to you in the past also applied. We look into your history you have applied to\n",
      "Job ID 741469 : Customer Service Experience Wanted! in Scottsdale-AZ like 21 others,\n",
      "Job ID 790763 : Manufacturing Manager in Lacombe-LA like 19 others,\n",
      "Job ID 1038468 : Customer Service/Support in Phoenix-AZ like 17 others in the past.\n",
      "\n",
      "We suggested these jobs because people who applied to similar jobs to you in the past also applied. We look into your history you have applied to\n",
      "Job ID 460224 : Customer Service Representative / Researcher in Frisco-TX like 31 others,\n",
      "Job ID 741664 : Inbound Customer Service Call Center Reps Needed NOW! in Lewisville-TX like 26 others,\n",
      "Job ID 1036760 : Front Office Administrative Staff in Plano-TX like 24 others in the past.\n",
      "\n",
      "We suggested these jobs because people who applied to similar jobs to you in the past also applied. We look into your history you have applied to\n",
      "Job ID 779460 : Administrative Assistant in Atlanta-GA like 24 others,\n",
      "Job ID 1050736 : Executive Assistant in Atlanta-GA like 23 others,\n",
      "Job ID 1078744 : Receptionist / Administrative Assistant in Atlanta-GA like 22 others in the past.\n",
      "\n",
      "We suggested these jobs because people who applied to similar jobs to you in the past also applied. We look into your history you have applied to\n",
      "Job ID 34975 : Data Entry Clerk/Warehouse Associate in Marietta-GA like 36 others,\n",
      "Job ID 498800 : Call Center Representatives #106 in Kennesaw-GA like 29 others,\n",
      "Job ID 568552 : Customer Service Representative in Roswell-GA like 28 others in the past.\n",
      "\n",
      "We suggested these jobs because people who applied to similar jobs to you in the past also applied. We look into your history you have applied to\n",
      "Job ID 301285 : Shipping Clerk in Chicago-IL like 31 others,\n",
      "Job ID 338167 : Packer / Manufacturing in Villa Park-IL like 29 others,\n",
      "Job ID 512686 : Shipping and Traffic Receptionist ~ $12/hr ~ Never Boring! in Chicago-IL like 27 others in the past.\n",
      "\n",
      "We suggested these jobs because people who applied to similar jobs to you in the past also applied. We look into your history you have applied to\n",
      "Job ID 314425 : Food Processing Production Manager in Chicago-IL like 12 others,\n",
      "Job ID 512686 : Shipping and Traffic Receptionist ~ $12/hr ~ Never Boring! in Chicago-IL like 12 others,\n",
      "Job ID 1032353 : Entry-Level Customer Service Representative in Chicago-IL like 11 others in the past.\n",
      "\n",
      "We suggested these jobs because people who applied to similar jobs to you in the past also applied. We look into your history you have applied to\n",
      "Job ID 637137 : Care Coordinator in Detroit-MI like 16 others,\n",
      "Job ID 906225 : Event Assistant in Farmington Hills-MI like 9 others,\n",
      "Job ID 1051666 : Administrative Assistant in Detroit-MI like 8 others in the past.\n",
      "\n",
      "We suggested these jobs because people who applied to similar jobs to you in the past also applied. We look into your history you have applied to\n",
      "Job ID 168797 : Hospitality / Retail / Customer Service in Philadelphia-PA like 12 others,\n",
      "Job ID 639962 : Bank Teller in Conshohocken-PA like 12 others,\n",
      "Job ID 747499 : Customer Service /Cashier clerks in Philadelphia-PA like 11 others in the past.\n",
      "\n",
      "We suggested these jobs because people who applied to similar jobs to you in the past also applied. We look into your history you have applied to\n",
      "Job ID 614280 : Claims Support Representative in Jersey City-NJ like 8 others,\n",
      "Job ID 743988 : Office Administrator in Parsippany-NJ like 6 others,\n",
      "Job ID 919171 : Customer Service Rep in Edison-NJ like 5 others in the past.\n",
      "\n",
      "We suggested these jobs because people who applied to similar jobs to you in the past also applied. We look into your history you have applied to\n",
      "Job ID 874230 : Distribution Center Supervisor in Atlanta-GA like 13 others,\n",
      "Job ID 1050736 : Executive Assistant in Atlanta-GA like 13 others,\n",
      "Job ID 1078744 : Receptionist / Administrative Assistant in Atlanta-GA like 10 others in the past.\n",
      "\n",
      "We suggested these jobs because people who applied to similar jobs to you in the past also applied. We look into your history you have applied to\n",
      "Job ID 130364 : Call Center Representatives in Arlington-TX like 18 others,\n",
      "Job ID 741664 : Inbound Customer Service Call Center Reps Needed NOW! in Lewisville-TX like 16 others,\n",
      "Job ID 1024499 : Service Cashier in Arlington-TX like 16 others in the past.\n",
      "\n",
      "We suggested these jobs because people who applied to similar jobs to you in the past also applied. We look into your history you have applied to\n",
      "Job ID 65413 : Medical Customer Service Representative (CSR) in Irving-TX like 19 others,\n",
      "Job ID 130364 : Call Center Representatives in Arlington-TX like 17 others,\n",
      "Job ID 1024499 : Service Cashier in Arlington-TX like 16 others in the past.\n",
      "\n",
      "We suggested these jobs because people who applied to similar jobs to you in the past also applied. We look into your history you have applied to\n",
      "Job ID 195916 : Customer Service Representative in Wilmington-DE like 19 others,\n",
      "Job ID 673082 : Administrative/Personal Assistant in Philadelphia-PA like 18 others,\n",
      "Job ID 780304 : Customer Care Specialist – Inbound in Cherry Hill-NJ like 17 others in the past.\n",
      "\n",
      "We suggested these jobs because people who applied to similar jobs to you in the past also applied. We look into your history you have applied to\n",
      "Job ID 195916 : Customer Service Representative in Wilmington-DE like 19 others,\n",
      "Job ID 451139 : Call Center Representative in Newtown Square-PA like 19 others,\n",
      "Job ID 681366 : *IMMEDIATE HIRE/ *Paid Training- Entry Level in Philadelphia-PA like 19 others in the past.\n",
      "\n",
      "We suggested these jobs because people who applied to similar jobs to you in the past also applied. We look into your history you have applied to\n",
      "Job ID 187358 : Clerical/office positions in Dallas-TX like 10 others,\n",
      "Job ID 246597 : CLERICAL in Fort Worth-TX like 8 others,\n",
      "Job ID 530713 : Customer Service Representative in Fort Worth-TX like 7 others in the past.\n",
      "\n",
      "We suggested these jobs because people who applied to similar jobs to you in the past also applied. We look into your history you have applied to\n",
      "Job ID 98665 : Customer Service Representative / Data Entry Positions in Dallas-TX like 37 others,\n",
      "Job ID 130364 : Call Center Representatives in Arlington-TX like 36 others,\n",
      "Job ID 741664 : Inbound Customer Service Call Center Reps Needed NOW! in Lewisville-TX like 33 others in the past.\n",
      "\n",
      "We suggested these jobs because people who applied to similar jobs to you in the past also applied. We look into your history you have applied to\n",
      "Job ID 300018 : Front Desk Oral Surgery Office in Orlando-FL like 5 others,\n",
      "Job ID 300053 : Customer Service in Maitland-FL like 5 others,\n",
      "Job ID 600045 : CUSTOMER SERVICE in Orlando-FL like 5 others in the past.\n",
      "\n",
      "We suggested these jobs because people who applied to similar jobs to you in the past also applied. We look into your history you have applied to\n",
      "Job ID 512686 : Shipping and Traffic Receptionist ~ $12/hr ~ Never Boring! in Chicago-IL like 11 others,\n",
      "Job ID 601021 : Customer Service/Receptionist/Call Center Rep in Chicago-IL like 10 others,\n",
      "Job ID 959911 : Customer Care / Collections Specialist in Calumet City-IL like 9 others in the past.\n",
      "\n",
      "We suggested these jobs because people who applied to similar jobs to you in the past also applied. We look into your history you have applied to\n",
      "Job ID 874636 : Front Desk Receptionist in Pompano Beach-FL like 29 others,\n",
      "Job ID 900368 : RECEPTIONIST in Fort Lauderdale-FL like 28 others,\n",
      "Job ID 1014185 : Customer Service Representatives in Sunrise-FL like 25 others in the past.\n",
      "\n",
      "We suggested these jobs because people who applied to similar jobs to you in the past also applied. We look into your history you have applied to\n",
      "Job ID 330241 : Residential Social Workers in Detroit-MI like 10 others,\n",
      "Job ID 952876 : Point of Sale Clerk in Warren-MI like 9 others,\n",
      "Job ID 1051666 : Administrative Assistant in Detroit-MI like 9 others in the past.\n",
      "\n",
      "We suggested these jobs because people who applied to similar jobs to you in the past also applied. We look into your history you have applied to\n",
      "Job ID 338167 : Packer / Manufacturing in Villa Park-IL like 9 others,\n",
      "Job ID 912466 : CONSUMER CARE & COMMUNICATIONS MANAGER in Chicago-IL like 8 others,\n",
      "Job ID 1045358 : Customer Service Representative in Chicago-IL like 8 others in the past.\n",
      "\n",
      "We suggested these jobs because people who applied to similar jobs to you in the past also applied. We look into your history you have applied to\n",
      "Job ID 98665 : Customer Service Representative / Data Entry Positions in Dallas-TX like 35 others,\n",
      "Job ID 187358 : Clerical/office positions in Dallas-TX like 34 others,\n",
      "Job ID 276033 : Front Office Scheduler/Insurance Verification in Dallas-TX like 33 others in the past.\n",
      "\n",
      "We suggested these jobs because people who applied to similar jobs to you in the past also applied. We look into your history you have applied to\n",
      "Job ID 192025 : Receptionist in Westfield-NJ like 11 others,\n",
      "Job ID 743988 : Office Administrator in Parsippany-NJ like 8 others,\n",
      "Job ID 919171 : Customer Service Rep in Edison-NJ like 6 others in the past.\n",
      "\n",
      "We suggested these jobs because people who applied to similar jobs to you in the past also applied. We look into your history you have applied to\n",
      "Job ID 72315 : Administrative Assistant in Washington-DC like 24 others,\n",
      "Job ID 771241 : Administrative Assistant in Washington-DC like 23 others,\n",
      "Job ID 911624 : Administrative Assistant in Washington-DC like 22 others in the past.\n",
      "\n",
      "We suggested these jobs because people who applied to similar jobs to you in the past also applied. We look into your history you have applied to\n",
      "Job ID 208360 : Human Resources Assistant in Cincinnati-OH like 5 others,\n",
      "Job ID 797189 : Customer Service Representative in Cincinnati-OH like 5 others,\n",
      "Job ID 919831 : Administrative Assistant/Receptionist in Cincinnati-OH like 5 others in the past.\n",
      "\n",
      "We suggested these jobs because people who applied to similar jobs to you in the past also applied. We look into your history you have applied to\n",
      "Job ID 72315 : Administrative Assistant in Washington-DC like 17 others,\n",
      "Job ID 625180 : Administratvie Assistants in Washington-DC like 16 others,\n",
      "Job ID 911624 : Administrative Assistant in Washington-DC like 16 others in the past.\n",
      "\n",
      "We suggested these jobs because people who applied to similar jobs to you in the past also applied. We look into your history you have applied to\n",
      "Job ID 614162 : Teller in Charlotte-NC like 6 others,\n",
      "Job ID 1057576 : Administrative Assistant II in Fort Mill-SC like 6 others,\n",
      "Job ID 1107262 : Customer Service Representative in Charlotte-NC like 6 others in the past.\n",
      "\n",
      "We suggested these jobs because people who applied to similar jobs to you in the past also applied. We look into your history you have applied to\n",
      "Job ID 518069 : Administrative Assistant in Houston-TX like 33 others,\n",
      "Job ID 518070 : Administrative Assistant in Houston-TX like 33 others,\n",
      "Job ID 565974 : Administrative Assistant / Secretary / Office Worker in Houston-TX like 32 others in the past.\n",
      "\n",
      "We suggested these jobs because people who applied to similar jobs to you in the past also applied. We look into your history you have applied to\n",
      "Job ID 474324 : Cashier-Hiring Event in Indianapolis-IN like 14 others,\n",
      "Job ID 582756 : Customer Care Representative in Fishers-IN like 13 others,\n",
      "Job ID 874581 : Patient Service Representative in Indianapolis-IN like 13 others in the past.\n",
      "\n",
      "We suggested these jobs because people who applied to similar jobs to you in the past also applied. We look into your history you have applied to\n",
      "Job ID 34975 : Data Entry Clerk/Warehouse Associate in Marietta-GA like 36 others,\n",
      "Job ID 498800 : Call Center Representatives #106 in Kennesaw-GA like 34 others,\n",
      "Job ID 1078744 : Receptionist / Administrative Assistant in Atlanta-GA like 33 others in the past.\n",
      "\n",
      "We suggested these jobs because people who applied to similar jobs to you in the past also applied. We look into your history you have applied to\n",
      "Job ID 314425 : Food Processing Production Manager in Chicago-IL like 36 others,\n",
      "Job ID 584241 : Temporary Office Work in Chicago-IL like 36 others,\n",
      "Job ID 601021 : Customer Service/Receptionist/Call Center Rep in Chicago-IL like 32 others in the past.\n",
      "\n",
      "We suggested these jobs because people who applied to similar jobs to you in the past also applied. We look into your history you have applied to\n",
      "Job ID 820396 : SHIPPING AND RECEIVING in Hollywood-FL like 8 others,\n",
      "Job ID 900339 : Restaurant Staff in Davie-FL like 7 others,\n",
      "Job ID 1038362 : Stock Associate in Sunrise-FL like 6 others in the past.\n",
      "\n",
      "We suggested these jobs because people who applied to similar jobs to you in the past also applied. We look into your history you have applied to\n",
      "Job ID 208090 : Administrative Assistant in Cerritos-CA like 23 others,\n",
      "Job ID 515420 : Clerical / General Office Administration in Los Angeles-CA like 23 others,\n",
      "Job ID 562794 : Call Center Team Lead -- Email in El Segundo-CA like 21 others in the past.\n",
      "\n",
      "We suggested these jobs because people who applied to similar jobs to you in the past also applied. We look into your history you have applied to\n",
      "Job ID 246487 : Receptionist/Admin Asst. in Arlington-TX like 8 others,\n",
      "Job ID 530713 : Customer Service Representative in Fort Worth-TX like 7 others,\n",
      "Job ID 771770 : Service Dispatcher/Booker in Arlington-TX like 7 others in the past.\n",
      "\n",
      "We suggested these jobs because people who applied to similar jobs to you in the past also applied. We look into your history you have applied to\n",
      "Job ID 614162 : Teller in Charlotte-NC like 4 others,\n",
      "Job ID 1057576 : Administrative Assistant II in Fort Mill-SC like 4 others,\n",
      "Job ID 1107262 : Customer Service Representative in Charlotte-NC like 4 others in the past.\n",
      "\n",
      "We suggested these jobs because people who applied to similar jobs to you in the past also applied. We look into your history you have applied to\n",
      "Job ID 23890 : Data Entry Operator I in Chicago-IL like 33 others,\n",
      "Job ID 314425 : Food Processing Production Manager in Chicago-IL like 32 others,\n",
      "Job ID 961415 : Customer Service in Bedford Park-IL like 28 others in the past.\n",
      "\n",
      "We suggested these jobs because people who applied to similar jobs to you in the past also applied. We look into your history you have applied to\n",
      "Job ID 496109 : Office Services Assistant in Charlotte-NC like 24 others,\n",
      "Job ID 817379 : Dispatcher & Route Coordinator in Charlotte-NC like 23 others,\n",
      "Job ID 817385 : Receptionist in Charlotte-NC like 19 others in the past.\n",
      "\n",
      "We suggested these jobs because people who applied to similar jobs to you in the past also applied. We look into your history you have applied to\n",
      "Job ID 208090 : Administrative Assistant in Cerritos-CA like 26 others,\n",
      "Job ID 224674 : Office Assistant in Irvine-CA like 19 others,\n",
      "Job ID 567542 : Office assistant/Receptionist in Corona-CA like 19 others in the past.\n",
      "\n",
      "We suggested these jobs because people who applied to similar jobs to you in the past also applied. We look into your history you have applied to\n",
      "Job ID 158824 : Guest Services Representative / Front Desk / Customer Service in Raleigh-NC like 23 others,\n",
      "Job ID 845712 : Administrative Assistant in Raleigh-NC like 23 others,\n",
      "Job ID 1062331 : Administrative Assistant in Durham-NC like 21 others in the past.\n",
      "\n",
      "We suggested these jobs because people who applied to similar jobs to you in the past also applied. We look into your history you have applied to\n",
      "Job ID 273293 : Customer Service Representative in Lake Mary-FL like 9 others,\n",
      "Job ID 300053 : Customer Service in Maitland-FL like 8 others,\n",
      "Job ID 600045 : CUSTOMER SERVICE in Orlando-FL like 7 others in the past.\n",
      "\n",
      "We suggested these jobs because people who applied to similar jobs to you in the past also applied. We look into your history you have applied to\n",
      "Job ID 297726 : Help Desk Temp $20-25 an hour in New York-NY like 12 others,\n",
      "Job ID 326664 : Customer Service Representative in Farmingdale-NY like 8 others,\n",
      "Job ID 518270 : Receptionist in Bayside-NY like 7 others in the past.\n",
      "\n",
      "We suggested these jobs because people who applied to similar jobs to you in the past also applied. We look into your history you have applied to\n",
      "Job ID 196603 : Customer service & sales - Full Time in Orlando-FL like 30 others,\n",
      "Job ID 300053 : Customer Service in Maitland-FL like 25 others,\n",
      "Job ID 627377 : Customer Service/Guest Relations in Winter Park-FL like 25 others in the past.\n",
      "\n",
      "We suggested these jobs because people who applied to similar jobs to you in the past also applied. We look into your history you have applied to\n",
      "Job ID 614280 : Claims Support Representative in Jersey City-NJ like 12 others,\n",
      "Job ID 743988 : Office Administrator in Parsippany-NJ like 10 others,\n",
      "Job ID 919171 : Customer Service Rep in Edison-NJ like 10 others in the past.\n",
      "\n",
      "We suggested these jobs because people who applied to similar jobs to you in the past also applied. We look into your history you have applied to\n",
      "Job ID 273293 : Customer Service Representative in Lake Mary-FL like 29 others,\n",
      "Job ID 300053 : Customer Service in Maitland-FL like 23 others,\n",
      "Job ID 627377 : Customer Service/Guest Relations in Winter Park-FL like 21 others in the past.\n",
      "\n",
      "We suggested these jobs because people who applied to similar jobs to you in the past also applied. We look into your history you have applied to\n",
      "Job ID 326664 : Customer Service Representative in Farmingdale-NY like 9 others,\n",
      "Job ID 850643 : Junior Analyst/Operations Specialist in New York-NY like 8 others,\n",
      "Job ID 1051409 : Receptionist in Farmingdale-NY like 7 others in the past.\n",
      "\n",
      "We suggested these jobs because people who applied to similar jobs to you in the past also applied. We look into your history you have applied to\n",
      "Job ID 65413 : Medical Customer Service Representative (CSR) in Irving-TX like 19 others,\n",
      "Job ID 130364 : Call Center Representatives in Arlington-TX like 17 others,\n",
      "Job ID 460224 : Customer Service Representative / Researcher in Frisco-TX like 17 others in the past.\n",
      "\n",
      "We suggested these jobs because people who applied to similar jobs to you in the past also applied. We look into your history you have applied to\n",
      "Job ID 511687 : Front Desk Specialist in Houston-TX like 39 others,\n",
      "Job ID 518070 : Administrative Assistant in Houston-TX like 35 others,\n",
      "Job ID 900299 : Documentation Control Clerk - $11 to $12 in Sugar Land-TX like 33 others in the past.\n",
      "\n",
      "We suggested these jobs because people who applied to similar jobs to you in the past also applied. We look into your history you have applied to\n",
      "Job ID 208360 : Human Resources Assistant in Cincinnati-OH like 12 others,\n",
      "Job ID 797189 : Customer Service Representative in Cincinnati-OH like 11 others,\n",
      "Job ID 919831 : Administrative Assistant/Receptionist in Cincinnati-OH like 9 others in the past.\n",
      "\n",
      "We suggested these jobs because people who applied to similar jobs to you in the past also applied. We look into your history you have applied to\n",
      "Job ID 149354 : Human Resources Assistant in Chicago-IL like 34 others,\n",
      "Job ID 272504 : Front Desk Dental Clinic Receptionist in Chicago-IL like 28 others,\n",
      "Job ID 601021 : Customer Service/Receptionist/Call Center Rep in Chicago-IL like 26 others in the past.\n",
      "\n",
      "We suggested these jobs because people who applied to similar jobs to you in the past also applied. We look into your history you have applied to\n",
      "Job ID 330241 : Residential Social Workers in Detroit-MI like 19 others,\n",
      "Job ID 906232 : Front Desk/Data Entry/Billing in Livonia-MI like 19 others,\n",
      "Job ID 952876 : Point of Sale Clerk in Warren-MI like 18 others in the past.\n",
      "\n",
      "We suggested these jobs because people who applied to similar jobs to you in the past also applied. We look into your history you have applied to\n",
      "Job ID 150202 : Compliance Analyst in New York-NY like 21 others,\n",
      "Job ID 679359 : Business Analyst - Electronic Trading in New York-NY like 21 others,\n",
      "Job ID 850643 : Junior Analyst/Operations Specialist in New York-NY like 18 others in the past.\n"
     ]
    }
   ],
   "source": [
    "def get_explanation_history(neighbors_df_list, neighbor_ratings_df_list, top_n=5):\n",
    "    explanation_user_list = []\n",
    "    for neighbors_df, rating_df in zip(neighbors_df_list, neighbor_ratings_df_list):\n",
    "        center = neighbors_df.iloc[0]\n",
    "        circles = neighbors_df.iloc[1:]\n",
    "        \n",
    "        \n",
    "        temp_history = pandas.pivot_table(rating_df, index='JobID', values='Rating', aggfunc='sum').sort_values(['Rating'], ascending=False)[:top_n]\n",
    "        share_applied_jobs_list = [job_mapping[idx] for idx in temp_history.index.tolist()]\n",
    "        share_people_num_list = temp_history['Rating'].values.tolist()\n",
    "        \n",
    "        jobs_detail_df = jobs_df[jobs_df['JobID'].isin(share_applied_jobs_list)]\n",
    "\n",
    "        \n",
    "        jobs_list = ['Job ID ' + str(data['JobID']) + ' : ' + str(data['Title']) + ' in ' + str(data['City']) + '-' + str(data['State'] + ' like ' + str(num) + ' others') for (idx, data), num in zip(jobs_detail_df.iterrows(), share_people_num_list)]\n",
    "        jobs_text = ',\\n'.join(jobs_list)\n",
    "        \n",
    "        explanation_history_text = 'We suggested these jobs because people who applied to similar jobs to you in the past also applied. We look into your history you have applied to\\n{:} in the past.\\n'.format(jobs_text)\n",
    "        \n",
    "        explanation_user_list.append({'explanation': explanation_history_text, 'data': jobs_list, 'user_profile': get_user_profile_template(center)})\n",
    "        \n",
    "    return explanation_user_list\n",
    "\n",
    "expl_list = get_explanation_history(inst_k_neighbors_list, inst_k_neighbors_rating_list, 3)\n",
    "for df, expl in zip(inst_k_neighbors_list, expl_list):\n",
    "    # display(df.iloc[0])\n",
    "    print(expl['explanation'])"
   ],
   "metadata": {
    "collapsed": false,
    "ExecuteTime": {
     "end_time": "2023-10-09T16:49:58.611979600Z",
     "start_time": "2023-10-09T16:49:57.884234700Z"
    }
   },
   "id": "5bc8a5705b121a44"
  },
  {
   "cell_type": "markdown",
   "source": [
    "### Section 4: Get full individual sample"
   ],
   "metadata": {
    "collapsed": false
   },
   "id": "f46475046ce3646e"
  },
  {
   "cell_type": "code",
   "execution_count": 52,
   "outputs": [
    {
     "name": "stdout",
     "output_type": "stream",
     "text": [
      "Case: 0\n",
      "User profile: Your are user ID 61035 who live in Holbrook, AZ state. You have a High School specialized in General Studies with 9.0 years of experience. You have had 7 jobs in the past, and have never managed  other before.\n",
      "\n",
      "Explanation Type I: We suggested these jobs because you share similarities with people who also applied to these jobs. Out of 49, 15 people share your level of education (High School). Their average year of experience is within your level of 10.87 years (vs yours 9.0 years). You and 34 others also has never managed a team before.\n",
      "\n",
      "Explanation Type II: We suggested these jobs because people who applied to similar jobs to you in the past also applied. We look into your history you have applied to\n",
      "Job ID 741469 : Customer Service Experience Wanted! in Scottsdale-AZ like 21 others,\n",
      "Job ID 790763 : Manufacturing Manager in Lacombe-LA like 19 others,\n",
      "Job ID 1038468 : Customer Service/Support in Phoenix-AZ like 17 others in the past.\n",
      "\n",
      "Case: 1\n",
      "User profile: Your are user ID 16621 who live in Dallas, TX state. You have a Bachelor's specialized in Management with 4.0 years of experience. You have had 2 jobs in the past, and have never managed  other before.\n",
      "\n",
      "Explanation Type I: We suggested these jobs because you share similarities with people who also applied to these jobs. Out of 49, 7 people share your level of education (Bachelor's). Their average year of experience is within your level of 9.76 years (vs yours 4.0 years). You and 38 others also has never managed a team before.\n",
      "\n",
      "Explanation Type II: We suggested these jobs because people who applied to similar jobs to you in the past also applied. We look into your history you have applied to\n",
      "Job ID 460224 : Customer Service Representative / Researcher in Frisco-TX like 31 others,\n",
      "Job ID 741664 : Inbound Customer Service Call Center Reps Needed NOW! in Lewisville-TX like 26 others,\n",
      "Job ID 1036760 : Front Office Administrative Staff in Plano-TX like 24 others in the past.\n",
      "\n",
      "Case: 2\n",
      "User profile: Your are user ID 92802 who live in Atlanta, GA state. You have a None specialized in nan with 7.0 years of experience. You have had 4 jobs in the past, and have never managed  other before.\n",
      "\n",
      "Explanation Type I: We suggested these jobs because you share similarities with people who also applied to these jobs. Out of 49, 13 people share your level of education (None). Their average year of experience is within your level of 9.89 years (vs yours 7.0 years). You and 35 others also has never managed a team before.\n",
      "\n",
      "Explanation Type II: We suggested these jobs because people who applied to similar jobs to you in the past also applied. We look into your history you have applied to\n",
      "Job ID 779460 : Administrative Assistant in Atlanta-GA like 24 others,\n",
      "Job ID 1050736 : Executive Assistant in Atlanta-GA like 23 others,\n",
      "Job ID 1078744 : Receptionist / Administrative Assistant in Atlanta-GA like 22 others in the past.\n",
      "\n",
      "Case: 3\n",
      "User profile: Your are user ID 22358 who live in Riverdale, GA state. You have a High School specialized in Not Applicable with 6.0 years of experience. You have had 2 jobs in the past, and have managed 10 other before.\n",
      "\n",
      "Explanation Type I: We suggested these jobs because you share similarities with people who also applied to these jobs. Out of 49, 14 people share your level of education (High School). Their average year of experience is within your level of 10.24 years (vs yours 6.0 years). You and 12 others also has managed a team before.\n",
      "\n",
      "Explanation Type II: We suggested these jobs because people who applied to similar jobs to you in the past also applied. We look into your history you have applied to\n",
      "Job ID 34975 : Data Entry Clerk/Warehouse Associate in Marietta-GA like 36 others,\n",
      "Job ID 498800 : Call Center Representatives #106 in Kennesaw-GA like 29 others,\n",
      "Job ID 568552 : Customer Service Representative in Roswell-GA like 28 others in the past.\n",
      "\n",
      "Case: 4\n",
      "User profile: Your are user ID 88381 who live in Calumet City, IL state. You have a High School specialized in Not Applicable with 5.0 years of experience. You have had 3 jobs in the past, and have never managed  other before.\n",
      "\n",
      "Explanation Type I: We suggested these jobs because you share similarities with people who also applied to these jobs. Out of 49, 18 people share your level of education (High School). Their average year of experience is within your level of 10.25 years (vs yours 5.0 years). You and 39 others also has never managed a team before.\n",
      "\n",
      "Explanation Type II: We suggested these jobs because people who applied to similar jobs to you in the past also applied. We look into your history you have applied to\n",
      "Job ID 301285 : Shipping Clerk in Chicago-IL like 31 others,\n",
      "Job ID 338167 : Packer / Manufacturing in Villa Park-IL like 29 others,\n",
      "Job ID 512686 : Shipping and Traffic Receptionist ~ $12/hr ~ Never Boring! in Chicago-IL like 27 others in the past.\n",
      "\n",
      "Case: 5\n",
      "User profile: Your are user ID 769 who live in Roselle, IL state. You have a Bachelor's specialized in Radio-Television with 5.0 years of experience. You have had 5 jobs in the past, and have never managed  other before.\n",
      "\n",
      "Explanation Type I: We suggested these jobs because you share similarities with people who also applied to these jobs. Out of 49, 14 people share your level of education (Bachelor's). Their average year of experience is within your level of 10.45 years (vs yours 5.0 years). You and 33 others also has never managed a team before.\n",
      "\n",
      "Explanation Type II: We suggested these jobs because people who applied to similar jobs to you in the past also applied. We look into your history you have applied to\n",
      "Job ID 314425 : Food Processing Production Manager in Chicago-IL like 12 others,\n",
      "Job ID 512686 : Shipping and Traffic Receptionist ~ $12/hr ~ Never Boring! in Chicago-IL like 12 others,\n",
      "Job ID 1032353 : Entry-Level Customer Service Representative in Chicago-IL like 11 others in the past.\n",
      "\n",
      "Case: 6\n",
      "User profile: Your are user ID 45410 who live in Farmington Hills, MI state. You have a None specialized in Business Accounting with 16.0 years of experience. You have had 6 jobs in the past, and have never managed  other before.\n",
      "\n",
      "Explanation Type I: We suggested these jobs because you share similarities with people who also applied to these jobs. Out of 49, 12 people share your level of education (None). Their average year of experience is within your level of 10.87 years (vs yours 16.0 years). You and 27 others also has never managed a team before.\n",
      "\n",
      "Explanation Type II: We suggested these jobs because people who applied to similar jobs to you in the past also applied. We look into your history you have applied to\n",
      "Job ID 637137 : Care Coordinator in Detroit-MI like 16 others,\n",
      "Job ID 906225 : Event Assistant in Farmington Hills-MI like 9 others,\n",
      "Job ID 1051666 : Administrative Assistant in Detroit-MI like 8 others in the past.\n",
      "\n",
      "Case: 7\n",
      "User profile: Your are user ID 70636 who live in Yeadon, PA state. You have a None specialized in nan with 8.0 years of experience. You have had 2 jobs in the past, and have never managed  other before.\n",
      "\n",
      "Explanation Type I: We suggested these jobs because you share similarities with people who also applied to these jobs. Out of 49, 13 people share your level of education (None). Their average year of experience is within your level of 9.85 years (vs yours 8.0 years). You and 36 others also has never managed a team before.\n",
      "\n",
      "Explanation Type II: We suggested these jobs because people who applied to similar jobs to you in the past also applied. We look into your history you have applied to\n",
      "Job ID 168797 : Hospitality / Retail / Customer Service in Philadelphia-PA like 12 others,\n",
      "Job ID 639962 : Bank Teller in Conshohocken-PA like 12 others,\n",
      "Job ID 747499 : Customer Service /Cashier clerks in Philadelphia-PA like 11 others in the past.\n",
      "\n",
      "Case: 8\n",
      "User profile: Your are user ID 111777 who live in South Amboy, NJ state. You have a Bachelor's specialized in History with 14.0 years of experience. You have had 9 jobs in the past, and have never managed  other before.\n",
      "\n",
      "Explanation Type I: We suggested these jobs because you share similarities with people who also applied to these jobs. Out of 49, 13 people share your level of education (Bachelor's). Their average year of experience is within your level of 12.83 years (vs yours 14.0 years). You and 33 others also has never managed a team before.\n",
      "\n",
      "Explanation Type II: We suggested these jobs because people who applied to similar jobs to you in the past also applied. We look into your history you have applied to\n",
      "Job ID 614280 : Claims Support Representative in Jersey City-NJ like 8 others,\n",
      "Job ID 743988 : Office Administrator in Parsippany-NJ like 6 others,\n",
      "Job ID 919171 : Customer Service Rep in Edison-NJ like 5 others in the past.\n",
      "\n",
      "Case: 9\n",
      "User profile: Your are user ID 92802 who live in Atlanta, GA state. You have a None specialized in nan with 7.0 years of experience. You have had 4 jobs in the past, and have never managed  other before.\n",
      "\n",
      "Explanation Type I: We suggested these jobs because you share similarities with people who also applied to these jobs. Out of 49, 14 people share your level of education (None). Their average year of experience is within your level of 13.98 years (vs yours 7.0 years). You and 30 others also has never managed a team before.\n",
      "\n",
      "Explanation Type II: We suggested these jobs because people who applied to similar jobs to you in the past also applied. We look into your history you have applied to\n",
      "Job ID 874230 : Distribution Center Supervisor in Atlanta-GA like 13 others,\n",
      "Job ID 1050736 : Executive Assistant in Atlanta-GA like 13 others,\n",
      "Job ID 1078744 : Receptionist / Administrative Assistant in Atlanta-GA like 10 others in the past.\n",
      "\n",
      "Case: 10\n",
      "User profile: Your are user ID 16621 who live in Dallas, TX state. You have a Bachelor's specialized in Management with 4.0 years of experience. You have had 2 jobs in the past, and have never managed  other before.\n",
      "\n",
      "Explanation Type I: We suggested these jobs because you share similarities with people who also applied to these jobs. Out of 49, 10 people share your level of education (Bachelor's). Their average year of experience is within your level of 9.94 years (vs yours 4.0 years). You and 40 others also has never managed a team before.\n",
      "\n",
      "Explanation Type II: We suggested these jobs because people who applied to similar jobs to you in the past also applied. We look into your history you have applied to\n",
      "Job ID 130364 : Call Center Representatives in Arlington-TX like 18 others,\n",
      "Job ID 741664 : Inbound Customer Service Call Center Reps Needed NOW! in Lewisville-TX like 16 others,\n",
      "Job ID 1024499 : Service Cashier in Arlington-TX like 16 others in the past.\n",
      "\n",
      "Case: 11\n",
      "User profile: Your are user ID 16621 who live in Dallas, TX state. You have a Bachelor's specialized in Management with 4.0 years of experience. You have had 2 jobs in the past, and have never managed  other before.\n",
      "\n",
      "Explanation Type I: We suggested these jobs because you share similarities with people who also applied to these jobs. Out of 49, 10 people share your level of education (Bachelor's). Their average year of experience is within your level of 10.00 years (vs yours 4.0 years). You and 39 others also has never managed a team before.\n",
      "\n",
      "Explanation Type II: We suggested these jobs because people who applied to similar jobs to you in the past also applied. We look into your history you have applied to\n",
      "Job ID 65413 : Medical Customer Service Representative (CSR) in Irving-TX like 19 others,\n",
      "Job ID 130364 : Call Center Representatives in Arlington-TX like 17 others,\n",
      "Job ID 1024499 : Service Cashier in Arlington-TX like 16 others in the past.\n",
      "\n",
      "Case: 12\n",
      "User profile: Your are user ID 23502 who live in Wilmington, DE state. You have a Associate's specialized in Business Administration with nan years of experience. You have had 0 jobs in the past, and have never managed  other before.\n",
      "\n",
      "Explanation Type I: We suggested these jobs because you share similarities with people who also applied to these jobs. Out of 49, 3 people share your level of education (Associate's). Their average year of experience is within your level of 10.77 years (vs yours nan years). You and 38 others also has never managed a team before.\n",
      "\n",
      "Explanation Type II: We suggested these jobs because people who applied to similar jobs to you in the past also applied. We look into your history you have applied to\n",
      "Job ID 195916 : Customer Service Representative in Wilmington-DE like 19 others,\n",
      "Job ID 673082 : Administrative/Personal Assistant in Philadelphia-PA like 18 others,\n",
      "Job ID 780304 : Customer Care Specialist – Inbound in Cherry Hill-NJ like 17 others in the past.\n",
      "\n",
      "Case: 13\n",
      "User profile: Your are user ID 8460 who live in Rapid City, SD state. You have a Master's specialized in Engineering Management with 6.0 years of experience. You have had 3 jobs in the past, and have managed 5 other before.\n",
      "\n",
      "Explanation Type I: We suggested these jobs because you share similarities with people who also applied to these jobs. Out of 49, 3 people share your level of education (Master's). Their average year of experience is within your level of 9.62 years (vs yours 6.0 years). You and 11 others also has managed a team before.\n",
      "\n",
      "Explanation Type II: We suggested these jobs because people who applied to similar jobs to you in the past also applied. We look into your history you have applied to\n",
      "Job ID 195916 : Customer Service Representative in Wilmington-DE like 19 others,\n",
      "Job ID 451139 : Call Center Representative in Newtown Square-PA like 19 others,\n",
      "Job ID 681366 : *IMMEDIATE HIRE/ *Paid Training- Entry Level in Philadelphia-PA like 19 others in the past.\n",
      "\n",
      "Case: 14\n",
      "User profile: Your are user ID 4972 who live in Brazoria, TX state. You have a High School specialized in Not Applicable with 3.0 years of experience. You have had 3 jobs in the past, and have never managed  other before.\n",
      "\n",
      "Explanation Type I: We suggested these jobs because you share similarities with people who also applied to these jobs. Out of 49, 15 people share your level of education (High School). Their average year of experience is within your level of 11.13 years (vs yours 3.0 years). You and 32 others also has never managed a team before.\n",
      "\n",
      "Explanation Type II: We suggested these jobs because people who applied to similar jobs to you in the past also applied. We look into your history you have applied to\n",
      "Job ID 187358 : Clerical/office positions in Dallas-TX like 10 others,\n",
      "Job ID 246597 : CLERICAL in Fort Worth-TX like 8 others,\n",
      "Job ID 530713 : Customer Service Representative in Fort Worth-TX like 7 others in the past.\n",
      "\n",
      "Case: 15\n",
      "User profile: Your are user ID 16621 who live in Dallas, TX state. You have a Bachelor's specialized in Management with 4.0 years of experience. You have had 2 jobs in the past, and have never managed  other before.\n",
      "\n",
      "Explanation Type I: We suggested these jobs because you share similarities with people who also applied to these jobs. Out of 49, 7 people share your level of education (Bachelor's). Their average year of experience is within your level of 7.15 years (vs yours 4.0 years). You and 39 others also has never managed a team before.\n",
      "\n",
      "Explanation Type II: We suggested these jobs because people who applied to similar jobs to you in the past also applied. We look into your history you have applied to\n",
      "Job ID 98665 : Customer Service Representative / Data Entry Positions in Dallas-TX like 37 others,\n",
      "Job ID 130364 : Call Center Representatives in Arlington-TX like 36 others,\n",
      "Job ID 741664 : Inbound Customer Service Call Center Reps Needed NOW! in Lewisville-TX like 33 others in the past.\n",
      "\n",
      "Case: 16\n",
      "User profile: Your are user ID 67774 who live in Valrico, FL state. You have a None specialized in nan with 3.0 years of experience. You have had 2 jobs in the past, and have never managed  other before.\n",
      "\n",
      "Explanation Type I: We suggested these jobs because you share similarities with people who also applied to these jobs. Out of 49, 12 people share your level of education (None). Their average year of experience is within your level of 9.46 years (vs yours 3.0 years). You and 28 others also has never managed a team before.\n",
      "\n",
      "Explanation Type II: We suggested these jobs because people who applied to similar jobs to you in the past also applied. We look into your history you have applied to\n",
      "Job ID 300018 : Front Desk Oral Surgery Office in Orlando-FL like 5 others,\n",
      "Job ID 300053 : Customer Service in Maitland-FL like 5 others,\n",
      "Job ID 600045 : CUSTOMER SERVICE in Orlando-FL like 5 others in the past.\n",
      "\n",
      "Case: 17\n",
      "User profile: Your are user ID 769 who live in Roselle, IL state. You have a Bachelor's specialized in Radio-Television with 5.0 years of experience. You have had 5 jobs in the past, and have never managed  other before.\n",
      "\n",
      "Explanation Type I: We suggested these jobs because you share similarities with people who also applied to these jobs. Out of 49, 14 people share your level of education (Bachelor's). Their average year of experience is within your level of 11.06 years (vs yours 5.0 years). You and 33 others also has never managed a team before.\n",
      "\n",
      "Explanation Type II: We suggested these jobs because people who applied to similar jobs to you in the past also applied. We look into your history you have applied to\n",
      "Job ID 512686 : Shipping and Traffic Receptionist ~ $12/hr ~ Never Boring! in Chicago-IL like 11 others,\n",
      "Job ID 601021 : Customer Service/Receptionist/Call Center Rep in Chicago-IL like 10 others,\n",
      "Job ID 959911 : Customer Care / Collections Specialist in Calumet City-IL like 9 others in the past.\n",
      "\n",
      "Case: 18\n",
      "User profile: Your are user ID 96345 who live in Plantation, FL state. You have a None specialized in nan with 6.0 years of experience. You have had 4 jobs in the past, and have never managed  other before.\n",
      "\n",
      "Explanation Type I: We suggested these jobs because you share similarities with people who also applied to these jobs. Out of 49, 13 people share your level of education (None). Their average year of experience is within your level of 9.70 years (vs yours 6.0 years). You and 31 others also has never managed a team before.\n",
      "\n",
      "Explanation Type II: We suggested these jobs because people who applied to similar jobs to you in the past also applied. We look into your history you have applied to\n",
      "Job ID 874636 : Front Desk Receptionist in Pompano Beach-FL like 29 others,\n",
      "Job ID 900368 : RECEPTIONIST in Fort Lauderdale-FL like 28 others,\n",
      "Job ID 1014185 : Customer Service Representatives in Sunrise-FL like 25 others in the past.\n",
      "\n",
      "Case: 19\n",
      "User profile: Your are user ID 30776 who live in Madison Heights, MI state. You have a Bachelor's specialized in Human Services with 13.0 years of experience. You have had 4 jobs in the past, and have never managed  other before.\n",
      "\n",
      "Explanation Type I: We suggested these jobs because you share similarities with people who also applied to these jobs. Out of 49, 15 people share your level of education (Bachelor's). Their average year of experience is within your level of 11.67 years (vs yours 13.0 years). You and 35 others also has never managed a team before.\n",
      "\n",
      "Explanation Type II: We suggested these jobs because people who applied to similar jobs to you in the past also applied. We look into your history you have applied to\n",
      "Job ID 330241 : Residential Social Workers in Detroit-MI like 10 others,\n",
      "Job ID 952876 : Point of Sale Clerk in Warren-MI like 9 others,\n",
      "Job ID 1051666 : Administrative Assistant in Detroit-MI like 9 others in the past.\n",
      "\n",
      "Case: 20\n",
      "User profile: Your are user ID 36607 who live in Chicago, IL state. You have a High School specialized in Not Applicable with 2.0 years of experience. You have had 1 jobs in the past, and have never managed  other before.\n",
      "\n",
      "Explanation Type I: We suggested these jobs because you share similarities with people who also applied to these jobs. Out of 49, 9 people share your level of education (High School). Their average year of experience is within your level of 9.34 years (vs yours 2.0 years). You and 39 others also has never managed a team before.\n",
      "\n",
      "Explanation Type II: We suggested these jobs because people who applied to similar jobs to you in the past also applied. We look into your history you have applied to\n",
      "Job ID 338167 : Packer / Manufacturing in Villa Park-IL like 9 others,\n",
      "Job ID 912466 : CONSUMER CARE & COMMUNICATIONS MANAGER in Chicago-IL like 8 others,\n",
      "Job ID 1045358 : Customer Service Representative in Chicago-IL like 8 others in the past.\n",
      "\n",
      "Case: 21\n",
      "User profile: Your are user ID 16621 who live in Dallas, TX state. You have a Bachelor's specialized in Management with 4.0 years of experience. You have had 2 jobs in the past, and have never managed  other before.\n",
      "\n",
      "Explanation Type I: We suggested these jobs because you share similarities with people who also applied to these jobs. Out of 49, 6 people share your level of education (Bachelor's). Their average year of experience is within your level of 6.87 years (vs yours 4.0 years). You and 38 others also has never managed a team before.\n",
      "\n",
      "Explanation Type II: We suggested these jobs because people who applied to similar jobs to you in the past also applied. We look into your history you have applied to\n",
      "Job ID 98665 : Customer Service Representative / Data Entry Positions in Dallas-TX like 35 others,\n",
      "Job ID 187358 : Clerical/office positions in Dallas-TX like 34 others,\n",
      "Job ID 276033 : Front Office Scheduler/Insurance Verification in Dallas-TX like 33 others in the past.\n",
      "\n",
      "Case: 22\n",
      "User profile: Your are user ID 141217 who live in Plainfield, NJ state. You have a Associate's specialized in Management with 10.0 years of experience. You have had 7 jobs in the past, and have never managed  other before.\n",
      "\n",
      "Explanation Type I: We suggested these jobs because you share similarities with people who also applied to these jobs. Out of 49, 8 people share your level of education (Associate's). Their average year of experience is within your level of 13.21 years (vs yours 10.0 years). You and 37 others also has never managed a team before.\n",
      "\n",
      "Explanation Type II: We suggested these jobs because people who applied to similar jobs to you in the past also applied. We look into your history you have applied to\n",
      "Job ID 192025 : Receptionist in Westfield-NJ like 11 others,\n",
      "Job ID 743988 : Office Administrator in Parsippany-NJ like 8 others,\n",
      "Job ID 919171 : Customer Service Rep in Edison-NJ like 6 others in the past.\n",
      "\n",
      "Case: 23\n",
      "User profile: Your are user ID 25499 who live in La Plata, MD state. You have a Bachelor's specialized in International Studies with 4.0 years of experience. You have had 4 jobs in the past, and have never managed  other before.\n",
      "\n",
      "Explanation Type I: We suggested these jobs because you share similarities with people who also applied to these jobs. Out of 49, 9 people share your level of education (Bachelor's). Their average year of experience is within your level of 8.30 years (vs yours 4.0 years). You and 35 others also has never managed a team before.\n",
      "\n",
      "Explanation Type II: We suggested these jobs because people who applied to similar jobs to you in the past also applied. We look into your history you have applied to\n",
      "Job ID 72315 : Administrative Assistant in Washington-DC like 24 others,\n",
      "Job ID 771241 : Administrative Assistant in Washington-DC like 23 others,\n",
      "Job ID 911624 : Administrative Assistant in Washington-DC like 22 others in the past.\n",
      "\n",
      "Case: 24\n",
      "User profile: Your are user ID 36668 who live in Goshen, OH state. You have a High School specialized in Not Applicable with 12.0 years of experience. You have had 4 jobs in the past, and have managed 15 other before.\n",
      "\n",
      "Explanation Type I: We suggested these jobs because you share similarities with people who also applied to these jobs. Out of 49, 15 people share your level of education (High School). Their average year of experience is within your level of 10.28 years (vs yours 12.0 years). You and 15 others also has managed a team before.\n",
      "\n",
      "Explanation Type II: We suggested these jobs because people who applied to similar jobs to you in the past also applied. We look into your history you have applied to\n",
      "Job ID 208360 : Human Resources Assistant in Cincinnati-OH like 5 others,\n",
      "Job ID 797189 : Customer Service Representative in Cincinnati-OH like 5 others,\n",
      "Job ID 919831 : Administrative Assistant/Receptionist in Cincinnati-OH like 5 others in the past.\n",
      "\n",
      "Case: 25\n",
      "User profile: Your are user ID 25499 who live in La Plata, MD state. You have a Bachelor's specialized in International Studies with 4.0 years of experience. You have had 4 jobs in the past, and have never managed  other before.\n",
      "\n",
      "Explanation Type I: We suggested these jobs because you share similarities with people who also applied to these jobs. Out of 49, 10 people share your level of education (Bachelor's). Their average year of experience is within your level of 9.65 years (vs yours 4.0 years). You and 32 others also has never managed a team before.\n",
      "\n",
      "Explanation Type II: We suggested these jobs because people who applied to similar jobs to you in the past also applied. We look into your history you have applied to\n",
      "Job ID 72315 : Administrative Assistant in Washington-DC like 17 others,\n",
      "Job ID 625180 : Administratvie Assistants in Washington-DC like 16 others,\n",
      "Job ID 911624 : Administrative Assistant in Washington-DC like 16 others in the past.\n",
      "\n",
      "Case: 26\n",
      "User profile: Your are user ID 59309 who live in Piedmont, SC state. You have a None specialized in Not Applicable with 5.0 years of experience. You have had 5 jobs in the past, and have never managed  other before.\n",
      "\n",
      "Explanation Type I: We suggested these jobs because you share similarities with people who also applied to these jobs. Out of 49, 9 people share your level of education (None). Their average year of experience is within your level of 10.11 years (vs yours 5.0 years). You and 26 others also has never managed a team before.\n",
      "\n",
      "Explanation Type II: We suggested these jobs because people who applied to similar jobs to you in the past also applied. We look into your history you have applied to\n",
      "Job ID 614162 : Teller in Charlotte-NC like 6 others,\n",
      "Job ID 1057576 : Administrative Assistant II in Fort Mill-SC like 6 others,\n",
      "Job ID 1107262 : Customer Service Representative in Charlotte-NC like 6 others in the past.\n",
      "\n",
      "Case: 27\n",
      "User profile: Your are user ID 34945 who live in Houston, TX state. You have a High School specialized in Not Applicable with nan years of experience. You have had 0 jobs in the past, and have never managed  other before.\n",
      "\n",
      "Explanation Type I: We suggested these jobs because you share similarities with people who also applied to these jobs. Out of 49, 11 people share your level of education (High School). Their average year of experience is within your level of 9.32 years (vs yours nan years). You and 38 others also has never managed a team before.\n",
      "\n",
      "Explanation Type II: We suggested these jobs because people who applied to similar jobs to you in the past also applied. We look into your history you have applied to\n",
      "Job ID 518069 : Administrative Assistant in Houston-TX like 33 others,\n",
      "Job ID 518070 : Administrative Assistant in Houston-TX like 33 others,\n",
      "Job ID 565974 : Administrative Assistant / Secretary / Office Worker in Houston-TX like 32 others in the past.\n",
      "\n",
      "Case: 28\n",
      "User profile: Your are user ID 80137 who live in Indianapolis, IN state. You have a High School specialized in Not Applicable with 2.0 years of experience. You have had 2 jobs in the past, and have never managed  other before.\n",
      "\n",
      "Explanation Type I: We suggested these jobs because you share similarities with people who also applied to these jobs. Out of 49, 21 people share your level of education (High School). Their average year of experience is within your level of 9.36 years (vs yours 2.0 years). You and 36 others also has never managed a team before.\n",
      "\n",
      "Explanation Type II: We suggested these jobs because people who applied to similar jobs to you in the past also applied. We look into your history you have applied to\n",
      "Job ID 474324 : Cashier-Hiring Event in Indianapolis-IN like 14 others,\n",
      "Job ID 582756 : Customer Care Representative in Fishers-IN like 13 others,\n",
      "Job ID 874581 : Patient Service Representative in Indianapolis-IN like 13 others in the past.\n",
      "\n",
      "Case: 29\n",
      "User profile: Your are user ID 6246 who live in Stone Mountain, GA state. You have a Bachelor's specialized in Political Science with 5.0 years of experience. You have had 3 jobs in the past, and have never managed  other before.\n",
      "\n",
      "Explanation Type I: We suggested these jobs because you share similarities with people who also applied to these jobs. Out of 49, 14 people share your level of education (Bachelor's). Their average year of experience is within your level of 10.46 years (vs yours 5.0 years). You and 34 others also has never managed a team before.\n",
      "\n",
      "Explanation Type II: We suggested these jobs because people who applied to similar jobs to you in the past also applied. We look into your history you have applied to\n",
      "Job ID 34975 : Data Entry Clerk/Warehouse Associate in Marietta-GA like 36 others,\n",
      "Job ID 498800 : Call Center Representatives #106 in Kennesaw-GA like 34 others,\n",
      "Job ID 1078744 : Receptionist / Administrative Assistant in Atlanta-GA like 33 others in the past.\n",
      "\n",
      "Case: 30\n",
      "User profile: Your are user ID 41346 who live in Chicago, IL state. You have a Bachelor's specialized in nan with 2.0 years of experience. You have had 3 jobs in the past, and have never managed  other before.\n",
      "\n",
      "Explanation Type I: We suggested these jobs because you share similarities with people who also applied to these jobs. Out of 49, 11 people share your level of education (Bachelor's). Their average year of experience is within your level of 9.76 years (vs yours 2.0 years). You and 32 others also has never managed a team before.\n",
      "\n",
      "Explanation Type II: We suggested these jobs because people who applied to similar jobs to you in the past also applied. We look into your history you have applied to\n",
      "Job ID 314425 : Food Processing Production Manager in Chicago-IL like 36 others,\n",
      "Job ID 584241 : Temporary Office Work in Chicago-IL like 36 others,\n",
      "Job ID 601021 : Customer Service/Receptionist/Call Center Rep in Chicago-IL like 32 others in the past.\n",
      "\n",
      "Case: 31\n",
      "User profile: Your are user ID 4359 who live in Valrico, FL state. You have a High School specialized in Not Applicable with 2.0 years of experience. You have had 3 jobs in the past, and have never managed  other before.\n",
      "\n",
      "Explanation Type I: We suggested these jobs because you share similarities with people who also applied to these jobs. Out of 49, 14 people share your level of education (High School). Their average year of experience is within your level of 10.13 years (vs yours 2.0 years). You and 31 others also has never managed a team before.\n",
      "\n",
      "Explanation Type II: We suggested these jobs because people who applied to similar jobs to you in the past also applied. We look into your history you have applied to\n",
      "Job ID 820396 : SHIPPING AND RECEIVING in Hollywood-FL like 8 others,\n",
      "Job ID 900339 : Restaurant Staff in Davie-FL like 7 others,\n",
      "Job ID 1038362 : Stock Associate in Sunrise-FL like 6 others in the past.\n",
      "\n",
      "Case: 32\n",
      "User profile: Your are user ID 2652 who live in Glendale, CA state. You have a High School specialized in Not Applicable with 21.0 years of experience. You have had 3 jobs in the past, and have managed 3 other before.\n",
      "\n",
      "Explanation Type I: We suggested these jobs because you share similarities with people who also applied to these jobs. Out of 49, 9 people share your level of education (High School). Their average year of experience is within your level of 9.98 years (vs yours 21.0 years). You and 16 others also has managed a team before.\n",
      "\n",
      "Explanation Type II: We suggested these jobs because people who applied to similar jobs to you in the past also applied. We look into your history you have applied to\n",
      "Job ID 208090 : Administrative Assistant in Cerritos-CA like 23 others,\n",
      "Job ID 515420 : Clerical / General Office Administration in Los Angeles-CA like 23 others,\n",
      "Job ID 562794 : Call Center Team Lead -- Email in El Segundo-CA like 21 others in the past.\n",
      "\n",
      "Case: 33\n",
      "User profile: Your are user ID 4972 who live in Brazoria, TX state. You have a High School specialized in Not Applicable with 3.0 years of experience. You have had 3 jobs in the past, and have never managed  other before.\n",
      "\n",
      "Explanation Type I: We suggested these jobs because you share similarities with people who also applied to these jobs. Out of 49, 13 people share your level of education (High School). Their average year of experience is within your level of 10.89 years (vs yours 3.0 years). You and 33 others also has never managed a team before.\n",
      "\n",
      "Explanation Type II: We suggested these jobs because people who applied to similar jobs to you in the past also applied. We look into your history you have applied to\n",
      "Job ID 246487 : Receptionist/Admin Asst. in Arlington-TX like 8 others,\n",
      "Job ID 530713 : Customer Service Representative in Fort Worth-TX like 7 others,\n",
      "Job ID 771770 : Service Dispatcher/Booker in Arlington-TX like 7 others in the past.\n",
      "\n",
      "Case: 34\n",
      "User profile: Your are user ID 59309 who live in Piedmont, SC state. You have a None specialized in Not Applicable with 5.0 years of experience. You have had 5 jobs in the past, and have never managed  other before.\n",
      "\n",
      "Explanation Type I: We suggested these jobs because you share similarities with people who also applied to these jobs. Out of 49, 7 people share your level of education (None). Their average year of experience is within your level of 11.07 years (vs yours 5.0 years). You and 27 others also has never managed a team before.\n",
      "\n",
      "Explanation Type II: We suggested these jobs because people who applied to similar jobs to you in the past also applied. We look into your history you have applied to\n",
      "Job ID 614162 : Teller in Charlotte-NC like 4 others,\n",
      "Job ID 1057576 : Administrative Assistant II in Fort Mill-SC like 4 others,\n",
      "Job ID 1107262 : Customer Service Representative in Charlotte-NC like 4 others in the past.\n",
      "\n",
      "Case: 35\n",
      "User profile: Your are user ID 1697 who live in Justice, IL state. You have a High School specialized in Not Applicable with 6.0 years of experience. You have had 4 jobs in the past, and have never managed  other before.\n",
      "\n",
      "Explanation Type I: We suggested these jobs because you share similarities with people who also applied to these jobs. Out of 49, 10 people share your level of education (High School). Their average year of experience is within your level of 10.35 years (vs yours 6.0 years). You and 32 others also has never managed a team before.\n",
      "\n",
      "Explanation Type II: We suggested these jobs because people who applied to similar jobs to you in the past also applied. We look into your history you have applied to\n",
      "Job ID 23890 : Data Entry Operator I in Chicago-IL like 33 others,\n",
      "Job ID 314425 : Food Processing Production Manager in Chicago-IL like 32 others,\n",
      "Job ID 961415 : Customer Service in Bedford Park-IL like 28 others in the past.\n",
      "\n",
      "Case: 36\n",
      "User profile: Your are user ID 13270 who live in Salisbury, NC state. You have a Associate's specialized in Accounting with 4.0 years of experience. You have had 1 jobs in the past, and have never managed  other before.\n",
      "\n",
      "Explanation Type I: We suggested these jobs because you share similarities with people who also applied to these jobs. Out of 49, 6 people share your level of education (Associate's). Their average year of experience is within your level of 9.74 years (vs yours 4.0 years). You and 32 others also has never managed a team before.\n",
      "\n",
      "Explanation Type II: We suggested these jobs because people who applied to similar jobs to you in the past also applied. We look into your history you have applied to\n",
      "Job ID 496109 : Office Services Assistant in Charlotte-NC like 24 others,\n",
      "Job ID 817379 : Dispatcher & Route Coordinator in Charlotte-NC like 23 others,\n",
      "Job ID 817385 : Receptionist in Charlotte-NC like 19 others in the past.\n",
      "\n",
      "Case: 37\n",
      "User profile: Your are user ID 49513 who live in Fontana, CA state. You have a None specialized in nan with 4.0 years of experience. You have had 3 jobs in the past, and have never managed  other before.\n",
      "\n",
      "Explanation Type I: We suggested these jobs because you share similarities with people who also applied to these jobs. Out of 49, 16 people share your level of education (None). Their average year of experience is within your level of 11.04 years (vs yours 4.0 years). You and 35 others also has never managed a team before.\n",
      "\n",
      "Explanation Type II: We suggested these jobs because people who applied to similar jobs to you in the past also applied. We look into your history you have applied to\n",
      "Job ID 208090 : Administrative Assistant in Cerritos-CA like 26 others,\n",
      "Job ID 224674 : Office Assistant in Irvine-CA like 19 others,\n",
      "Job ID 567542 : Office assistant/Receptionist in Corona-CA like 19 others in the past.\n",
      "\n",
      "Case: 38\n",
      "User profile: Your are user ID 57699 who live in Arden, NC state. You have a High School specialized in Military & Architecture Pathway with 7.0 years of experience. You have had 2 jobs in the past, and have managed 2 other before.\n",
      "\n",
      "Explanation Type I: We suggested these jobs because you share similarities with people who also applied to these jobs. Out of 49, 6 people share your level of education (High School). Their average year of experience is within your level of 10.24 years (vs yours 7.0 years). You and 14 others also has managed a team before.\n",
      "\n",
      "Explanation Type II: We suggested these jobs because people who applied to similar jobs to you in the past also applied. We look into your history you have applied to\n",
      "Job ID 158824 : Guest Services Representative / Front Desk / Customer Service in Raleigh-NC like 23 others,\n",
      "Job ID 845712 : Administrative Assistant in Raleigh-NC like 23 others,\n",
      "Job ID 1062331 : Administrative Assistant in Durham-NC like 21 others in the past.\n",
      "\n",
      "Case: 39\n",
      "User profile: Your are user ID 554 who live in Altamonte Springs, FL state. You have a Bachelor's specialized in Legal Studies with 4.0 years of experience. You have had 2 jobs in the past, and have never managed  other before.\n",
      "\n",
      "Explanation Type I: We suggested these jobs because you share similarities with people who also applied to these jobs. Out of 49, 16 people share your level of education (Bachelor's). Their average year of experience is within your level of 8.90 years (vs yours 4.0 years). You and 32 others also has never managed a team before.\n",
      "\n",
      "Explanation Type II: We suggested these jobs because people who applied to similar jobs to you in the past also applied. We look into your history you have applied to\n",
      "Job ID 273293 : Customer Service Representative in Lake Mary-FL like 9 others,\n",
      "Job ID 300053 : Customer Service in Maitland-FL like 8 others,\n",
      "Job ID 600045 : CUSTOMER SERVICE in Orlando-FL like 7 others in the past.\n",
      "\n",
      "Case: 40\n",
      "User profile: Your are user ID 96193 who live in Hollis, NY state. You have a Bachelor's specialized in Management and Finance with 5.0 years of experience. You have had 2 jobs in the past, and have never managed  other before.\n",
      "\n",
      "Explanation Type I: We suggested these jobs because you share similarities with people who also applied to these jobs. Out of 49, 16 people share your level of education (Bachelor's). Their average year of experience is within your level of 9.68 years (vs yours 5.0 years). You and 38 others also has never managed a team before.\n",
      "\n",
      "Explanation Type II: We suggested these jobs because people who applied to similar jobs to you in the past also applied. We look into your history you have applied to\n",
      "Job ID 297726 : Help Desk Temp $20-25 an hour in New York-NY like 12 others,\n",
      "Job ID 326664 : Customer Service Representative in Farmingdale-NY like 8 others,\n",
      "Job ID 518270 : Receptionist in Bayside-NY like 7 others in the past.\n",
      "\n",
      "Case: 41\n",
      "User profile: Your are user ID 554 who live in Altamonte Springs, FL state. You have a Bachelor's specialized in Legal Studies with 4.0 years of experience. You have had 2 jobs in the past, and have never managed  other before.\n",
      "\n",
      "Explanation Type I: We suggested these jobs because you share similarities with people who also applied to these jobs. Out of 49, 11 people share your level of education (Bachelor's). Their average year of experience is within your level of 8.48 years (vs yours 4.0 years). You and 33 others also has never managed a team before.\n",
      "\n",
      "Explanation Type II: We suggested these jobs because people who applied to similar jobs to you in the past also applied. We look into your history you have applied to\n",
      "Job ID 196603 : Customer service & sales - Full Time in Orlando-FL like 30 others,\n",
      "Job ID 300053 : Customer Service in Maitland-FL like 25 others,\n",
      "Job ID 627377 : Customer Service/Guest Relations in Winter Park-FL like 25 others in the past.\n",
      "\n",
      "Case: 42\n",
      "User profile: Your are user ID 58693 who live in Waretown, NJ state. You have a Master's specialized in Organizational Leadership with 8.0 years of experience. You have had 3 jobs in the past, and have never managed  other before.\n",
      "\n",
      "Explanation Type I: We suggested these jobs because you share similarities with people who also applied to these jobs. Out of 49, 4 people share your level of education (Master's). Their average year of experience is within your level of 13.53 years (vs yours 8.0 years). You and 35 others also has never managed a team before.\n",
      "\n",
      "Explanation Type II: We suggested these jobs because people who applied to similar jobs to you in the past also applied. We look into your history you have applied to\n",
      "Job ID 614280 : Claims Support Representative in Jersey City-NJ like 12 others,\n",
      "Job ID 743988 : Office Administrator in Parsippany-NJ like 10 others,\n",
      "Job ID 919171 : Customer Service Rep in Edison-NJ like 10 others in the past.\n",
      "\n",
      "Case: 43\n",
      "User profile: Your are user ID 554 who live in Altamonte Springs, FL state. You have a Bachelor's specialized in Legal Studies with 4.0 years of experience. You have had 2 jobs in the past, and have never managed  other before.\n",
      "\n",
      "Explanation Type I: We suggested these jobs because you share similarities with people who also applied to these jobs. Out of 49, 12 people share your level of education (Bachelor's). Their average year of experience is within your level of 10.04 years (vs yours 4.0 years). You and 29 others also has never managed a team before.\n",
      "\n",
      "Explanation Type II: We suggested these jobs because people who applied to similar jobs to you in the past also applied. We look into your history you have applied to\n",
      "Job ID 273293 : Customer Service Representative in Lake Mary-FL like 29 others,\n",
      "Job ID 300053 : Customer Service in Maitland-FL like 23 others,\n",
      "Job ID 627377 : Customer Service/Guest Relations in Winter Park-FL like 21 others in the past.\n",
      "\n",
      "Case: 44\n",
      "User profile: Your are user ID 96193 who live in Hollis, NY state. You have a Bachelor's specialized in Management and Finance with 5.0 years of experience. You have had 2 jobs in the past, and have never managed  other before.\n",
      "\n",
      "Explanation Type I: We suggested these jobs because you share similarities with people who also applied to these jobs. Out of 49, 17 people share your level of education (Bachelor's). Their average year of experience is within your level of 11.79 years (vs yours 5.0 years). You and 41 others also has never managed a team before.\n",
      "\n",
      "Explanation Type II: We suggested these jobs because people who applied to similar jobs to you in the past also applied. We look into your history you have applied to\n",
      "Job ID 326664 : Customer Service Representative in Farmingdale-NY like 9 others,\n",
      "Job ID 850643 : Junior Analyst/Operations Specialist in New York-NY like 8 others,\n",
      "Job ID 1051409 : Receptionist in Farmingdale-NY like 7 others in the past.\n",
      "\n",
      "Case: 45\n",
      "User profile: Your are user ID 16621 who live in Dallas, TX state. You have a Bachelor's specialized in Management with 4.0 years of experience. You have had 2 jobs in the past, and have never managed  other before.\n",
      "\n",
      "Explanation Type I: We suggested these jobs because you share similarities with people who also applied to these jobs. Out of 49, 10 people share your level of education (Bachelor's). Their average year of experience is within your level of 9.96 years (vs yours 4.0 years). You and 39 others also has never managed a team before.\n",
      "\n",
      "Explanation Type II: We suggested these jobs because people who applied to similar jobs to you in the past also applied. We look into your history you have applied to\n",
      "Job ID 65413 : Medical Customer Service Representative (CSR) in Irving-TX like 19 others,\n",
      "Job ID 130364 : Call Center Representatives in Arlington-TX like 17 others,\n",
      "Job ID 460224 : Customer Service Representative / Researcher in Frisco-TX like 17 others in the past.\n",
      "\n",
      "Case: 46\n",
      "User profile: Your are user ID 34945 who live in Houston, TX state. You have a High School specialized in Not Applicable with nan years of experience. You have had 0 jobs in the past, and have never managed  other before.\n",
      "\n",
      "Explanation Type I: We suggested these jobs because you share similarities with people who also applied to these jobs. Out of 49, 11 people share your level of education (High School). Their average year of experience is within your level of 8.96 years (vs yours nan years). You and 35 others also has never managed a team before.\n",
      "\n",
      "Explanation Type II: We suggested these jobs because people who applied to similar jobs to you in the past also applied. We look into your history you have applied to\n",
      "Job ID 511687 : Front Desk Specialist in Houston-TX like 39 others,\n",
      "Job ID 518070 : Administrative Assistant in Houston-TX like 35 others,\n",
      "Job ID 900299 : Documentation Control Clerk - $11 to $12 in Sugar Land-TX like 33 others in the past.\n",
      "\n",
      "Case: 47\n",
      "User profile: Your are user ID 36668 who live in Goshen, OH state. You have a High School specialized in Not Applicable with 12.0 years of experience. You have had 4 jobs in the past, and have managed 15 other before.\n",
      "\n",
      "Explanation Type I: We suggested these jobs because you share similarities with people who also applied to these jobs. Out of 49, 13 people share your level of education (High School). Their average year of experience is within your level of 11.25 years (vs yours 12.0 years). You and 13 others also has managed a team before.\n",
      "\n",
      "Explanation Type II: We suggested these jobs because people who applied to similar jobs to you in the past also applied. We look into your history you have applied to\n",
      "Job ID 208360 : Human Resources Assistant in Cincinnati-OH like 12 others,\n",
      "Job ID 797189 : Customer Service Representative in Cincinnati-OH like 11 others,\n",
      "Job ID 919831 : Administrative Assistant/Receptionist in Cincinnati-OH like 9 others in the past.\n",
      "\n",
      "Case: 48\n",
      "User profile: Your are user ID 769 who live in Roselle, IL state. You have a Bachelor's specialized in Radio-Television with 5.0 years of experience. You have had 5 jobs in the past, and have never managed  other before.\n",
      "\n",
      "Explanation Type I: We suggested these jobs because you share similarities with people who also applied to these jobs. Out of 49, 13 people share your level of education (Bachelor's). Their average year of experience is within your level of 9.66 years (vs yours 5.0 years). You and 29 others also has never managed a team before.\n",
      "\n",
      "Explanation Type II: We suggested these jobs because people who applied to similar jobs to you in the past also applied. We look into your history you have applied to\n",
      "Job ID 149354 : Human Resources Assistant in Chicago-IL like 34 others,\n",
      "Job ID 272504 : Front Desk Dental Clinic Receptionist in Chicago-IL like 28 others,\n",
      "Job ID 601021 : Customer Service/Receptionist/Call Center Rep in Chicago-IL like 26 others in the past.\n",
      "\n",
      "Case: 49\n",
      "User profile: Your are user ID 30776 who live in Madison Heights, MI state. You have a Bachelor's specialized in Human Services with 13.0 years of experience. You have had 4 jobs in the past, and have never managed  other before.\n",
      "\n",
      "Explanation Type I: We suggested these jobs because you share similarities with people who also applied to these jobs. Out of 49, 10 people share your level of education (Bachelor's). Their average year of experience is within your level of 12.13 years (vs yours 13.0 years). You and 31 others also has never managed a team before.\n",
      "\n",
      "Explanation Type II: We suggested these jobs because people who applied to similar jobs to you in the past also applied. We look into your history you have applied to\n",
      "Job ID 330241 : Residential Social Workers in Detroit-MI like 19 others,\n",
      "Job ID 906232 : Front Desk/Data Entry/Billing in Livonia-MI like 19 others,\n",
      "Job ID 952876 : Point of Sale Clerk in Warren-MI like 18 others in the past.\n",
      "\n",
      "Case: 50\n",
      "User profile: Your are user ID 19941 who live in Gainesville, FL state. You have a Master's specialized in Industrial & Systems Engineering with 4.0 years of experience. You have had 3 jobs in the past, and have never managed  other before.\n",
      "\n",
      "Explanation Type I: We suggested these jobs because you share similarities with people who also applied to these jobs. Out of 49, 19 people share your level of education (Master's). Their average year of experience is within your level of 7.10 years (vs yours 4.0 years). You and 38 others also has never managed a team before.\n",
      "\n",
      "Explanation Type II: We suggested these jobs because people who applied to similar jobs to you in the past also applied. We look into your history you have applied to\n",
      "Job ID 150202 : Compliance Analyst in New York-NY like 21 others,\n",
      "Job ID 679359 : Business Analyst - Electronic Trading in New York-NY like 21 others,\n",
      "Job ID 850643 : Junior Analyst/Operations Specialist in New York-NY like 18 others in the past.\n"
     ]
    }
   ],
   "source": [
    "expl_list_user = get_explanation_user(inst_k_neighbors_list)\n",
    "expl_list_history = get_explanation_history(inst_k_neighbors_list, inst_k_neighbors_rating_list, 3)\n",
    "for idx, expl_user, expl_hist in zip(range(len(expl_list_history)), expl_list_user, expl_list_history):\n",
    "    print('Case:', idx)\n",
    "    print('User profile:', expl_user['user_profile'])\n",
    "    print('Explanation Type I:', expl_user['explanation'])\n",
    "    print('Explanation Type II:', expl_hist['explanation'])"
   ],
   "metadata": {
    "collapsed": false,
    "ExecuteTime": {
     "end_time": "2023-10-09T17:02:19.163209500Z",
     "start_time": "2023-10-09T17:02:18.319351400Z"
    }
   },
   "id": "6319dd65d7205dbb"
  }
 ],
 "metadata": {
  "kernelspec": {
   "display_name": "Python 3",
   "language": "python",
   "name": "python3"
  },
  "language_info": {
   "codemirror_mode": {
    "name": "ipython",
    "version": 2
   },
   "file_extension": ".py",
   "mimetype": "text/x-python",
   "name": "python",
   "nbconvert_exporter": "python",
   "pygments_lexer": "ipython2",
   "version": "2.7.6"
  }
 },
 "nbformat": 4,
 "nbformat_minor": 5
}
